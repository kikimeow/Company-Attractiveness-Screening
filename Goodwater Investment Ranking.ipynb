{
 "cells": [
  {
   "cell_type": "markdown",
   "metadata": {},
   "source": [
    "# Company Attractiveness Classification"
   ]
  },
  {
   "cell_type": "markdown",
   "metadata": {},
   "source": [
    "400 days of KPI data of 64 companies are used for classifying companies into two groups- \"Good Company\" & \"Bad Company.\"  The KPIs include:\n",
    "* Mobile Downloads- Number of downloads of the company's mobile app on a given day\n",
    "* Mobile MAUs - Number of people who used the company's app at least once in a given month\n",
    "* Web visits - Number of visits to teh company's website on a given day\n",
    "* Web rank- Number of visits to the company's website on a given day (lower is better)\n",
    "* Web MUVs - Number of unique visitors to the company's web site in a given month\n",
    "* Monthly sales - The comapny's revenue in a given month\n",
    "* FB likes - Number of likes on the company's Facebook page on a given day. <br>\n"
   ]
  },
  {
   "cell_type": "markdown",
   "metadata": {},
   "source": [
    "### Feature Engineering\n",
    "312 features are created to measure the investment opportunity of a company.  For the KPIs in the dataset, the higher the number, the better the company is.  The only exception is Web rank, where a lower number is better.  The KPIs are summarized using rolling averages.  A good company should exhibit three traits- Market dominance, Growth, and Consistency.   <br>\n",
    "\n",
    "\n",
    "**Market Dominance** <br>\n",
    "To assess market dominance, rank based measurements are calculated.  Companies are compared against each other for each of the KPIs.  \n",
    "\n",
    "**Growth** <br>\n",
    "To assess growth, we calculate how much the KPI has grown relative to historical average, and how much the KPI has grown relative to the current value.  The growth of the ranks of the various KPI metrics are also calculated.  \n",
    "<br>\n",
    "Example: <br>\n",
    "growth calc relative to historical value = (Web visits 5-day moving average-Web visits 90-day moving average) / Web visits 90-day moving average<br>\n",
    "A company with 1000 visits now and 10 visits before, had a 9x growth.  (1000-100)/10 = 9 <br>\n",
    "<br>\n",
    "growth calc relative to current value = (Web visits 5-day moving average-Web visits 90-day moving average) / Web visits 5-day moving average<br>\n",
    "A company with 1000 visits now and 10 visits before, has a size of growth of 0.9 of its current value. (1000-100)/1000 = 0.9 <br>\n",
    "<br>\n",
    "**Consistency** <br>\n",
    "To assess consistency, the changes of the KPI measurements between recent values and historical values should be small.  We want to identify companies that are leaders and maintain its leadership.  The direction of the changes in KPI also indicate if the performance of the companies have improved or worsened.  For an existing market leader, the company should have small changes in KPI measurements.  For an up-and-coming growth company, the company should see a positive improvement in KPI measurments.  \n",
    "<br>\n",
    "Example: <br>\n",
    "Web rank difference = Web rank difference(rolling 5 day average) - Web rank difference(rolling 90 day average) should be small. \n",
    "\n",
    "**Why is rolling averages used?**\n",
    "The advantage of rolling averages is that it smooths out some noise, and it is also easier to see the changes in a timeseries.  It is often useful to compare a short-term moving average against a longer-term moving average. In this analysis, the most recent observation of the moving averages are used for modeling. "
   ]
  },
  {
   "cell_type": "markdown",
   "metadata": {},
   "source": [
    "### Model\n"
   ]
  },
  {
   "cell_type": "markdown",
   "metadata": {},
   "source": [
    "A LightGBM model is run, with a train/test split of 20%.  There are only 64 observations in total, so designing a good validation methodology was difficult.  If cross-validation is used on top of the train/test split, there will not be enough observation in each fold to have a good model.  The model achieved a logloss of 0.12 and AUC of 1 on the entire set.  The logloss on the validation set is 0.07.  While training, the logloss between the training and validation set was small, so over-fitting the model was not a major concern.  The model performance should be improved if more data was used.  The feature importance of the model confirmed the intuition above regarding what constitutes a good company. The feature importance are detailed later in this notebook.  In general, the most important features are based on web visits, web rank, and web MUVs.  This is also due to the fact that other KPIs did not have data for all the companies.  "
   ]
  },
  {
   "cell_type": "code",
   "execution_count": 1,
   "metadata": {},
   "outputs": [],
   "source": [
    "import numpy as np\n",
    "import pandas as pd\n",
    "import os\n",
    "import matplotlib.pyplot as plt\n",
    "import seaborn as sns\n",
    "import lightgbm as lgb\n",
    "from sklearn.model_selection import train_test_split\n",
    "from sklearn.metrics import log_loss, roc_auc_score, roc_curve, auc\n",
    "\n",
    "%matplotlib inline"
   ]
  },
  {
   "cell_type": "code",
   "execution_count": 2,
   "metadata": {},
   "outputs": [
    {
     "name": "stdout",
     "output_type": "stream",
     "text": [
      "['Company Classification - data.csv', 'Company Classification - labels.csv']\n"
     ]
    }
   ],
   "source": [
    "print(os.listdir(\"./data\"))\n",
    "cwd = os.getcwd()\n",
    "data_folder = 'data'"
   ]
  },
  {
   "cell_type": "code",
   "execution_count": 3,
   "metadata": {},
   "outputs": [],
   "source": [
    "df_data = pd.read_csv(os.path.join(cwd, data_folder, 'Company Classification - data.csv'))\n",
    "df_label = pd.read_csv(os.path.join(cwd, data_folder, 'Company Classification - labels.csv'))\n",
    "df_data.name = \"df_data\"\n",
    "df_label.name = \"df_label\"\n",
    "df_data['Date'] = pd.to_datetime(df_data['Date'])"
   ]
  },
  {
   "cell_type": "markdown",
   "metadata": {},
   "source": [
    "#### Check Data"
   ]
  },
  {
   "cell_type": "code",
   "execution_count": 4,
   "metadata": {},
   "outputs": [
    {
     "name": "stdout",
     "output_type": "stream",
     "text": [
      "df_data (61538, 4)\n",
      "df_label (64, 2)\n"
     ]
    }
   ],
   "source": [
    "dfList = [df_data, df_label]\n",
    "for dfs in dfList:\n",
    "    print(dfs.name, dfs.shape)"
   ]
  },
  {
   "cell_type": "code",
   "execution_count": 5,
   "metadata": {},
   "outputs": [
    {
     "data": {
      "text/plain": [
       "0.5    0.421875\n",
       "0.0    0.328125\n",
       "1.0    0.250000\n",
       "Name: Label, dtype: float64"
      ]
     },
     "execution_count": 5,
     "metadata": {},
     "output_type": "execute_result"
    }
   ],
   "source": [
    "df_label[\"Label\"].value_counts(normalize= True)"
   ]
  },
  {
   "cell_type": "code",
   "execution_count": 6,
   "metadata": {},
   "outputs": [],
   "source": [
    "def data_summary(df):\n",
    "    '''print out information about dataframe\n",
    "    Argument: dataframe name\n",
    "    Return: dataframe with summary figures\n",
    "    '''\n",
    "    temp = pd.DataFrame(data = df.isnull().sum(axis=0))\n",
    "    temp.columns=['NA count']\n",
    "    temp['NA %'] = temp['NA count']/(df.shape[0])*100\n",
    "    temp['# unique vals'] = df.nunique(axis=0)\n",
    "    temp['dtype'] =  df.dtypes\n",
    "    #temp['dataset'] = df.name\n",
    "    \n",
    "    return temp"
   ]
  },
  {
   "cell_type": "code",
   "execution_count": 7,
   "metadata": {},
   "outputs": [
    {
     "data": {
      "text/html": [
       "<div>\n",
       "<style scoped>\n",
       "    .dataframe tbody tr th:only-of-type {\n",
       "        vertical-align: middle;\n",
       "    }\n",
       "\n",
       "    .dataframe tbody tr th {\n",
       "        vertical-align: top;\n",
       "    }\n",
       "\n",
       "    .dataframe thead th {\n",
       "        text-align: right;\n",
       "    }\n",
       "</style>\n",
       "<table border=\"1\" class=\"dataframe\">\n",
       "  <thead>\n",
       "    <tr style=\"text-align: right;\">\n",
       "      <th></th>\n",
       "      <th>NA count</th>\n",
       "      <th>NA %</th>\n",
       "      <th># unique vals</th>\n",
       "      <th>dtype</th>\n",
       "    </tr>\n",
       "  </thead>\n",
       "  <tbody>\n",
       "    <tr>\n",
       "      <th>Date</th>\n",
       "      <td>0</td>\n",
       "      <td>0.0</td>\n",
       "      <td>400</td>\n",
       "      <td>datetime64[ns]</td>\n",
       "    </tr>\n",
       "    <tr>\n",
       "      <th>Company</th>\n",
       "      <td>0</td>\n",
       "      <td>0.0</td>\n",
       "      <td>64</td>\n",
       "      <td>object</td>\n",
       "    </tr>\n",
       "    <tr>\n",
       "      <th>KPI</th>\n",
       "      <td>0</td>\n",
       "      <td>0.0</td>\n",
       "      <td>7</td>\n",
       "      <td>object</td>\n",
       "    </tr>\n",
       "    <tr>\n",
       "      <th>Value</th>\n",
       "      <td>0</td>\n",
       "      <td>0.0</td>\n",
       "      <td>33408</td>\n",
       "      <td>int64</td>\n",
       "    </tr>\n",
       "  </tbody>\n",
       "</table>\n",
       "</div>"
      ],
      "text/plain": [
       "         NA count  NA %  # unique vals           dtype\n",
       "Date            0   0.0            400  datetime64[ns]\n",
       "Company         0   0.0             64          object\n",
       "KPI             0   0.0              7          object\n",
       "Value           0   0.0          33408           int64"
      ]
     },
     "execution_count": 7,
     "metadata": {},
     "output_type": "execute_result"
    }
   ],
   "source": [
    "data_summary(df_data)"
   ]
  },
  {
   "cell_type": "code",
   "execution_count": 8,
   "metadata": {},
   "outputs": [
    {
     "data": {
      "text/plain": [
       "array(['FB likes', 'Web rank', 'Web visits', 'Mobile Downloads',\n",
       "       'Monthly sales', 'Web MUVs', 'Mobile MAUs'], dtype=object)"
      ]
     },
     "execution_count": 8,
     "metadata": {},
     "output_type": "execute_result"
    }
   ],
   "source": [
    "df_data['KPI'].unique()"
   ]
  },
  {
   "cell_type": "code",
   "execution_count": 9,
   "metadata": {},
   "outputs": [],
   "source": [
    "df_data = df_data.set_index('Company')"
   ]
  },
  {
   "cell_type": "markdown",
   "metadata": {},
   "source": [
    "#### Sort data"
   ]
  },
  {
   "cell_type": "code",
   "execution_count": 10,
   "metadata": {},
   "outputs": [],
   "source": [
    "df_data = df_data.sort_values(['Date', 'Company', 'KPI'], ascending=True)"
   ]
  },
  {
   "cell_type": "code",
   "execution_count": 11,
   "metadata": {},
   "outputs": [],
   "source": [
    "df_data = df_data.reset_index(drop = False)"
   ]
  },
  {
   "cell_type": "code",
   "execution_count": 12,
   "metadata": {},
   "outputs": [
    {
     "data": {
      "text/html": [
       "<div>\n",
       "<style scoped>\n",
       "    .dataframe tbody tr th:only-of-type {\n",
       "        vertical-align: middle;\n",
       "    }\n",
       "\n",
       "    .dataframe tbody tr th {\n",
       "        vertical-align: top;\n",
       "    }\n",
       "\n",
       "    .dataframe thead th {\n",
       "        text-align: right;\n",
       "    }\n",
       "</style>\n",
       "<table border=\"1\" class=\"dataframe\">\n",
       "  <thead>\n",
       "    <tr style=\"text-align: right;\">\n",
       "      <th></th>\n",
       "      <th>Company</th>\n",
       "      <th>Date</th>\n",
       "      <th>KPI</th>\n",
       "      <th>Value</th>\n",
       "    </tr>\n",
       "  </thead>\n",
       "  <tbody>\n",
       "    <tr>\n",
       "      <th>0</th>\n",
       "      <td>0216c5c3-c2aa-4c27-bd26-00aad7937899</td>\n",
       "      <td>2017-04-21</td>\n",
       "      <td>FB likes</td>\n",
       "      <td>87798</td>\n",
       "    </tr>\n",
       "    <tr>\n",
       "      <th>1</th>\n",
       "      <td>0216c5c3-c2aa-4c27-bd26-00aad7937899</td>\n",
       "      <td>2017-04-21</td>\n",
       "      <td>Web rank</td>\n",
       "      <td>92299</td>\n",
       "    </tr>\n",
       "    <tr>\n",
       "      <th>2</th>\n",
       "      <td>0216c5c3-c2aa-4c27-bd26-00aad7937899</td>\n",
       "      <td>2017-04-21</td>\n",
       "      <td>Web visits</td>\n",
       "      <td>13586</td>\n",
       "    </tr>\n",
       "    <tr>\n",
       "      <th>3</th>\n",
       "      <td>02d40d61-c402-46d2-bd04-96416674bcd2</td>\n",
       "      <td>2017-04-21</td>\n",
       "      <td>Mobile Downloads</td>\n",
       "      <td>53</td>\n",
       "    </tr>\n",
       "    <tr>\n",
       "      <th>4</th>\n",
       "      <td>02d40d61-c402-46d2-bd04-96416674bcd2</td>\n",
       "      <td>2017-04-21</td>\n",
       "      <td>Web rank</td>\n",
       "      <td>681314</td>\n",
       "    </tr>\n",
       "  </tbody>\n",
       "</table>\n",
       "</div>"
      ],
      "text/plain": [
       "                                Company       Date               KPI   Value\n",
       "0  0216c5c3-c2aa-4c27-bd26-00aad7937899 2017-04-21          FB likes   87798\n",
       "1  0216c5c3-c2aa-4c27-bd26-00aad7937899 2017-04-21          Web rank   92299\n",
       "2  0216c5c3-c2aa-4c27-bd26-00aad7937899 2017-04-21        Web visits   13586\n",
       "3  02d40d61-c402-46d2-bd04-96416674bcd2 2017-04-21  Mobile Downloads      53\n",
       "4  02d40d61-c402-46d2-bd04-96416674bcd2 2017-04-21          Web rank  681314"
      ]
     },
     "execution_count": 12,
     "metadata": {},
     "output_type": "execute_result"
    }
   ],
   "source": [
    "df_data.head()"
   ]
  },
  {
   "cell_type": "markdown",
   "metadata": {},
   "source": [
    "### Feature Engineering"
   ]
  },
  {
   "cell_type": "markdown",
   "metadata": {},
   "source": [
    "#### Process each KPI separately"
   ]
  },
  {
   "cell_type": "markdown",
   "metadata": {},
   "source": [
    "#### Define Helper Functions to generate the new features"
   ]
  },
  {
   "cell_type": "code",
   "execution_count": 13,
   "metadata": {},
   "outputs": [],
   "source": [
    "def getAggregation(df_data, KPI):\n",
    "    '''\n",
    "    Get aggregated features for the selected KPI\n",
    "    '''\n",
    "    \n",
    "    # filter dataset to the selected KPI and rename the column as the KPI name\n",
    "    subset = df_data[df_data[\"KPI\"] == KPI]\n",
    "    subset = subset.rename(columns = {'Value': KPI})\n",
    "    \n",
    "    # Get aggregated measures\n",
    "    summary = subset.groupby([\"Company\", \"KPI\"]).agg({KPI : ['count','sum', 'min', 'max', 'mean', 'median', 'std', 'first', 'last']})\n",
    "    summary.columns = ['_'.join(col).rstrip('_') for col in summary.columns.values]\n",
    "    summary = summary.reset_index()\n",
    "    summary = summary.set_index('Company')\n",
    "    \n",
    "    # Get date that reached maximum value of the selected KPI\n",
    "    maxDate = subset.loc[subset.groupby(\"Company\")[KPI].idxmax()]\n",
    "    maxDate = maxDate.set_index('Company')\n",
    "    maxDate = maxDate['Date']\n",
    "    summary[KPI+'_maxDate'] = maxDate\n",
    "    \n",
    "    # get date that reached minimum value of the selected KPI\n",
    "    minDate = subset.loc[subset.groupby(\"Company\")[KPI].idxmin()]\n",
    "    minDate = minDate.set_index('Company')\n",
    "    minDate = minDate['Date']\n",
    "    summary[KPI+'_minDate'] = minDate\n",
    "    \n",
    "    # Trending up?\n",
    "    summary[KPI+'_maxDate>minDate'] = np.where(summary[KPI+'_maxDate']>summary[KPI+'_minDate'], 1,0)\n",
    "    \n",
    "    # drop column KPI\n",
    "    summary = summary.drop(['KPI'], axis = 1)\n",
    "    \n",
    "    return summary\n",
    "    "
   ]
  },
  {
   "cell_type": "code",
   "execution_count": 14,
   "metadata": {},
   "outputs": [],
   "source": [
    "def rollingMean(df_data, KPI, period):\n",
    "    '''\n",
    "    Get the most recent rolling average of the selected KPI (single period)\n",
    "    '''\n",
    "    subset = df_data[df_data[\"KPI\"] == KPI]\n",
    "    summary = pd.DataFrame(subset.groupby('Company')['Value'].rolling(period).mean())\n",
    "    summary = summary.groupby('Company').last()\n",
    "    summary = summary.rename(columns = {'Value': str(KPI) + '_rollingMean_' + str(period)})\n",
    "    \n",
    "    return summary"
   ]
  },
  {
   "cell_type": "code",
   "execution_count": 15,
   "metadata": {},
   "outputs": [],
   "source": [
    "def rollingMeanMultiPeriods(df_data, periodList, KPI_df, KPI ):\n",
    "    '''\n",
    "    Get the most recent rolling averages of the selected KPI for \"multiple periods.\"\n",
    "    periodList should list from smallest to largest of 5 periods for use in getFeatures function\n",
    "    \n",
    "    '''\n",
    "    \n",
    "    for period in periodList:\n",
    "        rollingMeanTable = rollingMean(df_data, KPI, period)\n",
    "        KPI_df = KPI_df.merge(rollingMeanTable, left_index = True, right_index = True, how = 'left')\n",
    "        \n",
    "    return KPI_df"
   ]
  },
  {
   "cell_type": "code",
   "execution_count": 16,
   "metadata": {},
   "outputs": [],
   "source": [
    "def getFeatures(KPI_df, KPI, period):\n",
    "    '''\n",
    "    Generate other features that measures differences, growth, and ranking.\n",
    "    The periods has to match the period used in \n",
    "    rollingMeanMultiPeriods.  Periods should have a length of 5.  \n",
    "    Ex:\n",
    "    periodList = [5, 15, 30, 60, 90]  for Daily KPIs\n",
    "    periodList = [2,3,6,9,12] for Monthly KPIs\n",
    "    '''\n",
    "    # Differences between measures\n",
    "    KPI_df[KPI+'_diffLastFirst'] = KPI_df[KPI+'_last']-KPI_df[KPI+'_first']\n",
    "    KPI_df[KPI+'_diffMaxMin'] = KPI_df[KPI+'_max']-KPI_df[KPI+'_min']\n",
    "    KPI_df[KPI+'_diffMaxLast'] = KPI_df[KPI+'_max']-KPI_df[KPI+'_last']\n",
    "    KPI_df[KPI+'_diffMaxMinDate'] = (KPI_df[KPI+'_maxDate']-KPI_df[KPI+'_minDate']).dt.days\n",
    "    \n",
    "    # Growth Measurements (measure percentage of change)\n",
    "    KPI_df[KPI+'_LastFirstGrowth'] = KPI_df[KPI+'_diffLastFirst'] /KPI_df[KPI+'_first']\n",
    "    KPI_df[KPI+'_MaxMinGrowth'] = KPI_df[KPI+'_diffMaxMin'] /KPI_df[KPI+'_min']\n",
    "    KPI_df[KPI+'_MaxLastGrowth'] = KPI_df[KPI+'_diffMaxLast']/KPI_df[KPI+'_first']\n",
    "    \n",
    "    # Growth Measurements (measure percentage of change)\n",
    "    KPI_df[KPI+'_LastFirstGrowthL'] = KPI_df[KPI+'_diffLastFirst'] /KPI_df[KPI+'_last']\n",
    "    KPI_df[KPI+'_MaxMinGrowthL'] = KPI_df[KPI+'_diffMaxMin'] /KPI_df[KPI+'_max']\n",
    "    KPI_df[KPI+'_MaxLastGrowthL'] = KPI_df[KPI+'_diffMaxLast']/KPI_df[KPI+'_last']\n",
    "    \n",
    "    \n",
    "    # Average change per day between the Min and Max value\n",
    "    KPI_df[KPI+'_MaxMinGrowthDate'] = KPI_df[KPI+'_diffMaxMin']/ KPI_df[KPI+'_diffMaxMinDate']\n",
    "    \n",
    "    # Difference between first rolling period and each of the other rolling periods\n",
    "    KPI_df[KPI+'_diffRolling'+str(period[0])+'Rolling'+str(period[4])] = KPI_df[KPI+'_rollingMean_'+str(period[0])] - KPI_df[KPI+'_rollingMean_'+str(period[4])]\n",
    "    KPI_df[KPI+'_diffRolling'+str(period[0])+'Rolling'+str(period[3])] = KPI_df[KPI+'_rollingMean_'+str(period[0])] - KPI_df[KPI+'_rollingMean_'+str(period[3])]\n",
    "    KPI_df[KPI+'_diffRolling'+str(period[0])+'Rolling'+str(period[2])] = KPI_df[KPI+'_rollingMean_'+str(period[0])] - KPI_df[KPI+'_rollingMean_'+str(period[2])]\n",
    "    KPI_df[KPI+'_diffRolling'+str(period[0])+'Rolling'+str(period[1])] = KPI_df[KPI+'_rollingMean_'+str(period[0])] - KPI_df[KPI+'_rollingMean_'+str(period[1])]\n",
    "  \n",
    "    # Rank the rolling averages (compare across companies)\n",
    "    KPI_df[KPI+'_rankLast'] = KPI_df[KPI+'_last'].rank(ascending = False)\n",
    "    KPI_df[KPI+'_rankRolling'+str(period[0])] = KPI_df[KPI+'_rollingMean_'+str(period[0])].rank(ascending = False)\n",
    "    KPI_df[KPI+'_rankRolling'+str(period[1])] = KPI_df[KPI+'_rollingMean_'+str(period[1])].rank(ascending = False)\n",
    "    KPI_df[KPI+'_rankRolling'+str(period[2])] = KPI_df[KPI+'_rollingMean_'+str(period[2])].rank(ascending = False)\n",
    "    KPI_df[KPI+'_rankRolling'+str(period[3])] = KPI_df[KPI+'_rollingMean_'+str(period[3])].rank(ascending = False)\n",
    "    KPI_df[KPI+'_rankRolling'+str(period[4])] = KPI_df[KPI+'_rollingMean_'+str(period[4])].rank(ascending = False)\n",
    "\n",
    "    # Differences between the most recent rank compared to other rolling periods. \n",
    "    # Meausures if the ranks improve or worsen over time  \n",
    "    KPI_df[KPI+'_rankDiffLastRolling'+str(period[0])] = -KPI_df[KPI+'_rankLast'] + KPI_df[KPI+'_rankRolling'+str(period[0])] \n",
    "    KPI_df[KPI+'_rankDiffLastRolling'+str(period[1])] = -KPI_df[KPI+'_rankLast'] + KPI_df[KPI+'_rankRolling'+str(period[1])]\n",
    "    KPI_df[KPI+'_rankDiffLastRolling'+str(period[2])] = -KPI_df[KPI+'_rankLast'] + KPI_df[KPI+'_rankRolling'+str(period[2])]\n",
    "    KPI_df[KPI+'_rankDiffLastRolling'+str(period[3])] = -KPI_df[KPI+'_rankLast'] + KPI_df[KPI+'_rankRolling'+str(period[3])]\n",
    "    KPI_df[KPI+'_rankDiffLastRolling'+str(period[4])] = -KPI_df[KPI+'_rankLast'] + KPI_df[KPI+'_rankRolling'+str(period[4])]\n",
    "    \n",
    "    # Measures the percentage of change of Rankings in each rolling periods compared to the most recent period.\n",
    "    KPI_df[KPI+'_rankDiffGrowthLastRolling'+str(period[0])] = KPI_df[KPI+'_rankDiffLastRolling'+str(period[0])]/KPI_df[KPI+'_rankRolling'+str(period[0])] \n",
    "    KPI_df[KPI+'_rankDiffGrowthLastRolling'+str(period[1])] = KPI_df[KPI+'_rankDiffLastRolling'+str(period[1])]/KPI_df[KPI+'_rankRolling'+str(period[1])]\n",
    "    KPI_df[KPI+'_rankDiffGrowthLastRolling'+str(period[2])] = KPI_df[KPI+'_rankDiffLastRolling'+str(period[2])]/KPI_df[KPI+'_rankRolling'+str(period[2])]\n",
    "    KPI_df[KPI+'_rankDiffGrowthLastRolling'+str(period[3])] = KPI_df[KPI+'_rankDiffLastRolling'+str(period[3])]/KPI_df[KPI+'_rankRolling'+str(period[3])]\n",
    "    KPI_df[KPI+'_rankDiffGrowthLastRolling'+str(period[4])] = KPI_df[KPI+'_rankDiffLastRolling'+str(period[4])]/KPI_df[KPI+'_rankRolling'+str(period[4])]\n",
    "    \n",
    "    # Measures the percentage of change of Rankings in each rolling periods compared to the most recent period.\n",
    "    KPI_df[KPI+'_rankDiffGrowthLastRollingL'+str(period[0])] = KPI_df[KPI+'_rankDiffLastRolling'+str(period[0])]/KPI_df[KPI+'_rankLast']\n",
    "    KPI_df[KPI+'_rankDiffGrowthLastRollingL'+str(period[1])] = KPI_df[KPI+'_rankDiffLastRolling'+str(period[1])]/KPI_df[KPI+'_rankLast']\n",
    "    KPI_df[KPI+'_rankDiffGrowthLastRollingL'+str(period[2])] = KPI_df[KPI+'_rankDiffLastRolling'+str(period[2])]/KPI_df[KPI+'_rankLast']\n",
    "    KPI_df[KPI+'_rankDiffGrowthLastRollingL'+str(period[3])] = KPI_df[KPI+'_rankDiffLastRolling'+str(period[3])]/KPI_df[KPI+'_rankLast']\n",
    "    KPI_df[KPI+'_rankDiffGrowthLastRollingL'+str(period[4])] = KPI_df[KPI+'_rankDiffLastRolling'+str(period[4])]/KPI_df[KPI+'_rankLast']\n",
    "    \n",
    "    \n",
    "    return KPI_df"
   ]
  },
  {
   "cell_type": "markdown",
   "metadata": {},
   "source": [
    "### Mobile Downloads"
   ]
  },
  {
   "cell_type": "markdown",
   "metadata": {},
   "source": [
    "Number of downloads of the company's mobile app on a given day."
   ]
  },
  {
   "cell_type": "code",
   "execution_count": 17,
   "metadata": {},
   "outputs": [],
   "source": [
    "downloads = getAggregation(df_data, 'Mobile Downloads')"
   ]
  },
  {
   "cell_type": "code",
   "execution_count": 18,
   "metadata": {},
   "outputs": [
    {
     "data": {
      "text/plain": [
       "(26, 12)"
      ]
     },
     "execution_count": 18,
     "metadata": {},
     "output_type": "execute_result"
    }
   ],
   "source": [
    "downloads.shape"
   ]
  },
  {
   "cell_type": "code",
   "execution_count": 19,
   "metadata": {},
   "outputs": [
    {
     "data": {
      "text/html": [
       "<div>\n",
       "<style scoped>\n",
       "    .dataframe tbody tr th:only-of-type {\n",
       "        vertical-align: middle;\n",
       "    }\n",
       "\n",
       "    .dataframe tbody tr th {\n",
       "        vertical-align: top;\n",
       "    }\n",
       "\n",
       "    .dataframe thead th {\n",
       "        text-align: right;\n",
       "    }\n",
       "</style>\n",
       "<table border=\"1\" class=\"dataframe\">\n",
       "  <thead>\n",
       "    <tr style=\"text-align: right;\">\n",
       "      <th></th>\n",
       "      <th>NA count</th>\n",
       "      <th>NA %</th>\n",
       "      <th># unique vals</th>\n",
       "      <th>dtype</th>\n",
       "    </tr>\n",
       "  </thead>\n",
       "  <tbody>\n",
       "    <tr>\n",
       "      <th>Mobile Downloads_count</th>\n",
       "      <td>0</td>\n",
       "      <td>0.0</td>\n",
       "      <td>24</td>\n",
       "      <td>int64</td>\n",
       "    </tr>\n",
       "    <tr>\n",
       "      <th>Mobile Downloads_sum</th>\n",
       "      <td>0</td>\n",
       "      <td>0.0</td>\n",
       "      <td>26</td>\n",
       "      <td>int64</td>\n",
       "    </tr>\n",
       "    <tr>\n",
       "      <th>Mobile Downloads_min</th>\n",
       "      <td>0</td>\n",
       "      <td>0.0</td>\n",
       "      <td>20</td>\n",
       "      <td>int64</td>\n",
       "    </tr>\n",
       "    <tr>\n",
       "      <th>Mobile Downloads_max</th>\n",
       "      <td>0</td>\n",
       "      <td>0.0</td>\n",
       "      <td>26</td>\n",
       "      <td>int64</td>\n",
       "    </tr>\n",
       "    <tr>\n",
       "      <th>Mobile Downloads_mean</th>\n",
       "      <td>0</td>\n",
       "      <td>0.0</td>\n",
       "      <td>26</td>\n",
       "      <td>float64</td>\n",
       "    </tr>\n",
       "    <tr>\n",
       "      <th>Mobile Downloads_median</th>\n",
       "      <td>0</td>\n",
       "      <td>0.0</td>\n",
       "      <td>25</td>\n",
       "      <td>float64</td>\n",
       "    </tr>\n",
       "    <tr>\n",
       "      <th>Mobile Downloads_std</th>\n",
       "      <td>0</td>\n",
       "      <td>0.0</td>\n",
       "      <td>26</td>\n",
       "      <td>float64</td>\n",
       "    </tr>\n",
       "    <tr>\n",
       "      <th>Mobile Downloads_first</th>\n",
       "      <td>0</td>\n",
       "      <td>0.0</td>\n",
       "      <td>22</td>\n",
       "      <td>int64</td>\n",
       "    </tr>\n",
       "    <tr>\n",
       "      <th>Mobile Downloads_last</th>\n",
       "      <td>0</td>\n",
       "      <td>0.0</td>\n",
       "      <td>25</td>\n",
       "      <td>int64</td>\n",
       "    </tr>\n",
       "    <tr>\n",
       "      <th>Mobile Downloads_maxDate</th>\n",
       "      <td>0</td>\n",
       "      <td>0.0</td>\n",
       "      <td>25</td>\n",
       "      <td>datetime64[ns]</td>\n",
       "    </tr>\n",
       "    <tr>\n",
       "      <th>Mobile Downloads_minDate</th>\n",
       "      <td>0</td>\n",
       "      <td>0.0</td>\n",
       "      <td>25</td>\n",
       "      <td>datetime64[ns]</td>\n",
       "    </tr>\n",
       "    <tr>\n",
       "      <th>Mobile Downloads_maxDate&gt;minDate</th>\n",
       "      <td>0</td>\n",
       "      <td>0.0</td>\n",
       "      <td>2</td>\n",
       "      <td>int32</td>\n",
       "    </tr>\n",
       "  </tbody>\n",
       "</table>\n",
       "</div>"
      ],
      "text/plain": [
       "                                  NA count  NA %  # unique vals  \\\n",
       "Mobile Downloads_count                   0   0.0             24   \n",
       "Mobile Downloads_sum                     0   0.0             26   \n",
       "Mobile Downloads_min                     0   0.0             20   \n",
       "Mobile Downloads_max                     0   0.0             26   \n",
       "Mobile Downloads_mean                    0   0.0             26   \n",
       "Mobile Downloads_median                  0   0.0             25   \n",
       "Mobile Downloads_std                     0   0.0             26   \n",
       "Mobile Downloads_first                   0   0.0             22   \n",
       "Mobile Downloads_last                    0   0.0             25   \n",
       "Mobile Downloads_maxDate                 0   0.0             25   \n",
       "Mobile Downloads_minDate                 0   0.0             25   \n",
       "Mobile Downloads_maxDate>minDate         0   0.0              2   \n",
       "\n",
       "                                           dtype  \n",
       "Mobile Downloads_count                     int64  \n",
       "Mobile Downloads_sum                       int64  \n",
       "Mobile Downloads_min                       int64  \n",
       "Mobile Downloads_max                       int64  \n",
       "Mobile Downloads_mean                    float64  \n",
       "Mobile Downloads_median                  float64  \n",
       "Mobile Downloads_std                     float64  \n",
       "Mobile Downloads_first                     int64  \n",
       "Mobile Downloads_last                      int64  \n",
       "Mobile Downloads_maxDate          datetime64[ns]  \n",
       "Mobile Downloads_minDate          datetime64[ns]  \n",
       "Mobile Downloads_maxDate>minDate           int32  "
      ]
     },
     "execution_count": 19,
     "metadata": {},
     "output_type": "execute_result"
    }
   ],
   "source": [
    "data_summary(downloads)"
   ]
  },
  {
   "cell_type": "markdown",
   "metadata": {},
   "source": [
    "### Web Rank"
   ]
  },
  {
   "cell_type": "markdown",
   "metadata": {},
   "source": [
    "Number of visits to the company's website on a given day."
   ]
  },
  {
   "cell_type": "code",
   "execution_count": 20,
   "metadata": {},
   "outputs": [],
   "source": [
    "webRank = getAggregation(df_data, 'Web rank')\n",
    "webRank = rollingMeanMultiPeriods(df_data, [5, 15, 30, 60, 90], webRank, 'Web rank' )\n",
    "webRank = getFeatures(KPI_df = webRank, KPI = 'Web rank', period = [5, 15, 30, 60, 90])"
   ]
  },
  {
   "cell_type": "code",
   "execution_count": 21,
   "metadata": {},
   "outputs": [
    {
     "data": {
      "text/plain": [
       "(64, 53)"
      ]
     },
     "execution_count": 21,
     "metadata": {},
     "output_type": "execute_result"
    }
   ],
   "source": [
    "webRank.shape"
   ]
  },
  {
   "cell_type": "code",
   "execution_count": 22,
   "metadata": {},
   "outputs": [
    {
     "data": {
      "text/html": [
       "<div>\n",
       "<style scoped>\n",
       "    .dataframe tbody tr th:only-of-type {\n",
       "        vertical-align: middle;\n",
       "    }\n",
       "\n",
       "    .dataframe tbody tr th {\n",
       "        vertical-align: top;\n",
       "    }\n",
       "\n",
       "    .dataframe thead th {\n",
       "        text-align: right;\n",
       "    }\n",
       "</style>\n",
       "<table border=\"1\" class=\"dataframe\">\n",
       "  <thead>\n",
       "    <tr style=\"text-align: right;\">\n",
       "      <th></th>\n",
       "      <th>NA count</th>\n",
       "      <th>NA %</th>\n",
       "      <th># unique vals</th>\n",
       "      <th>dtype</th>\n",
       "    </tr>\n",
       "  </thead>\n",
       "  <tbody>\n",
       "    <tr>\n",
       "      <th>Web rank_rollingMean_30</th>\n",
       "      <td>3</td>\n",
       "      <td>4.6875</td>\n",
       "      <td>61</td>\n",
       "      <td>float64</td>\n",
       "    </tr>\n",
       "    <tr>\n",
       "      <th>Web rank_rollingMean_60</th>\n",
       "      <td>8</td>\n",
       "      <td>12.5000</td>\n",
       "      <td>56</td>\n",
       "      <td>float64</td>\n",
       "    </tr>\n",
       "    <tr>\n",
       "      <th>Web rank_rollingMean_90</th>\n",
       "      <td>11</td>\n",
       "      <td>17.1875</td>\n",
       "      <td>53</td>\n",
       "      <td>float64</td>\n",
       "    </tr>\n",
       "    <tr>\n",
       "      <th>Web rank_diffRolling5Rolling90</th>\n",
       "      <td>11</td>\n",
       "      <td>17.1875</td>\n",
       "      <td>53</td>\n",
       "      <td>float64</td>\n",
       "    </tr>\n",
       "    <tr>\n",
       "      <th>Web rank_diffRolling5Rolling60</th>\n",
       "      <td>8</td>\n",
       "      <td>12.5000</td>\n",
       "      <td>56</td>\n",
       "      <td>float64</td>\n",
       "    </tr>\n",
       "    <tr>\n",
       "      <th>Web rank_diffRolling5Rolling30</th>\n",
       "      <td>3</td>\n",
       "      <td>4.6875</td>\n",
       "      <td>61</td>\n",
       "      <td>float64</td>\n",
       "    </tr>\n",
       "    <tr>\n",
       "      <th>Web rank_rankRolling30</th>\n",
       "      <td>3</td>\n",
       "      <td>4.6875</td>\n",
       "      <td>61</td>\n",
       "      <td>float64</td>\n",
       "    </tr>\n",
       "    <tr>\n",
       "      <th>Web rank_rankRolling60</th>\n",
       "      <td>8</td>\n",
       "      <td>12.5000</td>\n",
       "      <td>56</td>\n",
       "      <td>float64</td>\n",
       "    </tr>\n",
       "    <tr>\n",
       "      <th>Web rank_rankRolling90</th>\n",
       "      <td>11</td>\n",
       "      <td>17.1875</td>\n",
       "      <td>53</td>\n",
       "      <td>float64</td>\n",
       "    </tr>\n",
       "    <tr>\n",
       "      <th>Web rank_rankDiffLastRolling30</th>\n",
       "      <td>3</td>\n",
       "      <td>4.6875</td>\n",
       "      <td>32</td>\n",
       "      <td>float64</td>\n",
       "    </tr>\n",
       "    <tr>\n",
       "      <th>Web rank_rankDiffLastRolling60</th>\n",
       "      <td>8</td>\n",
       "      <td>12.5000</td>\n",
       "      <td>29</td>\n",
       "      <td>float64</td>\n",
       "    </tr>\n",
       "    <tr>\n",
       "      <th>Web rank_rankDiffLastRolling90</th>\n",
       "      <td>11</td>\n",
       "      <td>17.1875</td>\n",
       "      <td>32</td>\n",
       "      <td>float64</td>\n",
       "    </tr>\n",
       "    <tr>\n",
       "      <th>Web rank_rankDiffGrowthLastRolling30</th>\n",
       "      <td>3</td>\n",
       "      <td>4.6875</td>\n",
       "      <td>58</td>\n",
       "      <td>float64</td>\n",
       "    </tr>\n",
       "    <tr>\n",
       "      <th>Web rank_rankDiffGrowthLastRolling60</th>\n",
       "      <td>8</td>\n",
       "      <td>12.5000</td>\n",
       "      <td>55</td>\n",
       "      <td>float64</td>\n",
       "    </tr>\n",
       "    <tr>\n",
       "      <th>Web rank_rankDiffGrowthLastRolling90</th>\n",
       "      <td>11</td>\n",
       "      <td>17.1875</td>\n",
       "      <td>51</td>\n",
       "      <td>float64</td>\n",
       "    </tr>\n",
       "    <tr>\n",
       "      <th>Web rank_rankDiffGrowthLastRollingL30</th>\n",
       "      <td>3</td>\n",
       "      <td>4.6875</td>\n",
       "      <td>58</td>\n",
       "      <td>float64</td>\n",
       "    </tr>\n",
       "    <tr>\n",
       "      <th>Web rank_rankDiffGrowthLastRollingL60</th>\n",
       "      <td>8</td>\n",
       "      <td>12.5000</td>\n",
       "      <td>55</td>\n",
       "      <td>float64</td>\n",
       "    </tr>\n",
       "    <tr>\n",
       "      <th>Web rank_rankDiffGrowthLastRollingL90</th>\n",
       "      <td>11</td>\n",
       "      <td>17.1875</td>\n",
       "      <td>51</td>\n",
       "      <td>float64</td>\n",
       "    </tr>\n",
       "  </tbody>\n",
       "</table>\n",
       "</div>"
      ],
      "text/plain": [
       "                                       NA count     NA %  # unique vals  \\\n",
       "Web rank_rollingMean_30                       3   4.6875             61   \n",
       "Web rank_rollingMean_60                       8  12.5000             56   \n",
       "Web rank_rollingMean_90                      11  17.1875             53   \n",
       "Web rank_diffRolling5Rolling90               11  17.1875             53   \n",
       "Web rank_diffRolling5Rolling60                8  12.5000             56   \n",
       "Web rank_diffRolling5Rolling30                3   4.6875             61   \n",
       "Web rank_rankRolling30                        3   4.6875             61   \n",
       "Web rank_rankRolling60                        8  12.5000             56   \n",
       "Web rank_rankRolling90                       11  17.1875             53   \n",
       "Web rank_rankDiffLastRolling30                3   4.6875             32   \n",
       "Web rank_rankDiffLastRolling60                8  12.5000             29   \n",
       "Web rank_rankDiffLastRolling90               11  17.1875             32   \n",
       "Web rank_rankDiffGrowthLastRolling30          3   4.6875             58   \n",
       "Web rank_rankDiffGrowthLastRolling60          8  12.5000             55   \n",
       "Web rank_rankDiffGrowthLastRolling90         11  17.1875             51   \n",
       "Web rank_rankDiffGrowthLastRollingL30         3   4.6875             58   \n",
       "Web rank_rankDiffGrowthLastRollingL60         8  12.5000             55   \n",
       "Web rank_rankDiffGrowthLastRollingL90        11  17.1875             51   \n",
       "\n",
       "                                         dtype  \n",
       "Web rank_rollingMean_30                float64  \n",
       "Web rank_rollingMean_60                float64  \n",
       "Web rank_rollingMean_90                float64  \n",
       "Web rank_diffRolling5Rolling90         float64  \n",
       "Web rank_diffRolling5Rolling60         float64  \n",
       "Web rank_diffRolling5Rolling30         float64  \n",
       "Web rank_rankRolling30                 float64  \n",
       "Web rank_rankRolling60                 float64  \n",
       "Web rank_rankRolling90                 float64  \n",
       "Web rank_rankDiffLastRolling30         float64  \n",
       "Web rank_rankDiffLastRolling60         float64  \n",
       "Web rank_rankDiffLastRolling90         float64  \n",
       "Web rank_rankDiffGrowthLastRolling30   float64  \n",
       "Web rank_rankDiffGrowthLastRolling60   float64  \n",
       "Web rank_rankDiffGrowthLastRolling90   float64  \n",
       "Web rank_rankDiffGrowthLastRollingL30  float64  \n",
       "Web rank_rankDiffGrowthLastRollingL60  float64  \n",
       "Web rank_rankDiffGrowthLastRollingL90  float64  "
      ]
     },
     "execution_count": 22,
     "metadata": {},
     "output_type": "execute_result"
    }
   ],
   "source": [
    "data_summary(webRank)[data_summary(webRank)['NA count'] > 0]"
   ]
  },
  {
   "cell_type": "markdown",
   "metadata": {},
   "source": [
    "### FB Likes"
   ]
  },
  {
   "cell_type": "markdown",
   "metadata": {},
   "source": [
    "Number of likes on the company's Facebook page on a given day."
   ]
  },
  {
   "cell_type": "code",
   "execution_count": 23,
   "metadata": {},
   "outputs": [],
   "source": [
    "fbLikes = getAggregation(df_data, 'FB likes')\n",
    "fbLikes = rollingMeanMultiPeriods(df_data, [5, 15, 30, 60, 90], fbLikes, 'FB likes' )\n",
    "fbLikes = getFeatures(KPI_df = fbLikes, KPI = 'FB likes', period = [5, 15, 30, 60, 90])"
   ]
  },
  {
   "cell_type": "code",
   "execution_count": 24,
   "metadata": {},
   "outputs": [
    {
     "data": {
      "text/plain": [
       "(60, 53)"
      ]
     },
     "execution_count": 24,
     "metadata": {},
     "output_type": "execute_result"
    }
   ],
   "source": [
    "fbLikes.shape"
   ]
  },
  {
   "cell_type": "code",
   "execution_count": 25,
   "metadata": {},
   "outputs": [
    {
     "data": {
      "text/html": [
       "<div>\n",
       "<style scoped>\n",
       "    .dataframe tbody tr th:only-of-type {\n",
       "        vertical-align: middle;\n",
       "    }\n",
       "\n",
       "    .dataframe tbody tr th {\n",
       "        vertical-align: top;\n",
       "    }\n",
       "\n",
       "    .dataframe thead th {\n",
       "        text-align: right;\n",
       "    }\n",
       "</style>\n",
       "<table border=\"1\" class=\"dataframe\">\n",
       "  <thead>\n",
       "    <tr style=\"text-align: right;\">\n",
       "      <th></th>\n",
       "      <th>NA count</th>\n",
       "      <th>NA %</th>\n",
       "      <th># unique vals</th>\n",
       "      <th>dtype</th>\n",
       "    </tr>\n",
       "  </thead>\n",
       "  <tbody>\n",
       "    <tr>\n",
       "      <th>FB likes_rollingMean_60</th>\n",
       "      <td>1</td>\n",
       "      <td>1.666667</td>\n",
       "      <td>59</td>\n",
       "      <td>float64</td>\n",
       "    </tr>\n",
       "    <tr>\n",
       "      <th>FB likes_rollingMean_90</th>\n",
       "      <td>12</td>\n",
       "      <td>20.000000</td>\n",
       "      <td>48</td>\n",
       "      <td>float64</td>\n",
       "    </tr>\n",
       "    <tr>\n",
       "      <th>FB likes_diffRolling5Rolling90</th>\n",
       "      <td>12</td>\n",
       "      <td>20.000000</td>\n",
       "      <td>48</td>\n",
       "      <td>float64</td>\n",
       "    </tr>\n",
       "    <tr>\n",
       "      <th>FB likes_diffRolling5Rolling60</th>\n",
       "      <td>1</td>\n",
       "      <td>1.666667</td>\n",
       "      <td>59</td>\n",
       "      <td>float64</td>\n",
       "    </tr>\n",
       "    <tr>\n",
       "      <th>FB likes_rankRolling60</th>\n",
       "      <td>1</td>\n",
       "      <td>1.666667</td>\n",
       "      <td>59</td>\n",
       "      <td>float64</td>\n",
       "    </tr>\n",
       "    <tr>\n",
       "      <th>FB likes_rankRolling90</th>\n",
       "      <td>12</td>\n",
       "      <td>20.000000</td>\n",
       "      <td>48</td>\n",
       "      <td>float64</td>\n",
       "    </tr>\n",
       "    <tr>\n",
       "      <th>FB likes_rankDiffLastRolling60</th>\n",
       "      <td>1</td>\n",
       "      <td>1.666667</td>\n",
       "      <td>4</td>\n",
       "      <td>float64</td>\n",
       "    </tr>\n",
       "    <tr>\n",
       "      <th>FB likes_rankDiffLastRolling90</th>\n",
       "      <td>12</td>\n",
       "      <td>20.000000</td>\n",
       "      <td>12</td>\n",
       "      <td>float64</td>\n",
       "    </tr>\n",
       "    <tr>\n",
       "      <th>FB likes_rankDiffGrowthLastRolling60</th>\n",
       "      <td>1</td>\n",
       "      <td>1.666667</td>\n",
       "      <td>16</td>\n",
       "      <td>float64</td>\n",
       "    </tr>\n",
       "    <tr>\n",
       "      <th>FB likes_rankDiffGrowthLastRolling90</th>\n",
       "      <td>12</td>\n",
       "      <td>20.000000</td>\n",
       "      <td>39</td>\n",
       "      <td>float64</td>\n",
       "    </tr>\n",
       "    <tr>\n",
       "      <th>FB likes_rankDiffGrowthLastRollingL60</th>\n",
       "      <td>1</td>\n",
       "      <td>1.666667</td>\n",
       "      <td>16</td>\n",
       "      <td>float64</td>\n",
       "    </tr>\n",
       "    <tr>\n",
       "      <th>FB likes_rankDiffGrowthLastRollingL90</th>\n",
       "      <td>12</td>\n",
       "      <td>20.000000</td>\n",
       "      <td>39</td>\n",
       "      <td>float64</td>\n",
       "    </tr>\n",
       "  </tbody>\n",
       "</table>\n",
       "</div>"
      ],
      "text/plain": [
       "                                       NA count       NA %  # unique vals  \\\n",
       "FB likes_rollingMean_60                       1   1.666667             59   \n",
       "FB likes_rollingMean_90                      12  20.000000             48   \n",
       "FB likes_diffRolling5Rolling90               12  20.000000             48   \n",
       "FB likes_diffRolling5Rolling60                1   1.666667             59   \n",
       "FB likes_rankRolling60                        1   1.666667             59   \n",
       "FB likes_rankRolling90                       12  20.000000             48   \n",
       "FB likes_rankDiffLastRolling60                1   1.666667              4   \n",
       "FB likes_rankDiffLastRolling90               12  20.000000             12   \n",
       "FB likes_rankDiffGrowthLastRolling60          1   1.666667             16   \n",
       "FB likes_rankDiffGrowthLastRolling90         12  20.000000             39   \n",
       "FB likes_rankDiffGrowthLastRollingL60         1   1.666667             16   \n",
       "FB likes_rankDiffGrowthLastRollingL90        12  20.000000             39   \n",
       "\n",
       "                                         dtype  \n",
       "FB likes_rollingMean_60                float64  \n",
       "FB likes_rollingMean_90                float64  \n",
       "FB likes_diffRolling5Rolling90         float64  \n",
       "FB likes_diffRolling5Rolling60         float64  \n",
       "FB likes_rankRolling60                 float64  \n",
       "FB likes_rankRolling90                 float64  \n",
       "FB likes_rankDiffLastRolling60         float64  \n",
       "FB likes_rankDiffLastRolling90         float64  \n",
       "FB likes_rankDiffGrowthLastRolling60   float64  \n",
       "FB likes_rankDiffGrowthLastRolling90   float64  \n",
       "FB likes_rankDiffGrowthLastRollingL60  float64  \n",
       "FB likes_rankDiffGrowthLastRollingL90  float64  "
      ]
     },
     "execution_count": 25,
     "metadata": {},
     "output_type": "execute_result"
    }
   ],
   "source": [
    "data_summary(fbLikes)[data_summary(fbLikes)['NA count'] > 0]"
   ]
  },
  {
   "cell_type": "markdown",
   "metadata": {},
   "source": [
    "### Mobile MAUs"
   ]
  },
  {
   "cell_type": "markdown",
   "metadata": {},
   "source": [
    "Number of people who used the company's app at least once in a given month"
   ]
  },
  {
   "cell_type": "code",
   "execution_count": 26,
   "metadata": {},
   "outputs": [],
   "source": [
    "mau = getAggregation(df_data, 'Mobile MAUs')\n",
    "mau = rollingMeanMultiPeriods(df_data, [2,3,4,5,6], mau, 'Mobile MAUs' )\n",
    "mau = getFeatures(KPI_df = mau, KPI = 'Mobile MAUs', period = [2,3,4,5,6])"
   ]
  },
  {
   "cell_type": "code",
   "execution_count": 27,
   "metadata": {},
   "outputs": [
    {
     "data": {
      "text/plain": [
       "(10, 53)"
      ]
     },
     "execution_count": 27,
     "metadata": {},
     "output_type": "execute_result"
    }
   ],
   "source": [
    "mau.shape"
   ]
  },
  {
   "cell_type": "code",
   "execution_count": 28,
   "metadata": {},
   "outputs": [
    {
     "data": {
      "text/html": [
       "<div>\n",
       "<style scoped>\n",
       "    .dataframe tbody tr th:only-of-type {\n",
       "        vertical-align: middle;\n",
       "    }\n",
       "\n",
       "    .dataframe tbody tr th {\n",
       "        vertical-align: top;\n",
       "    }\n",
       "\n",
       "    .dataframe thead th {\n",
       "        text-align: right;\n",
       "    }\n",
       "</style>\n",
       "<table border=\"1\" class=\"dataframe\">\n",
       "  <thead>\n",
       "    <tr style=\"text-align: right;\">\n",
       "      <th></th>\n",
       "      <th>NA count</th>\n",
       "      <th>NA %</th>\n",
       "      <th># unique vals</th>\n",
       "      <th>dtype</th>\n",
       "    </tr>\n",
       "  </thead>\n",
       "  <tbody>\n",
       "    <tr>\n",
       "      <th>Mobile MAUs_std</th>\n",
       "      <td>1</td>\n",
       "      <td>10.0</td>\n",
       "      <td>9</td>\n",
       "      <td>float64</td>\n",
       "    </tr>\n",
       "    <tr>\n",
       "      <th>Mobile MAUs_rollingMean_2</th>\n",
       "      <td>1</td>\n",
       "      <td>10.0</td>\n",
       "      <td>9</td>\n",
       "      <td>float64</td>\n",
       "    </tr>\n",
       "    <tr>\n",
       "      <th>Mobile MAUs_rollingMean_3</th>\n",
       "      <td>3</td>\n",
       "      <td>30.0</td>\n",
       "      <td>7</td>\n",
       "      <td>float64</td>\n",
       "    </tr>\n",
       "    <tr>\n",
       "      <th>Mobile MAUs_rollingMean_4</th>\n",
       "      <td>3</td>\n",
       "      <td>30.0</td>\n",
       "      <td>7</td>\n",
       "      <td>float64</td>\n",
       "    </tr>\n",
       "    <tr>\n",
       "      <th>Mobile MAUs_rollingMean_5</th>\n",
       "      <td>5</td>\n",
       "      <td>50.0</td>\n",
       "      <td>5</td>\n",
       "      <td>float64</td>\n",
       "    </tr>\n",
       "    <tr>\n",
       "      <th>Mobile MAUs_rollingMean_6</th>\n",
       "      <td>6</td>\n",
       "      <td>60.0</td>\n",
       "      <td>4</td>\n",
       "      <td>float64</td>\n",
       "    </tr>\n",
       "    <tr>\n",
       "      <th>Mobile MAUs_MaxMinGrowthDate</th>\n",
       "      <td>1</td>\n",
       "      <td>10.0</td>\n",
       "      <td>9</td>\n",
       "      <td>float64</td>\n",
       "    </tr>\n",
       "    <tr>\n",
       "      <th>Mobile MAUs_diffRolling2Rolling6</th>\n",
       "      <td>6</td>\n",
       "      <td>60.0</td>\n",
       "      <td>4</td>\n",
       "      <td>float64</td>\n",
       "    </tr>\n",
       "    <tr>\n",
       "      <th>Mobile MAUs_diffRolling2Rolling5</th>\n",
       "      <td>5</td>\n",
       "      <td>50.0</td>\n",
       "      <td>5</td>\n",
       "      <td>float64</td>\n",
       "    </tr>\n",
       "    <tr>\n",
       "      <th>Mobile MAUs_diffRolling2Rolling4</th>\n",
       "      <td>3</td>\n",
       "      <td>30.0</td>\n",
       "      <td>7</td>\n",
       "      <td>float64</td>\n",
       "    </tr>\n",
       "    <tr>\n",
       "      <th>Mobile MAUs_diffRolling2Rolling3</th>\n",
       "      <td>3</td>\n",
       "      <td>30.0</td>\n",
       "      <td>7</td>\n",
       "      <td>float64</td>\n",
       "    </tr>\n",
       "    <tr>\n",
       "      <th>Mobile MAUs_rankRolling2</th>\n",
       "      <td>1</td>\n",
       "      <td>10.0</td>\n",
       "      <td>9</td>\n",
       "      <td>float64</td>\n",
       "    </tr>\n",
       "    <tr>\n",
       "      <th>Mobile MAUs_rankRolling3</th>\n",
       "      <td>3</td>\n",
       "      <td>30.0</td>\n",
       "      <td>7</td>\n",
       "      <td>float64</td>\n",
       "    </tr>\n",
       "    <tr>\n",
       "      <th>Mobile MAUs_rankRolling4</th>\n",
       "      <td>3</td>\n",
       "      <td>30.0</td>\n",
       "      <td>7</td>\n",
       "      <td>float64</td>\n",
       "    </tr>\n",
       "    <tr>\n",
       "      <th>Mobile MAUs_rankRolling5</th>\n",
       "      <td>5</td>\n",
       "      <td>50.0</td>\n",
       "      <td>5</td>\n",
       "      <td>float64</td>\n",
       "    </tr>\n",
       "    <tr>\n",
       "      <th>Mobile MAUs_rankRolling6</th>\n",
       "      <td>6</td>\n",
       "      <td>60.0</td>\n",
       "      <td>4</td>\n",
       "      <td>float64</td>\n",
       "    </tr>\n",
       "    <tr>\n",
       "      <th>Mobile MAUs_rankDiffLastRolling2</th>\n",
       "      <td>1</td>\n",
       "      <td>10.0</td>\n",
       "      <td>3</td>\n",
       "      <td>float64</td>\n",
       "    </tr>\n",
       "    <tr>\n",
       "      <th>Mobile MAUs_rankDiffLastRolling3</th>\n",
       "      <td>3</td>\n",
       "      <td>30.0</td>\n",
       "      <td>3</td>\n",
       "      <td>float64</td>\n",
       "    </tr>\n",
       "    <tr>\n",
       "      <th>Mobile MAUs_rankDiffLastRolling4</th>\n",
       "      <td>3</td>\n",
       "      <td>30.0</td>\n",
       "      <td>3</td>\n",
       "      <td>float64</td>\n",
       "    </tr>\n",
       "    <tr>\n",
       "      <th>Mobile MAUs_rankDiffLastRolling5</th>\n",
       "      <td>5</td>\n",
       "      <td>50.0</td>\n",
       "      <td>3</td>\n",
       "      <td>float64</td>\n",
       "    </tr>\n",
       "    <tr>\n",
       "      <th>Mobile MAUs_rankDiffLastRolling6</th>\n",
       "      <td>6</td>\n",
       "      <td>60.0</td>\n",
       "      <td>3</td>\n",
       "      <td>float64</td>\n",
       "    </tr>\n",
       "    <tr>\n",
       "      <th>Mobile MAUs_rankDiffGrowthLastRolling2</th>\n",
       "      <td>1</td>\n",
       "      <td>10.0</td>\n",
       "      <td>4</td>\n",
       "      <td>float64</td>\n",
       "    </tr>\n",
       "    <tr>\n",
       "      <th>Mobile MAUs_rankDiffGrowthLastRolling3</th>\n",
       "      <td>3</td>\n",
       "      <td>30.0</td>\n",
       "      <td>7</td>\n",
       "      <td>float64</td>\n",
       "    </tr>\n",
       "    <tr>\n",
       "      <th>Mobile MAUs_rankDiffGrowthLastRolling4</th>\n",
       "      <td>3</td>\n",
       "      <td>30.0</td>\n",
       "      <td>7</td>\n",
       "      <td>float64</td>\n",
       "    </tr>\n",
       "    <tr>\n",
       "      <th>Mobile MAUs_rankDiffGrowthLastRolling5</th>\n",
       "      <td>5</td>\n",
       "      <td>50.0</td>\n",
       "      <td>5</td>\n",
       "      <td>float64</td>\n",
       "    </tr>\n",
       "    <tr>\n",
       "      <th>Mobile MAUs_rankDiffGrowthLastRolling6</th>\n",
       "      <td>6</td>\n",
       "      <td>60.0</td>\n",
       "      <td>4</td>\n",
       "      <td>float64</td>\n",
       "    </tr>\n",
       "    <tr>\n",
       "      <th>Mobile MAUs_rankDiffGrowthLastRollingL2</th>\n",
       "      <td>1</td>\n",
       "      <td>10.0</td>\n",
       "      <td>4</td>\n",
       "      <td>float64</td>\n",
       "    </tr>\n",
       "    <tr>\n",
       "      <th>Mobile MAUs_rankDiffGrowthLastRollingL3</th>\n",
       "      <td>3</td>\n",
       "      <td>30.0</td>\n",
       "      <td>7</td>\n",
       "      <td>float64</td>\n",
       "    </tr>\n",
       "    <tr>\n",
       "      <th>Mobile MAUs_rankDiffGrowthLastRollingL4</th>\n",
       "      <td>3</td>\n",
       "      <td>30.0</td>\n",
       "      <td>7</td>\n",
       "      <td>float64</td>\n",
       "    </tr>\n",
       "    <tr>\n",
       "      <th>Mobile MAUs_rankDiffGrowthLastRollingL5</th>\n",
       "      <td>5</td>\n",
       "      <td>50.0</td>\n",
       "      <td>5</td>\n",
       "      <td>float64</td>\n",
       "    </tr>\n",
       "    <tr>\n",
       "      <th>Mobile MAUs_rankDiffGrowthLastRollingL6</th>\n",
       "      <td>6</td>\n",
       "      <td>60.0</td>\n",
       "      <td>4</td>\n",
       "      <td>float64</td>\n",
       "    </tr>\n",
       "  </tbody>\n",
       "</table>\n",
       "</div>"
      ],
      "text/plain": [
       "                                         NA count  NA %  # unique vals  \\\n",
       "Mobile MAUs_std                                 1  10.0              9   \n",
       "Mobile MAUs_rollingMean_2                       1  10.0              9   \n",
       "Mobile MAUs_rollingMean_3                       3  30.0              7   \n",
       "Mobile MAUs_rollingMean_4                       3  30.0              7   \n",
       "Mobile MAUs_rollingMean_5                       5  50.0              5   \n",
       "Mobile MAUs_rollingMean_6                       6  60.0              4   \n",
       "Mobile MAUs_MaxMinGrowthDate                    1  10.0              9   \n",
       "Mobile MAUs_diffRolling2Rolling6                6  60.0              4   \n",
       "Mobile MAUs_diffRolling2Rolling5                5  50.0              5   \n",
       "Mobile MAUs_diffRolling2Rolling4                3  30.0              7   \n",
       "Mobile MAUs_diffRolling2Rolling3                3  30.0              7   \n",
       "Mobile MAUs_rankRolling2                        1  10.0              9   \n",
       "Mobile MAUs_rankRolling3                        3  30.0              7   \n",
       "Mobile MAUs_rankRolling4                        3  30.0              7   \n",
       "Mobile MAUs_rankRolling5                        5  50.0              5   \n",
       "Mobile MAUs_rankRolling6                        6  60.0              4   \n",
       "Mobile MAUs_rankDiffLastRolling2                1  10.0              3   \n",
       "Mobile MAUs_rankDiffLastRolling3                3  30.0              3   \n",
       "Mobile MAUs_rankDiffLastRolling4                3  30.0              3   \n",
       "Mobile MAUs_rankDiffLastRolling5                5  50.0              3   \n",
       "Mobile MAUs_rankDiffLastRolling6                6  60.0              3   \n",
       "Mobile MAUs_rankDiffGrowthLastRolling2          1  10.0              4   \n",
       "Mobile MAUs_rankDiffGrowthLastRolling3          3  30.0              7   \n",
       "Mobile MAUs_rankDiffGrowthLastRolling4          3  30.0              7   \n",
       "Mobile MAUs_rankDiffGrowthLastRolling5          5  50.0              5   \n",
       "Mobile MAUs_rankDiffGrowthLastRolling6          6  60.0              4   \n",
       "Mobile MAUs_rankDiffGrowthLastRollingL2         1  10.0              4   \n",
       "Mobile MAUs_rankDiffGrowthLastRollingL3         3  30.0              7   \n",
       "Mobile MAUs_rankDiffGrowthLastRollingL4         3  30.0              7   \n",
       "Mobile MAUs_rankDiffGrowthLastRollingL5         5  50.0              5   \n",
       "Mobile MAUs_rankDiffGrowthLastRollingL6         6  60.0              4   \n",
       "\n",
       "                                           dtype  \n",
       "Mobile MAUs_std                          float64  \n",
       "Mobile MAUs_rollingMean_2                float64  \n",
       "Mobile MAUs_rollingMean_3                float64  \n",
       "Mobile MAUs_rollingMean_4                float64  \n",
       "Mobile MAUs_rollingMean_5                float64  \n",
       "Mobile MAUs_rollingMean_6                float64  \n",
       "Mobile MAUs_MaxMinGrowthDate             float64  \n",
       "Mobile MAUs_diffRolling2Rolling6         float64  \n",
       "Mobile MAUs_diffRolling2Rolling5         float64  \n",
       "Mobile MAUs_diffRolling2Rolling4         float64  \n",
       "Mobile MAUs_diffRolling2Rolling3         float64  \n",
       "Mobile MAUs_rankRolling2                 float64  \n",
       "Mobile MAUs_rankRolling3                 float64  \n",
       "Mobile MAUs_rankRolling4                 float64  \n",
       "Mobile MAUs_rankRolling5                 float64  \n",
       "Mobile MAUs_rankRolling6                 float64  \n",
       "Mobile MAUs_rankDiffLastRolling2         float64  \n",
       "Mobile MAUs_rankDiffLastRolling3         float64  \n",
       "Mobile MAUs_rankDiffLastRolling4         float64  \n",
       "Mobile MAUs_rankDiffLastRolling5         float64  \n",
       "Mobile MAUs_rankDiffLastRolling6         float64  \n",
       "Mobile MAUs_rankDiffGrowthLastRolling2   float64  \n",
       "Mobile MAUs_rankDiffGrowthLastRolling3   float64  \n",
       "Mobile MAUs_rankDiffGrowthLastRolling4   float64  \n",
       "Mobile MAUs_rankDiffGrowthLastRolling5   float64  \n",
       "Mobile MAUs_rankDiffGrowthLastRolling6   float64  \n",
       "Mobile MAUs_rankDiffGrowthLastRollingL2  float64  \n",
       "Mobile MAUs_rankDiffGrowthLastRollingL3  float64  \n",
       "Mobile MAUs_rankDiffGrowthLastRollingL4  float64  \n",
       "Mobile MAUs_rankDiffGrowthLastRollingL5  float64  \n",
       "Mobile MAUs_rankDiffGrowthLastRollingL6  float64  "
      ]
     },
     "execution_count": 28,
     "metadata": {},
     "output_type": "execute_result"
    }
   ],
   "source": [
    "data_summary(mau)[data_summary(mau)['NA count'] > 0]"
   ]
  },
  {
   "cell_type": "markdown",
   "metadata": {},
   "source": [
    "### Web Visits"
   ]
  },
  {
   "cell_type": "markdown",
   "metadata": {},
   "source": [
    "Number of visits to teh company's website on a given day."
   ]
  },
  {
   "cell_type": "code",
   "execution_count": 29,
   "metadata": {},
   "outputs": [],
   "source": [
    "visits = getAggregation(df_data, 'Web visits')\n",
    "visits = rollingMeanMultiPeriods(df_data, [5, 15, 30, 60, 90], visits, 'Web visits' )\n",
    "visits = getFeatures(KPI_df = visits, KPI = 'Web visits', period = [5, 15, 30, 60, 90])"
   ]
  },
  {
   "cell_type": "code",
   "execution_count": 30,
   "metadata": {},
   "outputs": [
    {
     "data": {
      "text/plain": [
       "(64, 53)"
      ]
     },
     "execution_count": 30,
     "metadata": {},
     "output_type": "execute_result"
    }
   ],
   "source": [
    "visits.shape"
   ]
  },
  {
   "cell_type": "code",
   "execution_count": 31,
   "metadata": {},
   "outputs": [
    {
     "data": {
      "text/html": [
       "<div>\n",
       "<style scoped>\n",
       "    .dataframe tbody tr th:only-of-type {\n",
       "        vertical-align: middle;\n",
       "    }\n",
       "\n",
       "    .dataframe tbody tr th {\n",
       "        vertical-align: top;\n",
       "    }\n",
       "\n",
       "    .dataframe thead th {\n",
       "        text-align: right;\n",
       "    }\n",
       "</style>\n",
       "<table border=\"1\" class=\"dataframe\">\n",
       "  <thead>\n",
       "    <tr style=\"text-align: right;\">\n",
       "      <th></th>\n",
       "      <th>NA count</th>\n",
       "      <th>NA %</th>\n",
       "      <th># unique vals</th>\n",
       "      <th>dtype</th>\n",
       "    </tr>\n",
       "  </thead>\n",
       "  <tbody>\n",
       "    <tr>\n",
       "      <th>Web visits_LastFirstGrowth</th>\n",
       "      <td>3</td>\n",
       "      <td>4.6875</td>\n",
       "      <td>45</td>\n",
       "      <td>float64</td>\n",
       "    </tr>\n",
       "    <tr>\n",
       "      <th>Web visits_LastFirstGrowthL</th>\n",
       "      <td>3</td>\n",
       "      <td>4.6875</td>\n",
       "      <td>45</td>\n",
       "      <td>float64</td>\n",
       "    </tr>\n",
       "  </tbody>\n",
       "</table>\n",
       "</div>"
      ],
      "text/plain": [
       "                             NA count    NA %  # unique vals    dtype\n",
       "Web visits_LastFirstGrowth          3  4.6875             45  float64\n",
       "Web visits_LastFirstGrowthL         3  4.6875             45  float64"
      ]
     },
     "execution_count": 31,
     "metadata": {},
     "output_type": "execute_result"
    }
   ],
   "source": [
    "data_summary(visits)[data_summary(visits)['NA count'] > 0]"
   ]
  },
  {
   "cell_type": "markdown",
   "metadata": {},
   "source": [
    "### Monthly Sales"
   ]
  },
  {
   "cell_type": "markdown",
   "metadata": {},
   "source": [
    "The comapny's revenue in a given month"
   ]
  },
  {
   "cell_type": "code",
   "execution_count": 32,
   "metadata": {},
   "outputs": [],
   "source": [
    "sales = getAggregation(df_data, 'Monthly sales')\n",
    "sales = rollingMeanMultiPeriods(df_data, [2,3,6,9,12], sales, 'Monthly sales' )\n",
    "sales = getFeatures(KPI_df = sales, KPI = 'Monthly sales', period = [2,3,6,9,12])"
   ]
  },
  {
   "cell_type": "code",
   "execution_count": 33,
   "metadata": {},
   "outputs": [
    {
     "data": {
      "text/plain": [
       "(19, 53)"
      ]
     },
     "execution_count": 33,
     "metadata": {},
     "output_type": "execute_result"
    }
   ],
   "source": [
    "sales.shape"
   ]
  },
  {
   "cell_type": "code",
   "execution_count": 34,
   "metadata": {},
   "outputs": [
    {
     "data": {
      "text/html": [
       "<div>\n",
       "<style scoped>\n",
       "    .dataframe tbody tr th:only-of-type {\n",
       "        vertical-align: middle;\n",
       "    }\n",
       "\n",
       "    .dataframe tbody tr th {\n",
       "        vertical-align: top;\n",
       "    }\n",
       "\n",
       "    .dataframe thead th {\n",
       "        text-align: right;\n",
       "    }\n",
       "</style>\n",
       "<table border=\"1\" class=\"dataframe\">\n",
       "  <thead>\n",
       "    <tr style=\"text-align: right;\">\n",
       "      <th></th>\n",
       "      <th>NA count</th>\n",
       "      <th>NA %</th>\n",
       "      <th># unique vals</th>\n",
       "      <th>dtype</th>\n",
       "    </tr>\n",
       "  </thead>\n",
       "  <tbody>\n",
       "  </tbody>\n",
       "</table>\n",
       "</div>"
      ],
      "text/plain": [
       "Empty DataFrame\n",
       "Columns: [NA count, NA %, # unique vals, dtype]\n",
       "Index: []"
      ]
     },
     "execution_count": 34,
     "metadata": {},
     "output_type": "execute_result"
    }
   ],
   "source": [
    "data_summary(sales)[data_summary(sales)['NA count'] > 0]"
   ]
  },
  {
   "cell_type": "markdown",
   "metadata": {},
   "source": [
    "### Web MUVs"
   ]
  },
  {
   "cell_type": "markdown",
   "metadata": {},
   "source": [
    "Number of unique visitors to the company's web site in a given month"
   ]
  },
  {
   "cell_type": "code",
   "execution_count": 35,
   "metadata": {},
   "outputs": [],
   "source": [
    "muvs = getAggregation(df_data, 'Web MUVs')\n",
    "muvs = rollingMeanMultiPeriods(df_data, [2,3,6,9,11], muvs, 'Web MUVs' )\n",
    "muvs = getFeatures(KPI_df = muvs, KPI = 'Web MUVs', period = [2,3,6,9,11])"
   ]
  },
  {
   "cell_type": "code",
   "execution_count": 36,
   "metadata": {},
   "outputs": [
    {
     "data": {
      "text/plain": [
       "(64, 53)"
      ]
     },
     "execution_count": 36,
     "metadata": {},
     "output_type": "execute_result"
    }
   ],
   "source": [
    "muvs.shape"
   ]
  },
  {
   "cell_type": "code",
   "execution_count": 37,
   "metadata": {},
   "outputs": [
    {
     "data": {
      "text/html": [
       "<div>\n",
       "<style scoped>\n",
       "    .dataframe tbody tr th:only-of-type {\n",
       "        vertical-align: middle;\n",
       "    }\n",
       "\n",
       "    .dataframe tbody tr th {\n",
       "        vertical-align: top;\n",
       "    }\n",
       "\n",
       "    .dataframe thead th {\n",
       "        text-align: right;\n",
       "    }\n",
       "</style>\n",
       "<table border=\"1\" class=\"dataframe\">\n",
       "  <thead>\n",
       "    <tr style=\"text-align: right;\">\n",
       "      <th></th>\n",
       "      <th>NA count</th>\n",
       "      <th>NA %</th>\n",
       "      <th># unique vals</th>\n",
       "      <th>dtype</th>\n",
       "    </tr>\n",
       "  </thead>\n",
       "  <tbody>\n",
       "    <tr>\n",
       "      <th>Web MUVs_MaxLastGrowth</th>\n",
       "      <td>2</td>\n",
       "      <td>3.125</td>\n",
       "      <td>52</td>\n",
       "      <td>float64</td>\n",
       "    </tr>\n",
       "  </tbody>\n",
       "</table>\n",
       "</div>"
      ],
      "text/plain": [
       "                        NA count   NA %  # unique vals    dtype\n",
       "Web MUVs_MaxLastGrowth         2  3.125             52  float64"
      ]
     },
     "execution_count": 37,
     "metadata": {},
     "output_type": "execute_result"
    }
   ],
   "source": [
    "data_summary(muvs)[data_summary(muvs)['NA count'] > 0]"
   ]
  },
  {
   "cell_type": "markdown",
   "metadata": {},
   "source": [
    "### Merge Data Sets for Model Training"
   ]
  },
  {
   "cell_type": "markdown",
   "metadata": {},
   "source": [
    "#### Create a company dataframe to store the new features"
   ]
  },
  {
   "cell_type": "code",
   "execution_count": 38,
   "metadata": {},
   "outputs": [],
   "source": [
    "company = pd.DataFrame()\n",
    "company[\"Company\"] = df_data[\"Company\"].unique()\n",
    "company = company.set_index('Company')"
   ]
  },
  {
   "cell_type": "code",
   "execution_count": 39,
   "metadata": {},
   "outputs": [],
   "source": [
    "df_label['Label01'] =  np.where(df_label['Label'] == 1, 1, 0)\n",
    "df_label = df_label.set_index('Company')"
   ]
  },
  {
   "cell_type": "code",
   "execution_count": 40,
   "metadata": {},
   "outputs": [],
   "source": [
    "company = company.merge(df_label, left_index = True, right_index = True, how = 'left')\n",
    "company = company.merge(downloads, left_index = True, right_index = True, how = 'left')\n",
    "company = company.merge(webRank, left_index = True, right_index = True, how = 'left')\n",
    "company = company.merge(fbLikes, left_index = True, right_index = True, how = 'left')\n",
    "company = company.merge(mau, left_index = True, right_index = True, how = 'left')\n",
    "company = company.merge(visits, left_index = True, right_index = True, how = 'left')\n",
    "company = company.merge(sales, left_index = True, right_index = True, how = 'left')\n",
    "company = company.merge(muvs, left_index = True, right_index = True, how = 'left')"
   ]
  },
  {
   "cell_type": "code",
   "execution_count": 41,
   "metadata": {},
   "outputs": [
    {
     "data": {
      "text/plain": [
       "(64, 332)"
      ]
     },
     "execution_count": 41,
     "metadata": {},
     "output_type": "execute_result"
    }
   ],
   "source": [
    "company.shape"
   ]
  },
  {
   "cell_type": "markdown",
   "metadata": {},
   "source": [
    "#### Drop date columns (not needed for modeling)"
   ]
  },
  {
   "cell_type": "code",
   "execution_count": 42,
   "metadata": {},
   "outputs": [],
   "source": [
    "dateTimeCols = company.select_dtypes(include=['datetime64']).columns\n",
    "company = company.drop(dateTimeCols, axis = 1)"
   ]
  },
  {
   "cell_type": "code",
   "execution_count": 43,
   "metadata": {},
   "outputs": [
    {
     "data": {
      "text/plain": [
       "Index(['Mobile Downloads_maxDate', 'Mobile Downloads_minDate',\n",
       "       'Web rank_maxDate', 'Web rank_minDate', 'FB likes_maxDate',\n",
       "       'FB likes_minDate', 'Mobile MAUs_maxDate', 'Mobile MAUs_minDate',\n",
       "       'Web visits_maxDate', 'Web visits_minDate', 'Monthly sales_maxDate',\n",
       "       'Monthly sales_minDate', 'Web MUVs_maxDate', 'Web MUVs_minDate'],\n",
       "      dtype='object')"
      ]
     },
     "execution_count": 43,
     "metadata": {},
     "output_type": "execute_result"
    }
   ],
   "source": [
    "dateTimeCols"
   ]
  },
  {
   "cell_type": "markdown",
   "metadata": {},
   "source": [
    "#### Convert time delta columns to integers (model only takes int)"
   ]
  },
  {
   "cell_type": "code",
   "execution_count": 44,
   "metadata": {},
   "outputs": [],
   "source": [
    "timeDeltaCols = company.select_dtypes(include=['timedelta64']).columns\n",
    "for col in timeDeltaCols:\n",
    "    company[col] = company[col].dt.days"
   ]
  },
  {
   "cell_type": "markdown",
   "metadata": {},
   "source": [
    "#### Drop Overly Sparse Columns \n",
    "(Not really necessary for models with automatic feature selections, such as tree-based models)"
   ]
  },
  {
   "cell_type": "markdown",
   "metadata": {},
   "source": [
    "###### Drop column if less than 5 companies have data (7% of companies)"
   ]
  },
  {
   "cell_type": "code",
   "execution_count": 45,
   "metadata": {},
   "outputs": [
    {
     "data": {
      "text/plain": [
       "Index(['Mobile MAUs_rollingMean_6', 'Mobile MAUs_diffRolling2Rolling6',\n",
       "       'Mobile MAUs_rankRolling6', 'Mobile MAUs_rankDiffLastRolling6',\n",
       "       'Mobile MAUs_rankDiffGrowthLastRolling6',\n",
       "       'Mobile MAUs_rankDiffGrowthLastRollingL6'],\n",
       "      dtype='object')"
      ]
     },
     "execution_count": 45,
     "metadata": {},
     "output_type": "execute_result"
    }
   ],
   "source": [
    "sparse = company.notnull().sum(axis=0)\n",
    "sparseCols = sparse[sparse<5].index\n",
    "sparseCols"
   ]
  },
  {
   "cell_type": "code",
   "execution_count": 46,
   "metadata": {},
   "outputs": [],
   "source": [
    "company = company.drop(sparseCols, axis = 1)"
   ]
  },
  {
   "cell_type": "code",
   "execution_count": 47,
   "metadata": {},
   "outputs": [
    {
     "data": {
      "text/plain": [
       "(64, 312)"
      ]
     },
     "execution_count": 47,
     "metadata": {},
     "output_type": "execute_result"
    }
   ],
   "source": [
    "company.shape"
   ]
  },
  {
   "cell_type": "markdown",
   "metadata": {},
   "source": [
    "### Classification"
   ]
  },
  {
   "cell_type": "markdown",
   "metadata": {},
   "source": [
    "Classify between 1 (Good) and 0 (Bad)."
   ]
  },
  {
   "cell_type": "markdown",
   "metadata": {},
   "source": [
    "#### Establish Baseline"
   ]
  },
  {
   "cell_type": "markdown",
   "metadata": {},
   "source": [
    "Classifier should correctly identify Good companies at least 25% of the times"
   ]
  },
  {
   "cell_type": "code",
   "execution_count": 48,
   "metadata": {},
   "outputs": [
    {
     "data": {
      "text/plain": [
       "0.5    0.421875\n",
       "0.0    0.328125\n",
       "1.0    0.250000\n",
       "Name: Label, dtype: float64"
      ]
     },
     "execution_count": 48,
     "metadata": {},
     "output_type": "execute_result"
    }
   ],
   "source": [
    "df_label['Label'].value_counts(normalize = True)"
   ]
  },
  {
   "cell_type": "code",
   "execution_count": 49,
   "metadata": {},
   "outputs": [
    {
     "data": {
      "text/plain": [
       "0.5    27\n",
       "0.0    21\n",
       "1.0    16\n",
       "Name: Label, dtype: int64"
      ]
     },
     "execution_count": 49,
     "metadata": {},
     "output_type": "execute_result"
    }
   ],
   "source": [
    "df_label['Label'].value_counts()"
   ]
  },
  {
   "cell_type": "markdown",
   "metadata": {},
   "source": [
    "#### Split data into Train/Test set"
   ]
  },
  {
   "cell_type": "code",
   "execution_count": 50,
   "metadata": {},
   "outputs": [
    {
     "data": {
      "text/plain": [
       "Index(['Label', 'Label01', 'Mobile Downloads_count'], dtype='object')"
      ]
     },
     "execution_count": 50,
     "metadata": {},
     "output_type": "execute_result"
    }
   ],
   "source": [
    "company.columns[0:3]"
   ]
  },
  {
   "cell_type": "code",
   "execution_count": 51,
   "metadata": {},
   "outputs": [],
   "source": [
    "X = company.iloc[:,2:]\n",
    "y = company.iloc[:,1]\n",
    "X_train, X_test, y_train, y_test = train_test_split(X, y, test_size=0.20, random_state=123)"
   ]
  },
  {
   "cell_type": "code",
   "execution_count": 52,
   "metadata": {},
   "outputs": [],
   "source": [
    "train_data = lgb.Dataset(X_train, label= y_train)\n",
    "test_data = lgb.Dataset(X_test, label = y_test)"
   ]
  },
  {
   "cell_type": "code",
   "execution_count": 53,
   "metadata": {},
   "outputs": [],
   "source": [
    "def lgb_model(params):\n",
    "    lgb_model = lgb.train(params, train_data, valid_sets=[train_data, test_data], early_stopping_rounds=10, verbose_eval=1)\n",
    "    return lgb_model"
   ]
  },
  {
   "cell_type": "code",
   "execution_count": 54,
   "metadata": {},
   "outputs": [],
   "source": [
    "params = {\n",
    "    'objective':'binary',\n",
    "    'metric':['binary_logloss'],\n",
    "    'nthread':-1, \n",
    "    'train_metric': True,\n",
    "    'num_iterations':500,\n",
    "    'learning_rate': 0.03\n",
    "}"
   ]
  },
  {
   "cell_type": "code",
   "execution_count": 55,
   "metadata": {},
   "outputs": [
    {
     "name": "stderr",
     "output_type": "stream",
     "text": [
      "C:\\Users\\kikimeow\\Anaconda3\\envs\\tf\\lib\\site-packages\\lightgbm\\engine.py:98: UserWarning: Found `num_iterations` in params. Will use it instead of argument\n",
      "  warnings.warn(\"Found `{}` in params. Will use it instead of argument\".format(alias))\n"
     ]
    },
    {
     "name": "stdout",
     "output_type": "stream",
     "text": [
      "[1]\ttraining's binary_logloss: 0.678739\tvalid_1's binary_logloss: 0.667485\n",
      "Training until validation scores don't improve for 10 rounds.\n",
      "[2]\ttraining's binary_logloss: 0.665174\tvalid_1's binary_logloss: 0.643222\n",
      "[3]\ttraining's binary_logloss: 0.652387\tvalid_1's binary_logloss: 0.620249\n",
      "[4]\ttraining's binary_logloss: 0.64032\tvalid_1's binary_logloss: 0.598469\n",
      "[5]\ttraining's binary_logloss: 0.628921\tvalid_1's binary_logloss: 0.577795\n",
      "[6]\ttraining's binary_logloss: 0.618143\tvalid_1's binary_logloss: 0.558148\n",
      "[7]\ttraining's binary_logloss: 0.607944\tvalid_1's binary_logloss: 0.539459\n",
      "[8]\ttraining's binary_logloss: 0.598285\tvalid_1's binary_logloss: 0.521664\n",
      "[9]\ttraining's binary_logloss: 0.58913\tvalid_1's binary_logloss: 0.504703\n",
      "[10]\ttraining's binary_logloss: 0.580448\tvalid_1's binary_logloss: 0.488525\n",
      "[11]\ttraining's binary_logloss: 0.572209\tvalid_1's binary_logloss: 0.473081\n",
      "[12]\ttraining's binary_logloss: 0.564386\tvalid_1's binary_logloss: 0.458327\n",
      "[13]\ttraining's binary_logloss: 0.556954\tvalid_1's binary_logloss: 0.444222\n",
      "[14]\ttraining's binary_logloss: 0.54989\tvalid_1's binary_logloss: 0.430728\n",
      "[15]\ttraining's binary_logloss: 0.54317\tvalid_1's binary_logloss: 0.420641\n",
      "[16]\ttraining's binary_logloss: 0.536682\tvalid_1's binary_logloss: 0.408147\n",
      "[17]\ttraining's binary_logloss: 0.530477\tvalid_1's binary_logloss: 0.402285\n",
      "[18]\ttraining's binary_logloss: 0.524483\tvalid_1's binary_logloss: 0.390597\n",
      "[19]\ttraining's binary_logloss: 0.518713\tvalid_1's binary_logloss: 0.381892\n",
      "[20]\ttraining's binary_logloss: 0.513139\tvalid_1's binary_logloss: 0.3764\n",
      "[21]\ttraining's binary_logloss: 0.507728\tvalid_1's binary_logloss: 0.371396\n",
      "[22]\ttraining's binary_logloss: 0.502477\tvalid_1's binary_logloss: 0.361\n",
      "[23]\ttraining's binary_logloss: 0.497394\tvalid_1's binary_logloss: 0.356145\n",
      "[24]\ttraining's binary_logloss: 0.492491\tvalid_1's binary_logloss: 0.348617\n",
      "[25]\ttraining's binary_logloss: 0.487744\tvalid_1's binary_logloss: 0.33912\n",
      "[26]\ttraining's binary_logloss: 0.483093\tvalid_1's binary_logloss: 0.334805\n",
      "[27]\ttraining's binary_logloss: 0.478563\tvalid_1's binary_logloss: 0.330799\n",
      "[28]\ttraining's binary_logloss: 0.474226\tvalid_1's binary_logloss: 0.326824\n",
      "[29]\ttraining's binary_logloss: 0.469985\tvalid_1's binary_logloss: 0.318206\n",
      "[30]\ttraining's binary_logloss: 0.465866\tvalid_1's binary_logloss: 0.314649\n",
      "[31]\ttraining's binary_logloss: 0.461879\tvalid_1's binary_logloss: 0.311117\n",
      "[32]\ttraining's binary_logloss: 0.457958\tvalid_1's binary_logloss: 0.304135\n",
      "[33]\ttraining's binary_logloss: 0.454122\tvalid_1's binary_logloss: 0.297565\n",
      "[34]\ttraining's binary_logloss: 0.4504\tvalid_1's binary_logloss: 0.295436\n",
      "[35]\ttraining's binary_logloss: 0.44676\tvalid_1's binary_logloss: 0.292344\n",
      "[36]\ttraining's binary_logloss: 0.443216\tvalid_1's binary_logloss: 0.286023\n",
      "[37]\ttraining's binary_logloss: 0.439737\tvalid_1's binary_logloss: 0.280563\n",
      "[38]\ttraining's binary_logloss: 0.43635\tvalid_1's binary_logloss: 0.27473\n",
      "[39]\ttraining's binary_logloss: 0.433024\tvalid_1's binary_logloss: 0.272008\n",
      "[40]\ttraining's binary_logloss: 0.429761\tvalid_1's binary_logloss: 0.270314\n",
      "[41]\ttraining's binary_logloss: 0.426597\tvalid_1's binary_logloss: 0.264695\n",
      "[42]\ttraining's binary_logloss: 0.423497\tvalid_1's binary_logloss: 0.26225\n",
      "[43]\ttraining's binary_logloss: 0.42046\tvalid_1's binary_logloss: 0.256947\n",
      "[44]\ttraining's binary_logloss: 0.417483\tvalid_1's binary_logloss: 0.255495\n",
      "[45]\ttraining's binary_logloss: 0.414601\tvalid_1's binary_logloss: 0.250365\n",
      "[46]\ttraining's binary_logloss: 0.411743\tvalid_1's binary_logloss: 0.248204\n",
      "[47]\ttraining's binary_logloss: 0.408971\tvalid_1's binary_logloss: 0.243318\n",
      "[48]\ttraining's binary_logloss: 0.406247\tvalid_1's binary_logloss: 0.24207\n",
      "[49]\ttraining's binary_logloss: 0.403589\tvalid_1's binary_logloss: 0.2401\n",
      "[50]\ttraining's binary_logloss: 0.400974\tvalid_1's binary_logloss: 0.235454\n",
      "[51]\ttraining's binary_logloss: 0.398411\tvalid_1's binary_logloss: 0.231377\n",
      "[52]\ttraining's binary_logloss: 0.39592\tvalid_1's binary_logloss: 0.23031\n",
      "[53]\ttraining's binary_logloss: 0.393463\tvalid_1's binary_logloss: 0.228571\n",
      "[54]\ttraining's binary_logloss: 0.391048\tvalid_1's binary_logloss: 0.224216\n",
      "[55]\ttraining's binary_logloss: 0.388681\tvalid_1's binary_logloss: 0.220027\n",
      "[56]\ttraining's binary_logloss: 0.38638\tvalid_1's binary_logloss: 0.218445\n",
      "[57]\ttraining's binary_logloss: 0.384113\tvalid_1's binary_logloss: 0.217565\n",
      "[58]\ttraining's binary_logloss: 0.381895\tvalid_1's binary_logloss: 0.213516\n",
      "[59]\ttraining's binary_logloss: 0.379691\tvalid_1's binary_logloss: 0.21259\n",
      "[60]\ttraining's binary_logloss: 0.377525\tvalid_1's binary_logloss: 0.20877\n",
      "[61]\ttraining's binary_logloss: 0.375414\tvalid_1's binary_logloss: 0.207373\n",
      "[62]\ttraining's binary_logloss: 0.373336\tvalid_1's binary_logloss: 0.206619\n",
      "[63]\ttraining's binary_logloss: 0.371287\tvalid_1's binary_logloss: 0.205813\n",
      "[64]\ttraining's binary_logloss: 0.369269\tvalid_1's binary_logloss: 0.202231\n",
      "[65]\ttraining's binary_logloss: 0.367275\tvalid_1's binary_logloss: 0.198559\n",
      "[66]\ttraining's binary_logloss: 0.365325\tvalid_1's binary_logloss: 0.197877\n",
      "[67]\ttraining's binary_logloss: 0.363405\tvalid_1's binary_logloss: 0.196648\n",
      "[68]\ttraining's binary_logloss: 0.361509\tvalid_1's binary_logloss: 0.193134\n",
      "[69]\ttraining's binary_logloss: 0.359648\tvalid_1's binary_logloss: 0.192515\n",
      "[70]\ttraining's binary_logloss: 0.357806\tvalid_1's binary_logloss: 0.189271\n",
      "[71]\ttraining's binary_logloss: 0.355968\tvalid_1's binary_logloss: 0.188703\n",
      "[72]\ttraining's binary_logloss: 0.354187\tvalid_1's binary_logloss: 0.185462\n",
      "[73]\ttraining's binary_logloss: 0.352429\tvalid_1's binary_logloss: 0.184373\n",
      "[74]\ttraining's binary_logloss: 0.350682\tvalid_1's binary_logloss: 0.183381\n",
      "[75]\ttraining's binary_logloss: 0.348976\tvalid_1's binary_logloss: 0.183216\n",
      "[76]\ttraining's binary_logloss: 0.347267\tvalid_1's binary_logloss: 0.180058\n",
      "[77]\ttraining's binary_logloss: 0.345578\tvalid_1's binary_logloss: 0.179639\n",
      "[78]\ttraining's binary_logloss: 0.343915\tvalid_1's binary_logloss: 0.176788\n",
      "[79]\ttraining's binary_logloss: 0.342269\tvalid_1's binary_logloss: 0.176307\n",
      "[80]\ttraining's binary_logloss: 0.340648\tvalid_1's binary_logloss: 0.175334\n",
      "[81]\ttraining's binary_logloss: 0.339037\tvalid_1's binary_logloss: 0.175289\n",
      "[82]\ttraining's binary_logloss: 0.337442\tvalid_1's binary_logloss: 0.172334\n",
      "[83]\ttraining's binary_logloss: 0.335829\tvalid_1's binary_logloss: 0.171993\n",
      "[84]\ttraining's binary_logloss: 0.334287\tvalid_1's binary_logloss: 0.172002\n",
      "[85]\ttraining's binary_logloss: 0.332745\tvalid_1's binary_logloss: 0.16916\n",
      "[86]\ttraining's binary_logloss: 0.331192\tvalid_1's binary_logloss: 0.16887\n",
      "[87]\ttraining's binary_logloss: 0.329684\tvalid_1's binary_logloss: 0.166326\n",
      "[88]\ttraining's binary_logloss: 0.328212\tvalid_1's binary_logloss: 0.16597\n",
      "[89]\ttraining's binary_logloss: 0.326742\tvalid_1's binary_logloss: 0.165728\n",
      "[90]\ttraining's binary_logloss: 0.325262\tvalid_1's binary_logloss: 0.165827\n",
      "[91]\ttraining's binary_logloss: 0.323793\tvalid_1's binary_logloss: 0.163145\n",
      "[92]\ttraining's binary_logloss: 0.32237\tvalid_1's binary_logloss: 0.16227\n",
      "[93]\ttraining's binary_logloss: 0.320962\tvalid_1's binary_logloss: 0.161665\n",
      "[94]\ttraining's binary_logloss: 0.319565\tvalid_1's binary_logloss: 0.159089\n",
      "[95]\ttraining's binary_logloss: 0.318163\tvalid_1's binary_logloss: 0.159238\n",
      "[96]\ttraining's binary_logloss: 0.316771\tvalid_1's binary_logloss: 0.159074\n",
      "[97]\ttraining's binary_logloss: 0.315399\tvalid_1's binary_logloss: 0.159045\n",
      "[98]\ttraining's binary_logloss: 0.314055\tvalid_1's binary_logloss: 0.15679\n",
      "[99]\ttraining's binary_logloss: 0.312728\tvalid_1's binary_logloss: 0.154436\n",
      "[100]\ttraining's binary_logloss: 0.311384\tvalid_1's binary_logloss: 0.154653\n",
      "[101]\ttraining's binary_logloss: 0.31005\tvalid_1's binary_logloss: 0.154536\n",
      "[102]\ttraining's binary_logloss: 0.308745\tvalid_1's binary_logloss: 0.152153\n",
      "[103]\ttraining's binary_logloss: 0.307455\tvalid_1's binary_logloss: 0.152398\n",
      "[104]\ttraining's binary_logloss: 0.306167\tvalid_1's binary_logloss: 0.15231\n",
      "[105]\ttraining's binary_logloss: 0.304902\tvalid_1's binary_logloss: 0.150005\n",
      "[106]\ttraining's binary_logloss: 0.303645\tvalid_1's binary_logloss: 0.149187\n",
      "[107]\ttraining's binary_logloss: 0.302407\tvalid_1's binary_logloss: 0.149208\n",
      "[108]\ttraining's binary_logloss: 0.301173\tvalid_1's binary_logloss: 0.149489\n",
      "[109]\ttraining's binary_logloss: 0.299931\tvalid_1's binary_logloss: 0.149417\n",
      "[110]\ttraining's binary_logloss: 0.298726\tvalid_1's binary_logloss: 0.147194\n",
      "[111]\ttraining's binary_logloss: 0.29753\tvalid_1's binary_logloss: 0.145238\n",
      "[112]\ttraining's binary_logloss: 0.296335\tvalid_1's binary_logloss: 0.145205\n",
      "[113]\ttraining's binary_logloss: 0.295142\tvalid_1's binary_logloss: 0.145512\n",
      "[114]\ttraining's binary_logloss: 0.293981\tvalid_1's binary_logloss: 0.143384\n",
      "[115]\ttraining's binary_logloss: 0.292825\tvalid_1's binary_logloss: 0.143371\n",
      "[116]\ttraining's binary_logloss: 0.291678\tvalid_1's binary_logloss: 0.143697\n",
      "[117]\ttraining's binary_logloss: 0.29054\tvalid_1's binary_logloss: 0.141178\n",
      "[118]\ttraining's binary_logloss: 0.28942\tvalid_1's binary_logloss: 0.140416\n",
      "[119]\ttraining's binary_logloss: 0.288308\tvalid_1's binary_logloss: 0.140481\n",
      "[120]\ttraining's binary_logloss: 0.287195\tvalid_1's binary_logloss: 0.140481\n",
      "[121]\ttraining's binary_logloss: 0.286092\tvalid_1's binary_logloss: 0.140826\n",
      "[122]\ttraining's binary_logloss: 0.284996\tvalid_1's binary_logloss: 0.138804\n",
      "[123]\ttraining's binary_logloss: 0.283916\tvalid_1's binary_logloss: 0.13706\n",
      "[124]\ttraining's binary_logloss: 0.282832\tvalid_1's binary_logloss: 0.137085\n",
      "[125]\ttraining's binary_logloss: 0.281775\tvalid_1's binary_logloss: 0.137449\n",
      "[126]\ttraining's binary_logloss: 0.280717\tvalid_1's binary_logloss: 0.135625\n",
      "[127]\ttraining's binary_logloss: 0.279684\tvalid_1's binary_logloss: 0.13567\n",
      "[128]\ttraining's binary_logloss: 0.278645\tvalid_1's binary_logloss: 0.133767\n",
      "[129]\ttraining's binary_logloss: 0.277612\tvalid_1's binary_logloss: 0.134151\n",
      "[130]\ttraining's binary_logloss: 0.276593\tvalid_1's binary_logloss: 0.13423\n",
      "[131]\ttraining's binary_logloss: 0.275587\tvalid_1's binary_logloss: 0.134282\n",
      "[132]\ttraining's binary_logloss: 0.274587\tvalid_1's binary_logloss: 0.132435\n",
      "[133]\ttraining's binary_logloss: 0.273593\tvalid_1's binary_logloss: 0.13284\n",
      "[134]\ttraining's binary_logloss: 0.272612\tvalid_1's binary_logloss: 0.131268\n",
      "[135]\ttraining's binary_logloss: 0.271631\tvalid_1's binary_logloss: 0.131338\n",
      "[136]\ttraining's binary_logloss: 0.270657\tvalid_1's binary_logloss: 0.129149\n",
      "[137]\ttraining's binary_logloss: 0.269689\tvalid_1's binary_logloss: 0.128428\n",
      "[138]\ttraining's binary_logloss: 0.268734\tvalid_1's binary_logloss: 0.128835\n",
      "[139]\ttraining's binary_logloss: 0.267781\tvalid_1's binary_logloss: 0.128478\n",
      "[140]\ttraining's binary_logloss: 0.266843\tvalid_1's binary_logloss: 0.128565\n",
      "[141]\ttraining's binary_logloss: 0.265905\tvalid_1's binary_logloss: 0.12682\n",
      "[142]\ttraining's binary_logloss: 0.26498\tvalid_1's binary_logloss: 0.125366\n",
      "[143]\ttraining's binary_logloss: 0.26406\tvalid_1's binary_logloss: 0.125783\n",
      "[144]\ttraining's binary_logloss: 0.263145\tvalid_1's binary_logloss: 0.125885\n",
      "[145]\ttraining's binary_logloss: 0.262231\tvalid_1's binary_logloss: 0.125958\n",
      "[146]\ttraining's binary_logloss: 0.26133\tvalid_1's binary_logloss: 0.124276\n",
      "[147]\ttraining's binary_logloss: 0.260442\tvalid_1's binary_logloss: 0.124141\n",
      "[148]\ttraining's binary_logloss: 0.259558\tvalid_1's binary_logloss: 0.123447\n",
      "[149]\ttraining's binary_logloss: 0.258681\tvalid_1's binary_logloss: 0.123866\n",
      "[150]\ttraining's binary_logloss: 0.257789\tvalid_1's binary_logloss: 0.123139\n",
      "[151]\ttraining's binary_logloss: 0.256921\tvalid_1's binary_logloss: 0.122832\n",
      "[152]\ttraining's binary_logloss: 0.256062\tvalid_1's binary_logloss: 0.122718\n",
      "[153]\ttraining's binary_logloss: 0.255209\tvalid_1's binary_logloss: 0.122303\n",
      "[154]\ttraining's binary_logloss: 0.254362\tvalid_1's binary_logloss: 0.120959\n",
      "[155]\ttraining's binary_logloss: 0.253519\tvalid_1's binary_logloss: 0.12139\n",
      "[156]\ttraining's binary_logloss: 0.25267\tvalid_1's binary_logloss: 0.121516\n",
      "[157]\ttraining's binary_logloss: 0.251822\tvalid_1's binary_logloss: 0.120834\n",
      "[158]\ttraining's binary_logloss: 0.25099\tvalid_1's binary_logloss: 0.119409\n",
      "[159]\ttraining's binary_logloss: 0.250156\tvalid_1's binary_logloss: 0.119847\n",
      "[160]\ttraining's binary_logloss: 0.249334\tvalid_1's binary_logloss: 0.119934\n",
      "[161]\ttraining's binary_logloss: 0.248515\tvalid_1's binary_logloss: 0.12007\n",
      "[162]\ttraining's binary_logloss: 0.247704\tvalid_1's binary_logloss: 0.118517\n",
      "[163]\ttraining's binary_logloss: 0.246899\tvalid_1's binary_logloss: 0.118964\n",
      "[164]\ttraining's binary_logloss: 0.2461\tvalid_1's binary_logloss: 0.118061\n",
      "[165]\ttraining's binary_logloss: 0.245305\tvalid_1's binary_logloss: 0.117789\n",
      "[166]\ttraining's binary_logloss: 0.244517\tvalid_1's binary_logloss: 0.117941\n",
      "[167]\ttraining's binary_logloss: 0.24373\tvalid_1's binary_logloss: 0.117302\n",
      "[168]\ttraining's binary_logloss: 0.242933\tvalid_1's binary_logloss: 0.117755\n",
      "[169]\ttraining's binary_logloss: 0.242159\tvalid_1's binary_logloss: 0.116538\n",
      "[170]\ttraining's binary_logloss: 0.241396\tvalid_1's binary_logloss: 0.115879\n",
      "[171]\ttraining's binary_logloss: 0.240639\tvalid_1's binary_logloss: 0.11596\n",
      "[172]\ttraining's binary_logloss: 0.239876\tvalid_1's binary_logloss: 0.116114\n",
      "[173]\ttraining's binary_logloss: 0.239121\tvalid_1's binary_logloss: 0.114817\n",
      "[174]\ttraining's binary_logloss: 0.238354\tvalid_1's binary_logloss: 0.115275\n",
      "[175]\ttraining's binary_logloss: 0.237599\tvalid_1's binary_logloss: 0.114663\n",
      "[176]\ttraining's binary_logloss: 0.236861\tvalid_1's binary_logloss: 0.115123\n",
      "[177]\ttraining's binary_logloss: 0.236122\tvalid_1's binary_logloss: 0.114298\n",
      "[178]\ttraining's binary_logloss: 0.235384\tvalid_1's binary_logloss: 0.114065\n",
      "[179]\ttraining's binary_logloss: 0.234651\tvalid_1's binary_logloss: 0.114236\n",
      "[180]\ttraining's binary_logloss: 0.23393\tvalid_1's binary_logloss: 0.113108\n",
      "[181]\ttraining's binary_logloss: 0.233212\tvalid_1's binary_logloss: 0.112519\n",
      "[182]\ttraining's binary_logloss: 0.232483\tvalid_1's binary_logloss: 0.112985\n",
      "[183]\ttraining's binary_logloss: 0.231775\tvalid_1's binary_logloss: 0.113166\n",
      "[184]\ttraining's binary_logloss: 0.231065\tvalid_1's binary_logloss: 0.111762\n",
      "[185]\ttraining's binary_logloss: 0.23036\tvalid_1's binary_logloss: 0.111823\n",
      "[186]\ttraining's binary_logloss: 0.229657\tvalid_1's binary_logloss: 0.112293\n",
      "[187]\ttraining's binary_logloss: 0.228964\tvalid_1's binary_logloss: 0.112471\n",
      "[188]\ttraining's binary_logloss: 0.228274\tvalid_1's binary_logloss: 0.111293\n",
      "[189]\ttraining's binary_logloss: 0.227591\tvalid_1's binary_logloss: 0.111766\n",
      "[190]\ttraining's binary_logloss: 0.2269\tvalid_1's binary_logloss: 0.111194\n",
      "[191]\ttraining's binary_logloss: 0.226223\tvalid_1's binary_logloss: 0.110469\n",
      "[192]\ttraining's binary_logloss: 0.225548\tvalid_1's binary_logloss: 0.110269\n",
      "[193]\ttraining's binary_logloss: 0.224878\tvalid_1's binary_logloss: 0.110747\n",
      "[194]\ttraining's binary_logloss: 0.22421\tvalid_1's binary_logloss: 0.110939\n",
      "[195]\ttraining's binary_logloss: 0.223543\tvalid_1's binary_logloss: 0.110992\n",
      "[196]\ttraining's binary_logloss: 0.222885\tvalid_1's binary_logloss: 0.110438\n",
      "[197]\ttraining's binary_logloss: 0.222231\tvalid_1's binary_logloss: 0.109404\n",
      "[198]\ttraining's binary_logloss: 0.221581\tvalid_1's binary_logloss: 0.109884\n",
      "[199]\ttraining's binary_logloss: 0.220923\tvalid_1's binary_logloss: 0.110318\n",
      "[200]\ttraining's binary_logloss: 0.220279\tvalid_1's binary_logloss: 0.109214\n",
      "[201]\ttraining's binary_logloss: 0.219641\tvalid_1's binary_logloss: 0.109706\n",
      "[202]\ttraining's binary_logloss: 0.218998\tvalid_1's binary_logloss: 0.109906\n",
      "[203]\ttraining's binary_logloss: 0.218364\tvalid_1's binary_logloss: 0.109541\n",
      "[204]\ttraining's binary_logloss: 0.217739\tvalid_1's binary_logloss: 0.108247\n",
      "[205]\ttraining's binary_logloss: 0.217112\tvalid_1's binary_logloss: 0.108232\n",
      "[206]\ttraining's binary_logloss: 0.21649\tvalid_1's binary_logloss: 0.108664\n",
      "[207]\ttraining's binary_logloss: 0.215868\tvalid_1's binary_logloss: 0.107678\n",
      "[208]\ttraining's binary_logloss: 0.215252\tvalid_1's binary_logloss: 0.108168\n",
      "[209]\ttraining's binary_logloss: 0.214633\tvalid_1's binary_logloss: 0.10711\n",
      "[210]\ttraining's binary_logloss: 0.214016\tvalid_1's binary_logloss: 0.107313\n",
      "[211]\ttraining's binary_logloss: 0.213407\tvalid_1's binary_logloss: 0.107363\n",
      "[212]\ttraining's binary_logloss: 0.212803\tvalid_1's binary_logloss: 0.106718\n",
      "[213]\ttraining's binary_logloss: 0.212205\tvalid_1's binary_logloss: 0.107157\n",
      "[214]\ttraining's binary_logloss: 0.211594\tvalid_1's binary_logloss: 0.107652\n",
      "[215]\ttraining's binary_logloss: 0.210993\tvalid_1's binary_logloss: 0.106104\n",
      "[216]\ttraining's binary_logloss: 0.210394\tvalid_1's binary_logloss: 0.10609\n",
      "[217]\ttraining's binary_logloss: 0.209803\tvalid_1's binary_logloss: 0.105573\n",
      "[218]\ttraining's binary_logloss: 0.209216\tvalid_1's binary_logloss: 0.105817\n",
      "[219]\ttraining's binary_logloss: 0.208627\tvalid_1's binary_logloss: 0.105169\n",
      "[220]\ttraining's binary_logloss: 0.208042\tvalid_1's binary_logloss: 0.105648\n",
      "[221]\ttraining's binary_logloss: 0.207459\tvalid_1's binary_logloss: 0.105848\n",
      "[222]\ttraining's binary_logloss: 0.206871\tvalid_1's binary_logloss: 0.104601\n",
      "[223]\ttraining's binary_logloss: 0.206295\tvalid_1's binary_logloss: 0.103685\n",
      "[224]\ttraining's binary_logloss: 0.205724\tvalid_1's binary_logloss: 0.104125\n",
      "[225]\ttraining's binary_logloss: 0.205148\tvalid_1's binary_logloss: 0.104607\n",
      "[226]\ttraining's binary_logloss: 0.204579\tvalid_1's binary_logloss: 0.103614\n",
      "[227]\ttraining's binary_logloss: 0.204\tvalid_1's binary_logloss: 0.103583\n",
      "[228]\ttraining's binary_logloss: 0.203438\tvalid_1's binary_logloss: 0.103087\n",
      "[229]\ttraining's binary_logloss: 0.202878\tvalid_1's binary_logloss: 0.103296\n",
      "[230]\ttraining's binary_logloss: 0.202318\tvalid_1's binary_logloss: 0.103767\n",
      "[231]\ttraining's binary_logloss: 0.201756\tvalid_1's binary_logloss: 0.104096\n",
      "[232]\ttraining's binary_logloss: 0.201201\tvalid_1's binary_logloss: 0.103488\n",
      "[233]\ttraining's binary_logloss: 0.200652\tvalid_1's binary_logloss: 0.102287\n",
      "[234]\ttraining's binary_logloss: 0.200089\tvalid_1's binary_logloss: 0.102269\n",
      "[235]\ttraining's binary_logloss: 0.199544\tvalid_1's binary_logloss: 0.101305\n",
      "[236]\ttraining's binary_logloss: 0.198998\tvalid_1's binary_logloss: 0.101292\n",
      "[237]\ttraining's binary_logloss: 0.198455\tvalid_1's binary_logloss: 0.100816\n",
      "[238]\ttraining's binary_logloss: 0.197915\tvalid_1's binary_logloss: 0.101134\n",
      "[239]\ttraining's binary_logloss: 0.197371\tvalid_1's binary_logloss: 0.101589\n",
      "[240]\ttraining's binary_logloss: 0.196831\tvalid_1's binary_logloss: 0.101795\n",
      "[241]\ttraining's binary_logloss: 0.196292\tvalid_1's binary_logloss: 0.100938\n",
      "[242]\ttraining's binary_logloss: 0.19576\tvalid_1's binary_logloss: 0.100364\n",
      "[243]\ttraining's binary_logloss: 0.195234\tvalid_1's binary_logloss: 0.100563\n",
      "[244]\ttraining's binary_logloss: 0.194704\tvalid_1's binary_logloss: 0.100089\n",
      "[245]\ttraining's binary_logloss: 0.194176\tvalid_1's binary_logloss: 0.100537\n",
      "[246]\ttraining's binary_logloss: 0.193654\tvalid_1's binary_logloss: 0.0999713\n",
      "[247]\ttraining's binary_logloss: 0.193131\tvalid_1's binary_logloss: 0.100296\n",
      "[248]\ttraining's binary_logloss: 0.19261\tvalid_1's binary_logloss: 0.10032\n",
      "[249]\ttraining's binary_logloss: 0.192088\tvalid_1's binary_logloss: 0.0993799\n",
      "[250]\ttraining's binary_logloss: 0.191574\tvalid_1's binary_logloss: 0.0998082\n",
      "[251]\ttraining's binary_logloss: 0.191059\tvalid_1's binary_logloss: 0.100254\n",
      "[252]\ttraining's binary_logloss: 0.190546\tvalid_1's binary_logloss: 0.100317\n",
      "[253]\ttraining's binary_logloss: 0.190039\tvalid_1's binary_logloss: 0.0998465\n",
      "[254]\ttraining's binary_logloss: 0.189525\tvalid_1's binary_logloss: 0.0998753\n",
      "[255]\ttraining's binary_logloss: 0.189016\tvalid_1's binary_logloss: 0.0989386\n",
      "[256]\ttraining's binary_logloss: 0.188514\tvalid_1's binary_logloss: 0.0984029\n",
      "[257]\ttraining's binary_logloss: 0.18801\tvalid_1's binary_logloss: 0.0984412\n",
      "[258]\ttraining's binary_logloss: 0.187506\tvalid_1's binary_logloss: 0.0976244\n",
      "[259]\ttraining's binary_logloss: 0.187004\tvalid_1's binary_logloss: 0.0980497\n",
      "[260]\ttraining's binary_logloss: 0.18651\tvalid_1's binary_logloss: 0.098485\n",
      "[261]\ttraining's binary_logloss: 0.186012\tvalid_1's binary_logloss: 0.0975646\n",
      "[262]\ttraining's binary_logloss: 0.185521\tvalid_1's binary_logloss: 0.0975962\n",
      "[263]\ttraining's binary_logloss: 0.185028\tvalid_1's binary_logloss: 0.0970312\n",
      "[264]\ttraining's binary_logloss: 0.184537\tvalid_1's binary_logloss: 0.0973613\n",
      "[265]\ttraining's binary_logloss: 0.18405\tvalid_1's binary_logloss: 0.0968966\n",
      "[266]\ttraining's binary_logloss: 0.183558\tvalid_1's binary_logloss: 0.0973349\n",
      "[267]\ttraining's binary_logloss: 0.183073\tvalid_1's binary_logloss: 0.0975502\n",
      "[268]\ttraining's binary_logloss: 0.18259\tvalid_1's binary_logloss: 0.0971947\n",
      "[269]\ttraining's binary_logloss: 0.182108\tvalid_1's binary_logloss: 0.0964133\n",
      "[270]\ttraining's binary_logloss: 0.181634\tvalid_1's binary_logloss: 0.0966047\n",
      "[271]\ttraining's binary_logloss: 0.181154\tvalid_1's binary_logloss: 0.0954635\n",
      "[272]\ttraining's binary_logloss: 0.180679\tvalid_1's binary_logloss: 0.0949559\n",
      "[273]\ttraining's binary_logloss: 0.180202\tvalid_1's binary_logloss: 0.094996\n",
      "[274]\ttraining's binary_logloss: 0.179731\tvalid_1's binary_logloss: 0.094554\n",
      "[275]\ttraining's binary_logloss: 0.179257\tvalid_1's binary_logloss: 0.094971\n",
      "[276]\ttraining's binary_logloss: 0.178781\tvalid_1's binary_logloss: 0.0952966\n",
      "[277]\ttraining's binary_logloss: 0.178316\tvalid_1's binary_logloss: 0.0955081\n",
      "[278]\ttraining's binary_logloss: 0.177854\tvalid_1's binary_logloss: 0.0946304\n",
      "[279]\ttraining's binary_logloss: 0.177386\tvalid_1's binary_logloss: 0.095051\n",
      "[280]\ttraining's binary_logloss: 0.176928\tvalid_1's binary_logloss: 0.0954714\n",
      "[281]\ttraining's binary_logloss: 0.176467\tvalid_1's binary_logloss: 0.0954794\n",
      "[282]\ttraining's binary_logloss: 0.176008\tvalid_1's binary_logloss: 0.0943571\n",
      "[283]\ttraining's binary_logloss: 0.175552\tvalid_1's binary_logloss: 0.0936106\n",
      "[284]\ttraining's binary_logloss: 0.175098\tvalid_1's binary_logloss: 0.093127\n",
      "[285]\ttraining's binary_logloss: 0.174641\tvalid_1's binary_logloss: 0.0931674\n",
      "[286]\ttraining's binary_logloss: 0.174187\tvalid_1's binary_logloss: 0.0923094\n",
      "[287]\ttraining's binary_logloss: 0.17374\tvalid_1's binary_logloss: 0.0926344\n",
      "[288]\ttraining's binary_logloss: 0.173291\tvalid_1's binary_logloss: 0.0930435\n",
      "[289]\ttraining's binary_logloss: 0.17284\tvalid_1's binary_logloss: 0.0925986\n",
      "[290]\ttraining's binary_logloss: 0.17239\tvalid_1's binary_logloss: 0.0926401\n",
      "[291]\ttraining's binary_logloss: 0.171942\tvalid_1's binary_logloss: 0.0921078\n",
      "[292]\ttraining's binary_logloss: 0.171504\tvalid_1's binary_logloss: 0.0921806\n",
      "[293]\ttraining's binary_logloss: 0.171065\tvalid_1's binary_logloss: 0.092394\n",
      "[294]\ttraining's binary_logloss: 0.170628\tvalid_1's binary_logloss: 0.0919625\n",
      "[295]\ttraining's binary_logloss: 0.170181\tvalid_1's binary_logloss: 0.0923672\n",
      "[296]\ttraining's binary_logloss: 0.16975\tvalid_1's binary_logloss: 0.0926903\n",
      "[297]\ttraining's binary_logloss: 0.169313\tvalid_1's binary_logloss: 0.0922264\n",
      "[298]\ttraining's binary_logloss: 0.168883\tvalid_1's binary_logloss: 0.0922798\n",
      "[299]\ttraining's binary_logloss: 0.168445\tvalid_1's binary_logloss: 0.0914286\n",
      "[300]\ttraining's binary_logloss: 0.168017\tvalid_1's binary_logloss: 0.09072\n",
      "[301]\ttraining's binary_logloss: 0.16759\tvalid_1's binary_logloss: 0.0904123\n",
      "[302]\ttraining's binary_logloss: 0.167161\tvalid_1's binary_logloss: 0.0908111\n",
      "[303]\ttraining's binary_logloss: 0.166726\tvalid_1's binary_logloss: 0.0912225\n",
      "[304]\ttraining's binary_logloss: 0.166306\tvalid_1's binary_logloss: 0.0914063\n",
      "[305]\ttraining's binary_logloss: 0.165882\tvalid_1's binary_logloss: 0.090975\n",
      "[306]\ttraining's binary_logloss: 0.165461\tvalid_1's binary_logloss: 0.0910328\n",
      "[307]\ttraining's binary_logloss: 0.165039\tvalid_1's binary_logloss: 0.0901933\n",
      "[308]\ttraining's binary_logloss: 0.16462\tvalid_1's binary_logloss: 0.0896393\n",
      "[309]\ttraining's binary_logloss: 0.164207\tvalid_1's binary_logloss: 0.0900429\n",
      "[310]\ttraining's binary_logloss: 0.163791\tvalid_1's binary_logloss: 0.0904368\n",
      "[311]\ttraining's binary_logloss: 0.163377\tvalid_1's binary_logloss: 0.0900086\n",
      "[312]\ttraining's binary_logloss: 0.162963\tvalid_1's binary_logloss: 0.0902233\n",
      "[313]\ttraining's binary_logloss: 0.162557\tvalid_1's binary_logloss: 0.0906165\n",
      "[314]\ttraining's binary_logloss: 0.162146\tvalid_1's binary_logloss: 0.0909433\n",
      "[315]\ttraining's binary_logloss: 0.161734\tvalid_1's binary_logloss: 0.0904993\n",
      "[316]\ttraining's binary_logloss: 0.161328\tvalid_1's binary_logloss: 0.0902028\n",
      "[317]\ttraining's binary_logloss: 0.160924\tvalid_1's binary_logloss: 0.0895227\n",
      "[318]\ttraining's binary_logloss: 0.160517\tvalid_1's binary_logloss: 0.0895763\n",
      "[319]\ttraining's binary_logloss: 0.160107\tvalid_1's binary_logloss: 0.088762\n",
      "[320]\ttraining's binary_logloss: 0.159707\tvalid_1's binary_logloss: 0.0883369\n",
      "[321]\ttraining's binary_logloss: 0.1593\tvalid_1's binary_logloss: 0.0883935\n",
      "[322]\ttraining's binary_logloss: 0.158901\tvalid_1's binary_logloss: 0.0883117\n",
      "[323]\ttraining's binary_logloss: 0.158502\tvalid_1's binary_logloss: 0.0878928\n",
      "[324]\ttraining's binary_logloss: 0.158104\tvalid_1's binary_logloss: 0.0882757\n",
      "[325]\ttraining's binary_logloss: 0.157704\tvalid_1's binary_logloss: 0.0886048\n",
      "[326]\ttraining's binary_logloss: 0.157309\tvalid_1's binary_logloss: 0.088189\n",
      "[327]\ttraining's binary_logloss: 0.156918\tvalid_1's binary_logloss: 0.0882529\n",
      "[328]\ttraining's binary_logloss: 0.156524\tvalid_1's binary_logloss: 0.0874486\n",
      "[329]\ttraining's binary_logloss: 0.156138\tvalid_1's binary_logloss: 0.087038\n",
      "[330]\ttraining's binary_logloss: 0.155747\tvalid_1's binary_logloss: 0.0871048\n",
      "[331]\ttraining's binary_logloss: 0.155363\tvalid_1's binary_logloss: 0.0870218\n",
      "[332]\ttraining's binary_logloss: 0.154979\tvalid_1's binary_logloss: 0.0866173\n",
      "[333]\ttraining's binary_logloss: 0.154591\tvalid_1's binary_logloss: 0.0869887\n",
      "[334]\ttraining's binary_logloss: 0.154208\tvalid_1's binary_logloss: 0.0873132\n",
      "[335]\ttraining's binary_logloss: 0.153825\tvalid_1's binary_logloss: 0.0869196\n",
      "[336]\ttraining's binary_logloss: 0.153443\tvalid_1's binary_logloss: 0.0870194\n",
      "[337]\ttraining's binary_logloss: 0.153067\tvalid_1's binary_logloss: 0.0864992\n",
      "[338]\ttraining's binary_logloss: 0.152687\tvalid_1's binary_logloss: 0.0868873\n",
      "[339]\ttraining's binary_logloss: 0.152308\tvalid_1's binary_logloss: 0.0866261\n",
      "[340]\ttraining's binary_logloss: 0.151932\tvalid_1's binary_logloss: 0.086814\n",
      "[341]\ttraining's binary_logloss: 0.151558\tvalid_1's binary_logloss: 0.08602\n",
      "[342]\ttraining's binary_logloss: 0.15118\tvalid_1's binary_logloss: 0.0860966\n",
      "[343]\ttraining's binary_logloss: 0.150808\tvalid_1's binary_logloss: 0.0854551\n",
      "[344]\ttraining's binary_logloss: 0.150436\tvalid_1's binary_logloss: 0.085843\n",
      "[345]\ttraining's binary_logloss: 0.150063\tvalid_1's binary_logloss: 0.0862111\n",
      "[346]\ttraining's binary_logloss: 0.149691\tvalid_1's binary_logloss: 0.0857765\n",
      "[347]\ttraining's binary_logloss: 0.149323\tvalid_1's binary_logloss: 0.0859856\n",
      "[348]\ttraining's binary_logloss: 0.148958\tvalid_1's binary_logloss: 0.0863531\n",
      "[349]\ttraining's binary_logloss: 0.148589\tvalid_1's binary_logloss: 0.0853108\n",
      "[350]\ttraining's binary_logloss: 0.148226\tvalid_1's binary_logloss: 0.0856382\n",
      "[351]\ttraining's binary_logloss: 0.147864\tvalid_1's binary_logloss: 0.0852582\n",
      "[352]\ttraining's binary_logloss: 0.1475\tvalid_1's binary_logloss: 0.085331\n",
      "[353]\ttraining's binary_logloss: 0.147137\tvalid_1's binary_logloss: 0.0845561\n",
      "[354]\ttraining's binary_logloss: 0.146778\tvalid_1's binary_logloss: 0.0840617\n",
      "[355]\ttraining's binary_logloss: 0.146419\tvalid_1's binary_logloss: 0.0836645\n",
      "[356]\ttraining's binary_logloss: 0.146057\tvalid_1's binary_logloss: 0.0837353\n",
      "[357]\ttraining's binary_logloss: 0.145704\tvalid_1's binary_logloss: 0.0832542\n",
      "[358]\ttraining's binary_logloss: 0.145351\tvalid_1's binary_logloss: 0.0836106\n",
      "[359]\ttraining's binary_logloss: 0.144994\tvalid_1's binary_logloss: 0.0839383\n",
      "[360]\ttraining's binary_logloss: 0.144641\tvalid_1's binary_logloss: 0.0835395\n",
      "[361]\ttraining's binary_logloss: 0.144287\tvalid_1's binary_logloss: 0.083752\n",
      "[362]\ttraining's binary_logloss: 0.143937\tvalid_1's binary_logloss: 0.0841077\n",
      "[363]\ttraining's binary_logloss: 0.143585\tvalid_1's binary_logloss: 0.0836814\n",
      "[364]\ttraining's binary_logloss: 0.14324\tvalid_1's binary_logloss: 0.0838916\n",
      "[365]\ttraining's binary_logloss: 0.142891\tvalid_1's binary_logloss: 0.0832898\n",
      "[366]\ttraining's binary_logloss: 0.142546\tvalid_1's binary_logloss: 0.0830441\n",
      "[367]\ttraining's binary_logloss: 0.142202\tvalid_1's binary_logloss: 0.0834006\n",
      "[368]\ttraining's binary_logloss: 0.141858\tvalid_1's binary_logloss: 0.0837296\n",
      "[369]\ttraining's binary_logloss: 0.141516\tvalid_1's binary_logloss: 0.0833596\n",
      "[370]\ttraining's binary_logloss: 0.141176\tvalid_1's binary_logloss: 0.0834291\n",
      "[371]\ttraining's binary_logloss: 0.140828\tvalid_1's binary_logloss: 0.0826828\n",
      "[372]\ttraining's binary_logloss: 0.140489\tvalid_1's binary_logloss: 0.0822886\n",
      "[373]\ttraining's binary_logloss: 0.140148\tvalid_1's binary_logloss: 0.0823608\n",
      "[374]\ttraining's binary_logloss: 0.139813\tvalid_1's binary_logloss: 0.0823059\n",
      "[375]\ttraining's binary_logloss: 0.139476\tvalid_1's binary_logloss: 0.0819172\n",
      "[376]\ttraining's binary_logloss: 0.13914\tvalid_1's binary_logloss: 0.0822631\n",
      "[377]\ttraining's binary_logloss: 0.138809\tvalid_1's binary_logloss: 0.0823678\n",
      "[378]\ttraining's binary_logloss: 0.138476\tvalid_1's binary_logloss: 0.0827379\n",
      "[379]\ttraining's binary_logloss: 0.138144\tvalid_1's binary_logloss: 0.0820033\n",
      "[380]\ttraining's binary_logloss: 0.137809\tvalid_1's binary_logloss: 0.0820752\n",
      "[381]\ttraining's binary_logloss: 0.137477\tvalid_1's binary_logloss: 0.0814923\n",
      "[382]\ttraining's binary_logloss: 0.137149\tvalid_1's binary_logloss: 0.0811456\n",
      "[383]\ttraining's binary_logloss: 0.136818\tvalid_1's binary_logloss: 0.0814734\n",
      "[384]\ttraining's binary_logloss: 0.136493\tvalid_1's binary_logloss: 0.0818195\n",
      "[385]\ttraining's binary_logloss: 0.136166\tvalid_1's binary_logloss: 0.0813947\n",
      "[386]\ttraining's binary_logloss: 0.13584\tvalid_1's binary_logloss: 0.0816018\n",
      "[387]\ttraining's binary_logloss: 0.135519\tvalid_1's binary_logloss: 0.0811439\n",
      "[388]\ttraining's binary_logloss: 0.135195\tvalid_1's binary_logloss: 0.0801637\n",
      "[389]\ttraining's binary_logloss: 0.134871\tvalid_1's binary_logloss: 0.0802301\n",
      "[390]\ttraining's binary_logloss: 0.134551\tvalid_1's binary_logloss: 0.0795269\n",
      "[391]\ttraining's binary_logloss: 0.134233\tvalid_1's binary_logloss: 0.0798852\n",
      "[392]\ttraining's binary_logloss: 0.133908\tvalid_1's binary_logloss: 0.0802307\n",
      "[393]\ttraining's binary_logloss: 0.13359\tvalid_1's binary_logloss: 0.080011\n",
      "[394]\ttraining's binary_logloss: 0.133272\tvalid_1's binary_logloss: 0.0801591\n",
      "[395]\ttraining's binary_logloss: 0.132957\tvalid_1's binary_logloss: 0.0797781\n",
      "[396]\ttraining's binary_logloss: 0.132641\tvalid_1's binary_logloss: 0.0793311\n",
      "[397]\ttraining's binary_logloss: 0.132328\tvalid_1's binary_logloss: 0.0796503\n",
      "[398]\ttraining's binary_logloss: 0.132014\tvalid_1's binary_logloss: 0.0793156\n",
      "[399]\ttraining's binary_logloss: 0.131698\tvalid_1's binary_logloss: 0.0793907\n",
      "[400]\ttraining's binary_logloss: 0.131386\tvalid_1's binary_logloss: 0.0786902\n",
      "[401]\ttraining's binary_logloss: 0.131078\tvalid_1's binary_logloss: 0.0790759\n",
      "[402]\ttraining's binary_logloss: 0.130769\tvalid_1's binary_logloss: 0.0790348\n",
      "[403]\ttraining's binary_logloss: 0.130459\tvalid_1's binary_logloss: 0.0789861\n",
      "[404]\ttraining's binary_logloss: 0.130151\tvalid_1's binary_logloss: 0.0793414\n",
      "[405]\ttraining's binary_logloss: 0.129845\tvalid_1's binary_logloss: 0.0791373\n",
      "[406]\ttraining's binary_logloss: 0.129537\tvalid_1's binary_logloss: 0.0794729\n",
      "[407]\ttraining's binary_logloss: 0.129231\tvalid_1's binary_logloss: 0.0798047\n",
      "[408]\ttraining's binary_logloss: 0.128929\tvalid_1's binary_logloss: 0.0794216\n",
      "[409]\ttraining's binary_logloss: 0.128624\tvalid_1's binary_logloss: 0.0795001\n",
      "[410]\ttraining's binary_logloss: 0.12832\tvalid_1's binary_logloss: 0.0788005\n",
      "Early stopping, best iteration is:\n",
      "[400]\ttraining's binary_logloss: 0.131386\tvalid_1's binary_logloss: 0.0786902\n"
     ]
    }
   ],
   "source": [
    "gbm = lgb_model(params)"
   ]
  },
  {
   "cell_type": "code",
   "execution_count": 56,
   "metadata": {},
   "outputs": [],
   "source": [
    "gbm.save_model('model.txt', num_iteration=gbm.best_iteration)"
   ]
  },
  {
   "cell_type": "code",
   "execution_count": 57,
   "metadata": {},
   "outputs": [],
   "source": [
    "ypred = gbm.predict(X, num_iteration=gbm.best_iteration)"
   ]
  },
  {
   "cell_type": "markdown",
   "metadata": {},
   "source": [
    "#### Evaluation"
   ]
  },
  {
   "cell_type": "code",
   "execution_count": 58,
   "metadata": {},
   "outputs": [
    {
     "data": {
      "text/plain": [
       "0.12068230908761987"
      ]
     },
     "execution_count": 58,
     "metadata": {},
     "output_type": "execute_result"
    }
   ],
   "source": [
    "log_loss(y.values, ypred)"
   ]
  },
  {
   "cell_type": "code",
   "execution_count": 59,
   "metadata": {},
   "outputs": [
    {
     "data": {
      "text/plain": [
       "1.0"
      ]
     },
     "execution_count": 59,
     "metadata": {},
     "output_type": "execute_result"
    }
   ],
   "source": [
    "roc_auc_score(y.values, ypred)"
   ]
  },
  {
   "cell_type": "code",
   "execution_count": 60,
   "metadata": {},
   "outputs": [
    {
     "data": {
      "image/png": "[encoded data removed]",
      "text/plain": [
       "<matplotlib.figure.Figure at 0x23a9c7c2cc0>"
      ]
     },
     "metadata": {},
     "output_type": "display_data"
    }
   ],
   "source": [
    "fpr, tpr, thresholds = roc_curve(y.values, ypred)\n",
    "plt.figure()\n",
    "lw = 2\n",
    "plt.plot(fpr, tpr, color='darkorange',\n",
    "         lw=lw, label='ROC curve (area = %0.2f)' % roc_auc_score(y.values, ypred))\n",
    "plt.plot([0, 1], [0, 1], color='navy', lw=lw, linestyle='--')\n",
    "plt.xlim([0.0, 1.0])\n",
    "plt.ylim([0.0, 1.05])\n",
    "plt.xlabel('False Positive Rate')\n",
    "plt.ylabel('True Positive Rate')\n",
    "plt.title('Receiver operating characteristic example')\n",
    "plt.legend(loc=\"lower right\")\n",
    "plt.show()"
   ]
  },
  {
   "cell_type": "markdown",
   "metadata": {},
   "source": [
    "#### Feature Importance"
   ]
  },
  {
   "cell_type": "code",
   "execution_count": 61,
   "metadata": {},
   "outputs": [
    {
     "data": {
      "text/plain": [
       "<matplotlib.axes._subplots.AxesSubplot at 0x23a9c8e4358>"
      ]
     },
     "execution_count": 61,
     "metadata": {},
     "output_type": "execute_result"
    },
    {
     "data": {
      "image/png": "[encoded data removed]",
      "text/plain": [
       "<matplotlib.figure.Figure at 0x23a9c7b86a0>"
      ]
     },
     "metadata": {},
     "output_type": "display_data"
    }
   ],
   "source": [
    "lgb.plot_importance(gbm, max_num_features=20)"
   ]
  },
  {
   "cell_type": "code",
   "execution_count": 62,
   "metadata": {},
   "outputs": [],
   "source": [
    "importance = pd.DataFrame()\n",
    "importance['features'] = gbm.feature_name()\n",
    "importance['importance'] = gbm.feature_importance(importance_type='split', iteration=-1)"
   ]
  },
  {
   "cell_type": "code",
   "execution_count": 63,
   "metadata": {},
   "outputs": [
    {
     "data": {
      "text/html": [
       "<div>\n",
       "<style scoped>\n",
       "    .dataframe tbody tr th:only-of-type {\n",
       "        vertical-align: middle;\n",
       "    }\n",
       "\n",
       "    .dataframe tbody tr th {\n",
       "        vertical-align: top;\n",
       "    }\n",
       "\n",
       "    .dataframe thead th {\n",
       "        text-align: right;\n",
       "    }\n",
       "</style>\n",
       "<table border=\"1\" class=\"dataframe\">\n",
       "  <thead>\n",
       "    <tr style=\"text-align: right;\">\n",
       "      <th></th>\n",
       "      <th>features</th>\n",
       "      <th>importance</th>\n",
       "    </tr>\n",
       "  </thead>\n",
       "  <tbody>\n",
       "    <tr>\n",
       "      <th>0</th>\n",
       "      <td>Web_visits_rankDiffGrowthLastRolling5</td>\n",
       "      <td>56</td>\n",
       "    </tr>\n",
       "    <tr>\n",
       "      <th>1</th>\n",
       "      <td>Web_rank_diffRolling5Rolling15</td>\n",
       "      <td>42</td>\n",
       "    </tr>\n",
       "    <tr>\n",
       "      <th>2</th>\n",
       "      <td>Web_MUVs_rankDiffLastRolling9</td>\n",
       "      <td>36</td>\n",
       "    </tr>\n",
       "    <tr>\n",
       "      <th>3</th>\n",
       "      <td>Web_visits_diffRolling5Rolling60</td>\n",
       "      <td>31</td>\n",
       "    </tr>\n",
       "    <tr>\n",
       "      <th>4</th>\n",
       "      <td>Web_MUVs_last</td>\n",
       "      <td>31</td>\n",
       "    </tr>\n",
       "    <tr>\n",
       "      <th>5</th>\n",
       "      <td>Web_rank_MaxLastGrowth</td>\n",
       "      <td>27</td>\n",
       "    </tr>\n",
       "    <tr>\n",
       "      <th>6</th>\n",
       "      <td>Web_rank_rankDiffLastRolling90</td>\n",
       "      <td>26</td>\n",
       "    </tr>\n",
       "    <tr>\n",
       "      <th>7</th>\n",
       "      <td>Web_rank_rollingMean_5</td>\n",
       "      <td>24</td>\n",
       "    </tr>\n",
       "    <tr>\n",
       "      <th>8</th>\n",
       "      <td>FB_likes_diffRolling5Rolling60</td>\n",
       "      <td>22</td>\n",
       "    </tr>\n",
       "    <tr>\n",
       "      <th>9</th>\n",
       "      <td>Web_visits_rollingMean_90</td>\n",
       "      <td>22</td>\n",
       "    </tr>\n",
       "    <tr>\n",
       "      <th>10</th>\n",
       "      <td>Web_MUVs_rankDiffLastRolling2</td>\n",
       "      <td>15</td>\n",
       "    </tr>\n",
       "    <tr>\n",
       "      <th>11</th>\n",
       "      <td>FB_likes_diffRolling5Rolling90</td>\n",
       "      <td>14</td>\n",
       "    </tr>\n",
       "    <tr>\n",
       "      <th>12</th>\n",
       "      <td>Web_rank_rankDiffGrowthLastRolling5</td>\n",
       "      <td>13</td>\n",
       "    </tr>\n",
       "    <tr>\n",
       "      <th>13</th>\n",
       "      <td>Web_rank_diffRolling5Rolling90</td>\n",
       "      <td>8</td>\n",
       "    </tr>\n",
       "    <tr>\n",
       "      <th>14</th>\n",
       "      <td>Web_MUVs_diffMaxMin</td>\n",
       "      <td>8</td>\n",
       "    </tr>\n",
       "  </tbody>\n",
       "</table>\n",
       "</div>"
      ],
      "text/plain": [
       "                                 features  importance\n",
       "0   Web_visits_rankDiffGrowthLastRolling5          56\n",
       "1          Web_rank_diffRolling5Rolling15          42\n",
       "2           Web_MUVs_rankDiffLastRolling9          36\n",
       "3        Web_visits_diffRolling5Rolling60          31\n",
       "4                           Web_MUVs_last          31\n",
       "5                  Web_rank_MaxLastGrowth          27\n",
       "6          Web_rank_rankDiffLastRolling90          26\n",
       "7                  Web_rank_rollingMean_5          24\n",
       "8          FB_likes_diffRolling5Rolling60          22\n",
       "9               Web_visits_rollingMean_90          22\n",
       "10          Web_MUVs_rankDiffLastRolling2          15\n",
       "11         FB_likes_diffRolling5Rolling90          14\n",
       "12    Web_rank_rankDiffGrowthLastRolling5          13\n",
       "13         Web_rank_diffRolling5Rolling90           8\n",
       "14                    Web_MUVs_diffMaxMin           8"
      ]
     },
     "execution_count": 63,
     "metadata": {},
     "output_type": "execute_result"
    }
   ],
   "source": [
    "importance = importance.sort_values(by = 'importance', ascending = False).reset_index(drop = True)\n",
    "importance[0:15]"
   ]
  },
  {
   "cell_type": "markdown",
   "metadata": {},
   "source": [
    "### Model Interpretation"
   ]
  },
  {
   "cell_type": "markdown",
   "metadata": {},
   "source": [
    "The lower the Web rank (best company ranks 1), the better the company.  \n",
    "Recent observations are more important than the past performance.  Rolling Mean of 5 days is the most important features, rather than rolling mean of longer periods.  "
   ]
  },
  {
   "cell_type": "code",
   "execution_count": 64,
   "metadata": {},
   "outputs": [
    {
     "data": {
      "text/plain": [
       "Text(0.5,1,'Web rank_rollingMean_5')"
      ]
     },
     "execution_count": 64,
     "metadata": {},
     "output_type": "execute_result"
    },
    {
     "data": {
      "image/png": "[encoded data removed]",
      "text/plain": [
       "<matplotlib.figure.Figure at 0x23a9c925860>"
      ]
     },
     "metadata": {},
     "output_type": "display_data"
    }
   ],
   "source": [
    "ax = sns.boxplot(x=\"Label\", y=\"Web rank_rollingMean_5\", data=company, linewidth=2.5)\n",
    "plt.title(\"Web rank_rollingMean_5\")"
   ]
  },
  {
   "cell_type": "markdown",
   "metadata": {},
   "source": [
    "Good company have either a stable web rank, or an improvement in web rank.\n",
    "Stabalization is measured by the differences between rolling 90 day average and rolling 5 days averages.  The smaller the differences, the more stable the web rank is.  <br>Bad companies are signaled by a drop in ranks, which are represented by the negative values.  "
   ]
  },
  {
   "cell_type": "code",
   "execution_count": 65,
   "metadata": {},
   "outputs": [
    {
     "data": {
      "text/plain": [
       "Text(0.5,1,'Web rank_diffRolling5Rolling90')"
      ]
     },
     "execution_count": 65,
     "metadata": {},
     "output_type": "execute_result"
    },
    {
     "data": {
      "image/png": "[encoded data removed]",
      "text/plain": [
       "<matplotlib.figure.Figure at 0x23a9c946be0>"
      ]
     },
     "metadata": {},
     "output_type": "display_data"
    }
   ],
   "source": [
    "var = 'Web rank_diffRolling5Rolling90'\n",
    "ax = sns.boxplot(x=\"Label\", y= var, data=company, linewidth=2.5)\n",
    "plt.title(var)"
   ]
  }
 ],
 "metadata": {
  "kernelspec": {
   "display_name": "Python 3",
   "language": "python",
   "name": "python3"
  },
  "language_info": {
   "codemirror_mode": {
    "name": "ipython",
    "version": 3
   },
   "file_extension": ".py",
   "mimetype": "text/x-python",
   "name": "python",
   "nbconvert_exporter": "python",
   "pygments_lexer": "ipython3",
   "version": "3.5.4"
  }
 },
 "nbformat": 4,
 "nbformat_minor": 2
}
