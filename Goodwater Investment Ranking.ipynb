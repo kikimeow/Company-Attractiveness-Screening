{
 "cells": [
  {
   "cell_type": "markdown",
   "metadata": {},
   "source": [
    "# Company Attractiveness Classification"
   ]
  },
  {
   "cell_type": "markdown",
   "metadata": {},
   "source": [
    "400 days of KPI data of 64 companies are used for classifying companies into two groups- \"Good Company\" & \"Bad Company.\"  The KPIs include:\n",
    "* Mobile Downloads- Number of downloads of the company's mobile app on a given day\n",
    "* Mobile MAUs - Number of people who used the company's app at least once in a given month\n",
    "* Web visits - Number of visits to teh company's website on a given day\n",
    "* Web rank- Number of visits to the company's website on a given day (lower is better)\n",
    "* Web MUVs - Number of unique visitors to the company's web site in a given month\n",
    "* Monthly sales - The comapny's revenue in a given month\n",
    "* FB likes - Number of likes on the company's Facebook page on a given day. <br>\n"
   ]
  },
  {
   "cell_type": "markdown",
   "metadata": {},
   "source": [
    "### Feature Engineering\n",
    "312 features are created to measure the investment opportunity of a company.  For the KPIs in the dataset, the higher the number, the better the company is.  The only exception is Web rank, where a lower number is better.  The KPIs are summarized using rolling averages.  A good company should exhibit three traits- Market dominance, Growth, and Consistency.   <br>\n",
    "\n",
    "\n",
    "**Market Dominance** <br>\n",
    "To assess market dominance, rank based measurements are calculated.  Companies are compared against each other for each of the KPIs.  \n",
    "\n",
    "**Growth** <br>\n",
    "To assess growth, we calculate how much the KPI has grown relative to historical average, and how much the KPI has grown relative to the current value.  The growth of the ranks of the various KPI metrics are also calculated.  \n",
    "<br>\n",
    "Example: <br>\n",
    "growth calc relative to historical value = (Web visits 5-day moving average-Web visits 90-day moving average) / Web visits 90-day moving average<br>\n",
    "A company with 1000 visits now and 10 visits before, had a 9x growth.  (1000-100)/10 = 9 <br>\n",
    "<br>\n",
    "growth calc relative to current value = (Web visits 5-day moving average-Web visits 90-day moving average) / Web visits 5-day moving average<br>\n",
    "A company with 1000 visits now and 10 visits before, has a size of growth of 0.9 of its current value. (1000-100)/1000 = 0.9 <br>\n",
    "<br>\n",
    "**Consistency** <br>\n",
    "To assess consistency, the changes of the KPI measurements between recent values and historical values should be small.  We want to identify companies that are leaders and maintain its leadership.  The direction of the changes in KPI also indicate if the performance of the companies have improved or worsened.  For an existing market leader, the company should have small changes in KPI measurements.  For an up-and-coming growth company, the company should see a positive improvement in KPI measurements.  \n",
    "<br>\n",
    "Example: <br>\n",
    "Web rank difference = Web rank difference(rolling 5 day average) - Web rank difference(rolling 90 day average) should be small. \n",
    "\n",
    "**Why is rolling averages used?**\n",
    "The advantage of rolling averages is that it smooths out some noise, and it is also easier to see the changes in a timeseries.  It is often useful to compare a short-term moving average against a longer-term moving average. In this analysis, the most recent observation of the moving averages are used for modeling. "
   ]
  },
  {
   "cell_type": "markdown",
   "metadata": {},
   "source": [
    "### Model\n"
   ]
  },
  {
   "cell_type": "markdown",
   "metadata": {},
   "source": [
    "A LightGBM model is run, with a train/test split of 20%.  There are only 64 observations in total, so designing a good validation methodology was difficult.  If cross-validation is used on top of the train/test split, there will not be enough observation in each fold to have a good model.  The model achieved a logloss of 0.12 and AUC of 1 on the entire set.  The logloss on the validation set is 0.07.  While training, the logloss between the training and validation set was small, so over-fitting the model was not a major concern.  The model performance should be improved if more data was used.  The feature importance of the model confirmed the intuition above regarding what constitutes a good company. The feature importance are detailed later in this notebook.  In general, the most important features are based on web visits, web rank, and web MUVs.  This is also due to the fact that other KPIs did not have data for all the companies.  "
   ]
  },
  {
   "cell_type": "markdown",
   "metadata": {},
   "source": [
    "References: <br>\n",
    "https://github.com/Microsoft/LightGBM/blob/master/examples/python-guide/plot_example.py\n",
    "https://github.com/Microsoft/LightGBM/tree/master/examples/python-guide"
   ]
  },
  {
   "cell_type": "code",
   "execution_count": 3,
   "metadata": {},
   "outputs": [],
   "source": [
    "import numpy as np\n",
    "import pandas as pd\n",
    "import os\n",
    "import matplotlib.pyplot as plt\n",
    "import seaborn as sns\n",
    "import lightgbm as lgb\n",
    "from sklearn.model_selection import train_test_split\n",
    "from sklearn.metrics import log_loss, roc_auc_score, roc_curve, auc\n",
    "\n",
    "%matplotlib inline"
   ]
  },
  {
   "cell_type": "code",
   "execution_count": 4,
   "metadata": {},
   "outputs": [],
   "source": [
    "import graphviz"
   ]
  },
  {
   "cell_type": "code",
   "execution_count": 5,
   "metadata": {},
   "outputs": [
    {
     "name": "stdout",
     "output_type": "stream",
     "text": [
      "['Company Classification - data.csv', 'Company Classification - labels.csv']\n"
     ]
    }
   ],
   "source": [
    "print(os.listdir(\"./data\"))\n",
    "cwd = os.getcwd()\n",
    "data_folder = 'data'"
   ]
  },
  {
   "cell_type": "code",
   "execution_count": 6,
   "metadata": {},
   "outputs": [],
   "source": [
    "df_data = pd.read_csv(os.path.join(cwd, data_folder, 'Company Classification - data.csv'))\n",
    "df_label = pd.read_csv(os.path.join(cwd, data_folder, 'Company Classification - labels.csv'))\n",
    "df_data.name = \"df_data\"\n",
    "df_label.name = \"df_label\"\n",
    "df_data['Date'] = pd.to_datetime(df_data['Date'])"
   ]
  },
  {
   "cell_type": "markdown",
   "metadata": {},
   "source": [
    "#### Check Data"
   ]
  },
  {
   "cell_type": "code",
   "execution_count": 7,
   "metadata": {},
   "outputs": [
    {
     "name": "stdout",
     "output_type": "stream",
     "text": [
      "df_data (61538, 4)\n",
      "df_label (64, 2)\n"
     ]
    }
   ],
   "source": [
    "dfList = [df_data, df_label]\n",
    "for dfs in dfList:\n",
    "    print(dfs.name, dfs.shape)"
   ]
  },
  {
   "cell_type": "code",
   "execution_count": 8,
   "metadata": {},
   "outputs": [
    {
     "data": {
      "text/plain": [
       "0.5    0.421875\n",
       "0.0    0.328125\n",
       "1.0    0.250000\n",
       "Name: Label, dtype: float64"
      ]
     },
     "execution_count": 8,
     "metadata": {},
     "output_type": "execute_result"
    }
   ],
   "source": [
    "df_label[\"Label\"].value_counts(normalize= True)"
   ]
  },
  {
   "cell_type": "code",
   "execution_count": 9,
   "metadata": {},
   "outputs": [],
   "source": [
    "def data_summary(df):\n",
    "    '''print out information about dataframe\n",
    "    Argument: dataframe name\n",
    "    Return: dataframe with summary figures\n",
    "    '''\n",
    "    temp = pd.DataFrame(data = df.isnull().sum(axis=0))\n",
    "    temp.columns=['NA count']\n",
    "    temp['NA %'] = temp['NA count']/(df.shape[0])*100\n",
    "    temp['# unique vals'] = df.nunique(axis=0)\n",
    "    temp['dtype'] =  df.dtypes\n",
    "    #temp['dataset'] = df.name\n",
    "    \n",
    "    return temp"
   ]
  },
  {
   "cell_type": "code",
   "execution_count": 10,
   "metadata": {},
   "outputs": [
    {
     "data": {
      "text/html": [
       "<div>\n",
       "<style scoped>\n",
       "    .dataframe tbody tr th:only-of-type {\n",
       "        vertical-align: middle;\n",
       "    }\n",
       "\n",
       "    .dataframe tbody tr th {\n",
       "        vertical-align: top;\n",
       "    }\n",
       "\n",
       "    .dataframe thead th {\n",
       "        text-align: right;\n",
       "    }\n",
       "</style>\n",
       "<table border=\"1\" class=\"dataframe\">\n",
       "  <thead>\n",
       "    <tr style=\"text-align: right;\">\n",
       "      <th></th>\n",
       "      <th>NA count</th>\n",
       "      <th>NA %</th>\n",
       "      <th># unique vals</th>\n",
       "      <th>dtype</th>\n",
       "    </tr>\n",
       "  </thead>\n",
       "  <tbody>\n",
       "    <tr>\n",
       "      <th>Date</th>\n",
       "      <td>0</td>\n",
       "      <td>0.0</td>\n",
       "      <td>400</td>\n",
       "      <td>datetime64[ns]</td>\n",
       "    </tr>\n",
       "    <tr>\n",
       "      <th>Company</th>\n",
       "      <td>0</td>\n",
       "      <td>0.0</td>\n",
       "      <td>64</td>\n",
       "      <td>object</td>\n",
       "    </tr>\n",
       "    <tr>\n",
       "      <th>KPI</th>\n",
       "      <td>0</td>\n",
       "      <td>0.0</td>\n",
       "      <td>7</td>\n",
       "      <td>object</td>\n",
       "    </tr>\n",
       "    <tr>\n",
       "      <th>Value</th>\n",
       "      <td>0</td>\n",
       "      <td>0.0</td>\n",
       "      <td>33408</td>\n",
       "      <td>int64</td>\n",
       "    </tr>\n",
       "  </tbody>\n",
       "</table>\n",
       "</div>"
      ],
      "text/plain": [
       "         NA count  NA %  # unique vals           dtype\n",
       "Date            0   0.0            400  datetime64[ns]\n",
       "Company         0   0.0             64          object\n",
       "KPI             0   0.0              7          object\n",
       "Value           0   0.0          33408           int64"
      ]
     },
     "execution_count": 10,
     "metadata": {},
     "output_type": "execute_result"
    }
   ],
   "source": [
    "data_summary(df_data)"
   ]
  },
  {
   "cell_type": "code",
   "execution_count": 11,
   "metadata": {},
   "outputs": [
    {
     "data": {
      "text/plain": [
       "array(['FB likes', 'Web rank', 'Web visits', 'Mobile Downloads',\n",
       "       'Monthly sales', 'Web MUVs', 'Mobile MAUs'], dtype=object)"
      ]
     },
     "execution_count": 11,
     "metadata": {},
     "output_type": "execute_result"
    }
   ],
   "source": [
    "df_data['KPI'].unique()"
   ]
  },
  {
   "cell_type": "code",
   "execution_count": 12,
   "metadata": {},
   "outputs": [],
   "source": [
    "df_data = df_data.set_index('Company')"
   ]
  },
  {
   "cell_type": "markdown",
   "metadata": {},
   "source": [
    "#### Sort data"
   ]
  },
  {
   "cell_type": "code",
   "execution_count": 13,
   "metadata": {},
   "outputs": [],
   "source": [
    "df_data = df_data.sort_values(['Date', 'Company', 'KPI'], ascending=True)"
   ]
  },
  {
   "cell_type": "code",
   "execution_count": 14,
   "metadata": {},
   "outputs": [],
   "source": [
    "df_data = df_data.reset_index(drop = False)"
   ]
  },
  {
   "cell_type": "code",
   "execution_count": 15,
   "metadata": {},
   "outputs": [
    {
     "data": {
      "text/html": [
       "<div>\n",
       "<style scoped>\n",
       "    .dataframe tbody tr th:only-of-type {\n",
       "        vertical-align: middle;\n",
       "    }\n",
       "\n",
       "    .dataframe tbody tr th {\n",
       "        vertical-align: top;\n",
       "    }\n",
       "\n",
       "    .dataframe thead th {\n",
       "        text-align: right;\n",
       "    }\n",
       "</style>\n",
       "<table border=\"1\" class=\"dataframe\">\n",
       "  <thead>\n",
       "    <tr style=\"text-align: right;\">\n",
       "      <th></th>\n",
       "      <th>Company</th>\n",
       "      <th>Date</th>\n",
       "      <th>KPI</th>\n",
       "      <th>Value</th>\n",
       "    </tr>\n",
       "  </thead>\n",
       "  <tbody>\n",
       "    <tr>\n",
       "      <th>0</th>\n",
       "      <td>0216c5c3-c2aa-4c27-bd26-00aad7937899</td>\n",
       "      <td>2017-04-21</td>\n",
       "      <td>FB likes</td>\n",
       "      <td>87798</td>\n",
       "    </tr>\n",
       "    <tr>\n",
       "      <th>1</th>\n",
       "      <td>0216c5c3-c2aa-4c27-bd26-00aad7937899</td>\n",
       "      <td>2017-04-21</td>\n",
       "      <td>Web rank</td>\n",
       "      <td>92299</td>\n",
       "    </tr>\n",
       "    <tr>\n",
       "      <th>2</th>\n",
       "      <td>0216c5c3-c2aa-4c27-bd26-00aad7937899</td>\n",
       "      <td>2017-04-21</td>\n",
       "      <td>Web visits</td>\n",
       "      <td>13586</td>\n",
       "    </tr>\n",
       "    <tr>\n",
       "      <th>3</th>\n",
       "      <td>02d40d61-c402-46d2-bd04-96416674bcd2</td>\n",
       "      <td>2017-04-21</td>\n",
       "      <td>Mobile Downloads</td>\n",
       "      <td>53</td>\n",
       "    </tr>\n",
       "    <tr>\n",
       "      <th>4</th>\n",
       "      <td>02d40d61-c402-46d2-bd04-96416674bcd2</td>\n",
       "      <td>2017-04-21</td>\n",
       "      <td>Web rank</td>\n",
       "      <td>681314</td>\n",
       "    </tr>\n",
       "  </tbody>\n",
       "</table>\n",
       "</div>"
      ],
      "text/plain": [
       "                                Company       Date               KPI   Value\n",
       "0  0216c5c3-c2aa-4c27-bd26-00aad7937899 2017-04-21          FB likes   87798\n",
       "1  0216c5c3-c2aa-4c27-bd26-00aad7937899 2017-04-21          Web rank   92299\n",
       "2  0216c5c3-c2aa-4c27-bd26-00aad7937899 2017-04-21        Web visits   13586\n",
       "3  02d40d61-c402-46d2-bd04-96416674bcd2 2017-04-21  Mobile Downloads      53\n",
       "4  02d40d61-c402-46d2-bd04-96416674bcd2 2017-04-21          Web rank  681314"
      ]
     },
     "execution_count": 15,
     "metadata": {},
     "output_type": "execute_result"
    }
   ],
   "source": [
    "df_data.head()"
   ]
  },
  {
   "cell_type": "markdown",
   "metadata": {},
   "source": [
    "### Feature Engineering"
   ]
  },
  {
   "cell_type": "markdown",
   "metadata": {},
   "source": [
    "#### Process each KPI separately"
   ]
  },
  {
   "cell_type": "markdown",
   "metadata": {},
   "source": [
    "#### Define Helper Functions to generate the new features"
   ]
  },
  {
   "cell_type": "code",
   "execution_count": 16,
   "metadata": {},
   "outputs": [],
   "source": [
    "def getAggregation(df_data, KPI):\n",
    "    '''\n",
    "    Get aggregated features for the selected KPI\n",
    "    '''\n",
    "    \n",
    "    # filter dataset to the selected KPI and rename the column as the KPI name\n",
    "    subset = df_data[df_data[\"KPI\"] == KPI]\n",
    "    subset = subset.rename(columns = {'Value': KPI})\n",
    "    \n",
    "    # Get aggregated measures\n",
    "    summary = subset.groupby([\"Company\", \"KPI\"]).agg({KPI : ['count','sum', 'min', 'max', 'mean', 'median', 'std', 'first', 'last']})\n",
    "    summary.columns = ['_'.join(col).rstrip('_') for col in summary.columns.values]\n",
    "    summary = summary.reset_index()\n",
    "    summary = summary.set_index('Company')\n",
    "    \n",
    "    # Get date that reached maximum value of the selected KPI\n",
    "    maxDate = subset.loc[subset.groupby(\"Company\")[KPI].idxmax()]\n",
    "    maxDate = maxDate.set_index('Company')\n",
    "    maxDate = maxDate['Date']\n",
    "    summary[KPI+'_maxDate'] = maxDate\n",
    "    \n",
    "    # get date that reached minimum value of the selected KPI\n",
    "    minDate = subset.loc[subset.groupby(\"Company\")[KPI].idxmin()]\n",
    "    minDate = minDate.set_index('Company')\n",
    "    minDate = minDate['Date']\n",
    "    summary[KPI+'_minDate'] = minDate\n",
    "    \n",
    "    # Trending up?\n",
    "    summary[KPI+'_maxDate>minDate'] = np.where(summary[KPI+'_maxDate']>summary[KPI+'_minDate'], 1,0)\n",
    "    \n",
    "    # drop column KPI\n",
    "    summary = summary.drop(['KPI'], axis = 1)\n",
    "    \n",
    "    return summary\n",
    "    "
   ]
  },
  {
   "cell_type": "code",
   "execution_count": 17,
   "metadata": {},
   "outputs": [],
   "source": [
    "def rollingMean(df_data, KPI, period):\n",
    "    '''\n",
    "    Get the most recent rolling average of the selected KPI (single period)\n",
    "    '''\n",
    "    subset = df_data[df_data[\"KPI\"] == KPI]\n",
    "    summary = pd.DataFrame(subset.groupby('Company')['Value'].rolling(period).mean())\n",
    "    summary = summary.groupby('Company').last()\n",
    "    summary = summary.rename(columns = {'Value': str(KPI) + '_rollingMean_' + str(period)})\n",
    "    \n",
    "    return summary"
   ]
  },
  {
   "cell_type": "code",
   "execution_count": 18,
   "metadata": {},
   "outputs": [],
   "source": [
    "def rollingMeanMultiPeriods(df_data, periodList, KPI_df, KPI ):\n",
    "    '''\n",
    "    Get the most recent rolling averages of the selected KPI for \"multiple periods.\"\n",
    "    periodList should list from smallest to largest of 5 periods for use in getFeatures function\n",
    "    \n",
    "    '''\n",
    "    \n",
    "    for period in periodList:\n",
    "        rollingMeanTable = rollingMean(df_data, KPI, period)\n",
    "        KPI_df = KPI_df.merge(rollingMeanTable, left_index = True, right_index = True, how = 'left')\n",
    "        \n",
    "    return KPI_df"
   ]
  },
  {
   "cell_type": "code",
   "execution_count": 19,
   "metadata": {},
   "outputs": [],
   "source": [
    "def getFeatures(KPI_df, KPI, period):\n",
    "    '''\n",
    "    Generate other features that measures differences, growth, and ranking.\n",
    "    The periods has to match the period used in \n",
    "    rollingMeanMultiPeriods.  Periods should have a length of 5.  \n",
    "    Ex:\n",
    "    periodList = [5, 15, 30, 60, 90]  for Daily KPIs\n",
    "    periodList = [2,3,6,9,12] for Monthly KPIs\n",
    "    '''\n",
    "    # Differences between measures\n",
    "    KPI_df[KPI+'_diffLastFirst'] = KPI_df[KPI+'_last']-KPI_df[KPI+'_first']\n",
    "    KPI_df[KPI+'_diffMaxMin'] = KPI_df[KPI+'_max']-KPI_df[KPI+'_min']\n",
    "    KPI_df[KPI+'_diffMaxLast'] = KPI_df[KPI+'_max']-KPI_df[KPI+'_last']\n",
    "    KPI_df[KPI+'_diffMaxMinDate'] = (KPI_df[KPI+'_maxDate']-KPI_df[KPI+'_minDate']).dt.days\n",
    "    \n",
    "    # Growth Measurements (measure percentage of change)\n",
    "    KPI_df[KPI+'_LastFirstGrowth'] = KPI_df[KPI+'_diffLastFirst'] /KPI_df[KPI+'_first']\n",
    "    KPI_df[KPI+'_MaxMinGrowth'] = KPI_df[KPI+'_diffMaxMin'] /KPI_df[KPI+'_min']\n",
    "    KPI_df[KPI+'_MaxLastGrowth'] = KPI_df[KPI+'_diffMaxLast']/KPI_df[KPI+'_first']\n",
    "    \n",
    "    # Growth Measurements (measure percentage of change)\n",
    "    KPI_df[KPI+'_LastFirstGrowthL'] = KPI_df[KPI+'_diffLastFirst'] /KPI_df[KPI+'_last']\n",
    "    KPI_df[KPI+'_MaxMinGrowthL'] = KPI_df[KPI+'_diffMaxMin'] /KPI_df[KPI+'_max']\n",
    "    KPI_df[KPI+'_MaxLastGrowthL'] = KPI_df[KPI+'_diffMaxLast']/KPI_df[KPI+'_last']\n",
    "    \n",
    "    \n",
    "    # Average change per day between the Min and Max value\n",
    "    KPI_df[KPI+'_MaxMinGrowthDate'] = KPI_df[KPI+'_diffMaxMin']/ KPI_df[KPI+'_diffMaxMinDate']\n",
    "    \n",
    "    # Difference between first rolling period and each of the other rolling periods\n",
    "    KPI_df[KPI+'_diffRolling'+str(period[0])+'Rolling'+str(period[4])] = KPI_df[KPI+'_rollingMean_'+str(period[0])] - KPI_df[KPI+'_rollingMean_'+str(period[4])]\n",
    "    KPI_df[KPI+'_diffRolling'+str(period[0])+'Rolling'+str(period[3])] = KPI_df[KPI+'_rollingMean_'+str(period[0])] - KPI_df[KPI+'_rollingMean_'+str(period[3])]\n",
    "    KPI_df[KPI+'_diffRolling'+str(period[0])+'Rolling'+str(period[2])] = KPI_df[KPI+'_rollingMean_'+str(period[0])] - KPI_df[KPI+'_rollingMean_'+str(period[2])]\n",
    "    KPI_df[KPI+'_diffRolling'+str(period[0])+'Rolling'+str(period[1])] = KPI_df[KPI+'_rollingMean_'+str(period[0])] - KPI_df[KPI+'_rollingMean_'+str(period[1])]\n",
    "  \n",
    "    # Rank the rolling averages (compare across companies)\n",
    "    KPI_df[KPI+'_rankLast'] = KPI_df[KPI+'_last'].rank(ascending = False)\n",
    "    KPI_df[KPI+'_rankRolling'+str(period[0])] = KPI_df[KPI+'_rollingMean_'+str(period[0])].rank(ascending = False)\n",
    "    KPI_df[KPI+'_rankRolling'+str(period[1])] = KPI_df[KPI+'_rollingMean_'+str(period[1])].rank(ascending = False)\n",
    "    KPI_df[KPI+'_rankRolling'+str(period[2])] = KPI_df[KPI+'_rollingMean_'+str(period[2])].rank(ascending = False)\n",
    "    KPI_df[KPI+'_rankRolling'+str(period[3])] = KPI_df[KPI+'_rollingMean_'+str(period[3])].rank(ascending = False)\n",
    "    KPI_df[KPI+'_rankRolling'+str(period[4])] = KPI_df[KPI+'_rollingMean_'+str(period[4])].rank(ascending = False)\n",
    "\n",
    "    # Differences between the most recent rank compared to other rolling periods. \n",
    "    # Meausures if the ranks improve or worsen over time  \n",
    "    KPI_df[KPI+'_rankDiffLastRolling'+str(period[0])] = -KPI_df[KPI+'_rankLast'] + KPI_df[KPI+'_rankRolling'+str(period[0])] \n",
    "    KPI_df[KPI+'_rankDiffLastRolling'+str(period[1])] = -KPI_df[KPI+'_rankLast'] + KPI_df[KPI+'_rankRolling'+str(period[1])]\n",
    "    KPI_df[KPI+'_rankDiffLastRolling'+str(period[2])] = -KPI_df[KPI+'_rankLast'] + KPI_df[KPI+'_rankRolling'+str(period[2])]\n",
    "    KPI_df[KPI+'_rankDiffLastRolling'+str(period[3])] = -KPI_df[KPI+'_rankLast'] + KPI_df[KPI+'_rankRolling'+str(period[3])]\n",
    "    KPI_df[KPI+'_rankDiffLastRolling'+str(period[4])] = -KPI_df[KPI+'_rankLast'] + KPI_df[KPI+'_rankRolling'+str(period[4])]\n",
    "    \n",
    "    # Measures the percentage of change of Rankings in each rolling periods compared to the most recent period.\n",
    "    KPI_df[KPI+'_rankDiffGrowthLastRolling'+str(period[0])] = KPI_df[KPI+'_rankDiffLastRolling'+str(period[0])]/KPI_df[KPI+'_rankRolling'+str(period[0])] \n",
    "    KPI_df[KPI+'_rankDiffGrowthLastRolling'+str(period[1])] = KPI_df[KPI+'_rankDiffLastRolling'+str(period[1])]/KPI_df[KPI+'_rankRolling'+str(period[1])]\n",
    "    KPI_df[KPI+'_rankDiffGrowthLastRolling'+str(period[2])] = KPI_df[KPI+'_rankDiffLastRolling'+str(period[2])]/KPI_df[KPI+'_rankRolling'+str(period[2])]\n",
    "    KPI_df[KPI+'_rankDiffGrowthLastRolling'+str(period[3])] = KPI_df[KPI+'_rankDiffLastRolling'+str(period[3])]/KPI_df[KPI+'_rankRolling'+str(period[3])]\n",
    "    KPI_df[KPI+'_rankDiffGrowthLastRolling'+str(period[4])] = KPI_df[KPI+'_rankDiffLastRolling'+str(period[4])]/KPI_df[KPI+'_rankRolling'+str(period[4])]\n",
    "    \n",
    "    # Measures the percentage of change of Rankings in each rolling periods compared to the most recent period.\n",
    "    KPI_df[KPI+'_rankDiffGrowthLastRollingL'+str(period[0])] = KPI_df[KPI+'_rankDiffLastRolling'+str(period[0])]/KPI_df[KPI+'_rankLast']\n",
    "    KPI_df[KPI+'_rankDiffGrowthLastRollingL'+str(period[1])] = KPI_df[KPI+'_rankDiffLastRolling'+str(period[1])]/KPI_df[KPI+'_rankLast']\n",
    "    KPI_df[KPI+'_rankDiffGrowthLastRollingL'+str(period[2])] = KPI_df[KPI+'_rankDiffLastRolling'+str(period[2])]/KPI_df[KPI+'_rankLast']\n",
    "    KPI_df[KPI+'_rankDiffGrowthLastRollingL'+str(period[3])] = KPI_df[KPI+'_rankDiffLastRolling'+str(period[3])]/KPI_df[KPI+'_rankLast']\n",
    "    KPI_df[KPI+'_rankDiffGrowthLastRollingL'+str(period[4])] = KPI_df[KPI+'_rankDiffLastRolling'+str(period[4])]/KPI_df[KPI+'_rankLast']\n",
    "    \n",
    "    \n",
    "    return KPI_df"
   ]
  },
  {
   "cell_type": "markdown",
   "metadata": {},
   "source": [
    "### Mobile Downloads"
   ]
  },
  {
   "cell_type": "markdown",
   "metadata": {},
   "source": [
    "Number of downloads of the company's mobile app on a given day."
   ]
  },
  {
   "cell_type": "code",
   "execution_count": 20,
   "metadata": {},
   "outputs": [],
   "source": [
    "downloads = getAggregation(df_data, 'Mobile Downloads')"
   ]
  },
  {
   "cell_type": "code",
   "execution_count": 21,
   "metadata": {},
   "outputs": [
    {
     "data": {
      "text/plain": [
       "(26, 12)"
      ]
     },
     "execution_count": 21,
     "metadata": {},
     "output_type": "execute_result"
    }
   ],
   "source": [
    "downloads.shape"
   ]
  },
  {
   "cell_type": "code",
   "execution_count": 22,
   "metadata": {},
   "outputs": [
    {
     "data": {
      "text/html": [
       "<div>\n",
       "<style scoped>\n",
       "    .dataframe tbody tr th:only-of-type {\n",
       "        vertical-align: middle;\n",
       "    }\n",
       "\n",
       "    .dataframe tbody tr th {\n",
       "        vertical-align: top;\n",
       "    }\n",
       "\n",
       "    .dataframe thead th {\n",
       "        text-align: right;\n",
       "    }\n",
       "</style>\n",
       "<table border=\"1\" class=\"dataframe\">\n",
       "  <thead>\n",
       "    <tr style=\"text-align: right;\">\n",
       "      <th></th>\n",
       "      <th>NA count</th>\n",
       "      <th>NA %</th>\n",
       "      <th># unique vals</th>\n",
       "      <th>dtype</th>\n",
       "    </tr>\n",
       "  </thead>\n",
       "  <tbody>\n",
       "    <tr>\n",
       "      <th>Mobile Downloads_count</th>\n",
       "      <td>0</td>\n",
       "      <td>0.0</td>\n",
       "      <td>24</td>\n",
       "      <td>int64</td>\n",
       "    </tr>\n",
       "    <tr>\n",
       "      <th>Mobile Downloads_sum</th>\n",
       "      <td>0</td>\n",
       "      <td>0.0</td>\n",
       "      <td>26</td>\n",
       "      <td>int64</td>\n",
       "    </tr>\n",
       "    <tr>\n",
       "      <th>Mobile Downloads_min</th>\n",
       "      <td>0</td>\n",
       "      <td>0.0</td>\n",
       "      <td>20</td>\n",
       "      <td>int64</td>\n",
       "    </tr>\n",
       "    <tr>\n",
       "      <th>Mobile Downloads_max</th>\n",
       "      <td>0</td>\n",
       "      <td>0.0</td>\n",
       "      <td>26</td>\n",
       "      <td>int64</td>\n",
       "    </tr>\n",
       "    <tr>\n",
       "      <th>Mobile Downloads_mean</th>\n",
       "      <td>0</td>\n",
       "      <td>0.0</td>\n",
       "      <td>26</td>\n",
       "      <td>float64</td>\n",
       "    </tr>\n",
       "    <tr>\n",
       "      <th>Mobile Downloads_median</th>\n",
       "      <td>0</td>\n",
       "      <td>0.0</td>\n",
       "      <td>25</td>\n",
       "      <td>float64</td>\n",
       "    </tr>\n",
       "    <tr>\n",
       "      <th>Mobile Downloads_std</th>\n",
       "      <td>0</td>\n",
       "      <td>0.0</td>\n",
       "      <td>26</td>\n",
       "      <td>float64</td>\n",
       "    </tr>\n",
       "    <tr>\n",
       "      <th>Mobile Downloads_first</th>\n",
       "      <td>0</td>\n",
       "      <td>0.0</td>\n",
       "      <td>22</td>\n",
       "      <td>int64</td>\n",
       "    </tr>\n",
       "    <tr>\n",
       "      <th>Mobile Downloads_last</th>\n",
       "      <td>0</td>\n",
       "      <td>0.0</td>\n",
       "      <td>25</td>\n",
       "      <td>int64</td>\n",
       "    </tr>\n",
       "    <tr>\n",
       "      <th>Mobile Downloads_maxDate</th>\n",
       "      <td>0</td>\n",
       "      <td>0.0</td>\n",
       "      <td>25</td>\n",
       "      <td>datetime64[ns]</td>\n",
       "    </tr>\n",
       "    <tr>\n",
       "      <th>Mobile Downloads_minDate</th>\n",
       "      <td>0</td>\n",
       "      <td>0.0</td>\n",
       "      <td>25</td>\n",
       "      <td>datetime64[ns]</td>\n",
       "    </tr>\n",
       "    <tr>\n",
       "      <th>Mobile Downloads_maxDate&gt;minDate</th>\n",
       "      <td>0</td>\n",
       "      <td>0.0</td>\n",
       "      <td>2</td>\n",
       "      <td>int32</td>\n",
       "    </tr>\n",
       "  </tbody>\n",
       "</table>\n",
       "</div>"
      ],
      "text/plain": [
       "                                  NA count  NA %  # unique vals  \\\n",
       "Mobile Downloads_count                   0   0.0             24   \n",
       "Mobile Downloads_sum                     0   0.0             26   \n",
       "Mobile Downloads_min                     0   0.0             20   \n",
       "Mobile Downloads_max                     0   0.0             26   \n",
       "Mobile Downloads_mean                    0   0.0             26   \n",
       "Mobile Downloads_median                  0   0.0             25   \n",
       "Mobile Downloads_std                     0   0.0             26   \n",
       "Mobile Downloads_first                   0   0.0             22   \n",
       "Mobile Downloads_last                    0   0.0             25   \n",
       "Mobile Downloads_maxDate                 0   0.0             25   \n",
       "Mobile Downloads_minDate                 0   0.0             25   \n",
       "Mobile Downloads_maxDate>minDate         0   0.0              2   \n",
       "\n",
       "                                           dtype  \n",
       "Mobile Downloads_count                     int64  \n",
       "Mobile Downloads_sum                       int64  \n",
       "Mobile Downloads_min                       int64  \n",
       "Mobile Downloads_max                       int64  \n",
       "Mobile Downloads_mean                    float64  \n",
       "Mobile Downloads_median                  float64  \n",
       "Mobile Downloads_std                     float64  \n",
       "Mobile Downloads_first                     int64  \n",
       "Mobile Downloads_last                      int64  \n",
       "Mobile Downloads_maxDate          datetime64[ns]  \n",
       "Mobile Downloads_minDate          datetime64[ns]  \n",
       "Mobile Downloads_maxDate>minDate           int32  "
      ]
     },
     "execution_count": 22,
     "metadata": {},
     "output_type": "execute_result"
    }
   ],
   "source": [
    "data_summary(downloads)"
   ]
  },
  {
   "cell_type": "markdown",
   "metadata": {},
   "source": [
    "### Web Rank"
   ]
  },
  {
   "cell_type": "markdown",
   "metadata": {},
   "source": [
    "Number of visits to the company's website on a given day."
   ]
  },
  {
   "cell_type": "code",
   "execution_count": 23,
   "metadata": {},
   "outputs": [],
   "source": [
    "webRank = getAggregation(df_data, 'Web rank')\n",
    "webRank = rollingMeanMultiPeriods(df_data, [5, 15, 30, 60, 90], webRank, 'Web rank' )\n",
    "webRank = getFeatures(KPI_df = webRank, KPI = 'Web rank', period = [5, 15, 30, 60, 90])"
   ]
  },
  {
   "cell_type": "code",
   "execution_count": 24,
   "metadata": {},
   "outputs": [
    {
     "data": {
      "text/plain": [
       "(64, 53)"
      ]
     },
     "execution_count": 24,
     "metadata": {},
     "output_type": "execute_result"
    }
   ],
   "source": [
    "webRank.shape"
   ]
  },
  {
   "cell_type": "code",
   "execution_count": 25,
   "metadata": {},
   "outputs": [
    {
     "data": {
      "text/html": [
       "<div>\n",
       "<style scoped>\n",
       "    .dataframe tbody tr th:only-of-type {\n",
       "        vertical-align: middle;\n",
       "    }\n",
       "\n",
       "    .dataframe tbody tr th {\n",
       "        vertical-align: top;\n",
       "    }\n",
       "\n",
       "    .dataframe thead th {\n",
       "        text-align: right;\n",
       "    }\n",
       "</style>\n",
       "<table border=\"1\" class=\"dataframe\">\n",
       "  <thead>\n",
       "    <tr style=\"text-align: right;\">\n",
       "      <th></th>\n",
       "      <th>NA count</th>\n",
       "      <th>NA %</th>\n",
       "      <th># unique vals</th>\n",
       "      <th>dtype</th>\n",
       "    </tr>\n",
       "  </thead>\n",
       "  <tbody>\n",
       "    <tr>\n",
       "      <th>Web rank_rollingMean_30</th>\n",
       "      <td>3</td>\n",
       "      <td>4.6875</td>\n",
       "      <td>61</td>\n",
       "      <td>float64</td>\n",
       "    </tr>\n",
       "    <tr>\n",
       "      <th>Web rank_rollingMean_60</th>\n",
       "      <td>8</td>\n",
       "      <td>12.5000</td>\n",
       "      <td>56</td>\n",
       "      <td>float64</td>\n",
       "    </tr>\n",
       "    <tr>\n",
       "      <th>Web rank_rollingMean_90</th>\n",
       "      <td>11</td>\n",
       "      <td>17.1875</td>\n",
       "      <td>53</td>\n",
       "      <td>float64</td>\n",
       "    </tr>\n",
       "    <tr>\n",
       "      <th>Web rank_diffRolling5Rolling90</th>\n",
       "      <td>11</td>\n",
       "      <td>17.1875</td>\n",
       "      <td>53</td>\n",
       "      <td>float64</td>\n",
       "    </tr>\n",
       "    <tr>\n",
       "      <th>Web rank_diffRolling5Rolling60</th>\n",
       "      <td>8</td>\n",
       "      <td>12.5000</td>\n",
       "      <td>56</td>\n",
       "      <td>float64</td>\n",
       "    </tr>\n",
       "    <tr>\n",
       "      <th>Web rank_diffRolling5Rolling30</th>\n",
       "      <td>3</td>\n",
       "      <td>4.6875</td>\n",
       "      <td>61</td>\n",
       "      <td>float64</td>\n",
       "    </tr>\n",
       "    <tr>\n",
       "      <th>Web rank_rankRolling30</th>\n",
       "      <td>3</td>\n",
       "      <td>4.6875</td>\n",
       "      <td>61</td>\n",
       "      <td>float64</td>\n",
       "    </tr>\n",
       "    <tr>\n",
       "      <th>Web rank_rankRolling60</th>\n",
       "      <td>8</td>\n",
       "      <td>12.5000</td>\n",
       "      <td>56</td>\n",
       "      <td>float64</td>\n",
       "    </tr>\n",
       "    <tr>\n",
       "      <th>Web rank_rankRolling90</th>\n",
       "      <td>11</td>\n",
       "      <td>17.1875</td>\n",
       "      <td>53</td>\n",
       "      <td>float64</td>\n",
       "    </tr>\n",
       "    <tr>\n",
       "      <th>Web rank_rankDiffLastRolling30</th>\n",
       "      <td>3</td>\n",
       "      <td>4.6875</td>\n",
       "      <td>32</td>\n",
       "      <td>float64</td>\n",
       "    </tr>\n",
       "    <tr>\n",
       "      <th>Web rank_rankDiffLastRolling60</th>\n",
       "      <td>8</td>\n",
       "      <td>12.5000</td>\n",
       "      <td>29</td>\n",
       "      <td>float64</td>\n",
       "    </tr>\n",
       "    <tr>\n",
       "      <th>Web rank_rankDiffLastRolling90</th>\n",
       "      <td>11</td>\n",
       "      <td>17.1875</td>\n",
       "      <td>32</td>\n",
       "      <td>float64</td>\n",
       "    </tr>\n",
       "    <tr>\n",
       "      <th>Web rank_rankDiffGrowthLastRolling30</th>\n",
       "      <td>3</td>\n",
       "      <td>4.6875</td>\n",
       "      <td>58</td>\n",
       "      <td>float64</td>\n",
       "    </tr>\n",
       "    <tr>\n",
       "      <th>Web rank_rankDiffGrowthLastRolling60</th>\n",
       "      <td>8</td>\n",
       "      <td>12.5000</td>\n",
       "      <td>55</td>\n",
       "      <td>float64</td>\n",
       "    </tr>\n",
       "    <tr>\n",
       "      <th>Web rank_rankDiffGrowthLastRolling90</th>\n",
       "      <td>11</td>\n",
       "      <td>17.1875</td>\n",
       "      <td>51</td>\n",
       "      <td>float64</td>\n",
       "    </tr>\n",
       "    <tr>\n",
       "      <th>Web rank_rankDiffGrowthLastRollingL30</th>\n",
       "      <td>3</td>\n",
       "      <td>4.6875</td>\n",
       "      <td>58</td>\n",
       "      <td>float64</td>\n",
       "    </tr>\n",
       "    <tr>\n",
       "      <th>Web rank_rankDiffGrowthLastRollingL60</th>\n",
       "      <td>8</td>\n",
       "      <td>12.5000</td>\n",
       "      <td>55</td>\n",
       "      <td>float64</td>\n",
       "    </tr>\n",
       "    <tr>\n",
       "      <th>Web rank_rankDiffGrowthLastRollingL90</th>\n",
       "      <td>11</td>\n",
       "      <td>17.1875</td>\n",
       "      <td>51</td>\n",
       "      <td>float64</td>\n",
       "    </tr>\n",
       "  </tbody>\n",
       "</table>\n",
       "</div>"
      ],
      "text/plain": [
       "                                       NA count     NA %  # unique vals  \\\n",
       "Web rank_rollingMean_30                       3   4.6875             61   \n",
       "Web rank_rollingMean_60                       8  12.5000             56   \n",
       "Web rank_rollingMean_90                      11  17.1875             53   \n",
       "Web rank_diffRolling5Rolling90               11  17.1875             53   \n",
       "Web rank_diffRolling5Rolling60                8  12.5000             56   \n",
       "Web rank_diffRolling5Rolling30                3   4.6875             61   \n",
       "Web rank_rankRolling30                        3   4.6875             61   \n",
       "Web rank_rankRolling60                        8  12.5000             56   \n",
       "Web rank_rankRolling90                       11  17.1875             53   \n",
       "Web rank_rankDiffLastRolling30                3   4.6875             32   \n",
       "Web rank_rankDiffLastRolling60                8  12.5000             29   \n",
       "Web rank_rankDiffLastRolling90               11  17.1875             32   \n",
       "Web rank_rankDiffGrowthLastRolling30          3   4.6875             58   \n",
       "Web rank_rankDiffGrowthLastRolling60          8  12.5000             55   \n",
       "Web rank_rankDiffGrowthLastRolling90         11  17.1875             51   \n",
       "Web rank_rankDiffGrowthLastRollingL30         3   4.6875             58   \n",
       "Web rank_rankDiffGrowthLastRollingL60         8  12.5000             55   \n",
       "Web rank_rankDiffGrowthLastRollingL90        11  17.1875             51   \n",
       "\n",
       "                                         dtype  \n",
       "Web rank_rollingMean_30                float64  \n",
       "Web rank_rollingMean_60                float64  \n",
       "Web rank_rollingMean_90                float64  \n",
       "Web rank_diffRolling5Rolling90         float64  \n",
       "Web rank_diffRolling5Rolling60         float64  \n",
       "Web rank_diffRolling5Rolling30         float64  \n",
       "Web rank_rankRolling30                 float64  \n",
       "Web rank_rankRolling60                 float64  \n",
       "Web rank_rankRolling90                 float64  \n",
       "Web rank_rankDiffLastRolling30         float64  \n",
       "Web rank_rankDiffLastRolling60         float64  \n",
       "Web rank_rankDiffLastRolling90         float64  \n",
       "Web rank_rankDiffGrowthLastRolling30   float64  \n",
       "Web rank_rankDiffGrowthLastRolling60   float64  \n",
       "Web rank_rankDiffGrowthLastRolling90   float64  \n",
       "Web rank_rankDiffGrowthLastRollingL30  float64  \n",
       "Web rank_rankDiffGrowthLastRollingL60  float64  \n",
       "Web rank_rankDiffGrowthLastRollingL90  float64  "
      ]
     },
     "execution_count": 25,
     "metadata": {},
     "output_type": "execute_result"
    }
   ],
   "source": [
    "data_summary(webRank)[data_summary(webRank)['NA count'] > 0]"
   ]
  },
  {
   "cell_type": "markdown",
   "metadata": {},
   "source": [
    "### FB Likes"
   ]
  },
  {
   "cell_type": "markdown",
   "metadata": {},
   "source": [
    "Number of likes on the company's Facebook page on a given day."
   ]
  },
  {
   "cell_type": "code",
   "execution_count": 26,
   "metadata": {},
   "outputs": [],
   "source": [
    "fbLikes = getAggregation(df_data, 'FB likes')\n",
    "fbLikes = rollingMeanMultiPeriods(df_data, [5, 15, 30, 60, 90], fbLikes, 'FB likes' )\n",
    "fbLikes = getFeatures(KPI_df = fbLikes, KPI = 'FB likes', period = [5, 15, 30, 60, 90])"
   ]
  },
  {
   "cell_type": "code",
   "execution_count": 27,
   "metadata": {},
   "outputs": [
    {
     "data": {
      "text/plain": [
       "(60, 53)"
      ]
     },
     "execution_count": 27,
     "metadata": {},
     "output_type": "execute_result"
    }
   ],
   "source": [
    "fbLikes.shape"
   ]
  },
  {
   "cell_type": "code",
   "execution_count": 28,
   "metadata": {},
   "outputs": [
    {
     "data": {
      "text/html": [
       "<div>\n",
       "<style scoped>\n",
       "    .dataframe tbody tr th:only-of-type {\n",
       "        vertical-align: middle;\n",
       "    }\n",
       "\n",
       "    .dataframe tbody tr th {\n",
       "        vertical-align: top;\n",
       "    }\n",
       "\n",
       "    .dataframe thead th {\n",
       "        text-align: right;\n",
       "    }\n",
       "</style>\n",
       "<table border=\"1\" class=\"dataframe\">\n",
       "  <thead>\n",
       "    <tr style=\"text-align: right;\">\n",
       "      <th></th>\n",
       "      <th>NA count</th>\n",
       "      <th>NA %</th>\n",
       "      <th># unique vals</th>\n",
       "      <th>dtype</th>\n",
       "    </tr>\n",
       "  </thead>\n",
       "  <tbody>\n",
       "    <tr>\n",
       "      <th>FB likes_rollingMean_60</th>\n",
       "      <td>1</td>\n",
       "      <td>1.666667</td>\n",
       "      <td>59</td>\n",
       "      <td>float64</td>\n",
       "    </tr>\n",
       "    <tr>\n",
       "      <th>FB likes_rollingMean_90</th>\n",
       "      <td>12</td>\n",
       "      <td>20.000000</td>\n",
       "      <td>48</td>\n",
       "      <td>float64</td>\n",
       "    </tr>\n",
       "    <tr>\n",
       "      <th>FB likes_diffRolling5Rolling90</th>\n",
       "      <td>12</td>\n",
       "      <td>20.000000</td>\n",
       "      <td>48</td>\n",
       "      <td>float64</td>\n",
       "    </tr>\n",
       "    <tr>\n",
       "      <th>FB likes_diffRolling5Rolling60</th>\n",
       "      <td>1</td>\n",
       "      <td>1.666667</td>\n",
       "      <td>59</td>\n",
       "      <td>float64</td>\n",
       "    </tr>\n",
       "    <tr>\n",
       "      <th>FB likes_rankRolling60</th>\n",
       "      <td>1</td>\n",
       "      <td>1.666667</td>\n",
       "      <td>59</td>\n",
       "      <td>float64</td>\n",
       "    </tr>\n",
       "    <tr>\n",
       "      <th>FB likes_rankRolling90</th>\n",
       "      <td>12</td>\n",
       "      <td>20.000000</td>\n",
       "      <td>48</td>\n",
       "      <td>float64</td>\n",
       "    </tr>\n",
       "    <tr>\n",
       "      <th>FB likes_rankDiffLastRolling60</th>\n",
       "      <td>1</td>\n",
       "      <td>1.666667</td>\n",
       "      <td>4</td>\n",
       "      <td>float64</td>\n",
       "    </tr>\n",
       "    <tr>\n",
       "      <th>FB likes_rankDiffLastRolling90</th>\n",
       "      <td>12</td>\n",
       "      <td>20.000000</td>\n",
       "      <td>12</td>\n",
       "      <td>float64</td>\n",
       "    </tr>\n",
       "    <tr>\n",
       "      <th>FB likes_rankDiffGrowthLastRolling60</th>\n",
       "      <td>1</td>\n",
       "      <td>1.666667</td>\n",
       "      <td>16</td>\n",
       "      <td>float64</td>\n",
       "    </tr>\n",
       "    <tr>\n",
       "      <th>FB likes_rankDiffGrowthLastRolling90</th>\n",
       "      <td>12</td>\n",
       "      <td>20.000000</td>\n",
       "      <td>39</td>\n",
       "      <td>float64</td>\n",
       "    </tr>\n",
       "    <tr>\n",
       "      <th>FB likes_rankDiffGrowthLastRollingL60</th>\n",
       "      <td>1</td>\n",
       "      <td>1.666667</td>\n",
       "      <td>16</td>\n",
       "      <td>float64</td>\n",
       "    </tr>\n",
       "    <tr>\n",
       "      <th>FB likes_rankDiffGrowthLastRollingL90</th>\n",
       "      <td>12</td>\n",
       "      <td>20.000000</td>\n",
       "      <td>39</td>\n",
       "      <td>float64</td>\n",
       "    </tr>\n",
       "  </tbody>\n",
       "</table>\n",
       "</div>"
      ],
      "text/plain": [
       "                                       NA count       NA %  # unique vals  \\\n",
       "FB likes_rollingMean_60                       1   1.666667             59   \n",
       "FB likes_rollingMean_90                      12  20.000000             48   \n",
       "FB likes_diffRolling5Rolling90               12  20.000000             48   \n",
       "FB likes_diffRolling5Rolling60                1   1.666667             59   \n",
       "FB likes_rankRolling60                        1   1.666667             59   \n",
       "FB likes_rankRolling90                       12  20.000000             48   \n",
       "FB likes_rankDiffLastRolling60                1   1.666667              4   \n",
       "FB likes_rankDiffLastRolling90               12  20.000000             12   \n",
       "FB likes_rankDiffGrowthLastRolling60          1   1.666667             16   \n",
       "FB likes_rankDiffGrowthLastRolling90         12  20.000000             39   \n",
       "FB likes_rankDiffGrowthLastRollingL60         1   1.666667             16   \n",
       "FB likes_rankDiffGrowthLastRollingL90        12  20.000000             39   \n",
       "\n",
       "                                         dtype  \n",
       "FB likes_rollingMean_60                float64  \n",
       "FB likes_rollingMean_90                float64  \n",
       "FB likes_diffRolling5Rolling90         float64  \n",
       "FB likes_diffRolling5Rolling60         float64  \n",
       "FB likes_rankRolling60                 float64  \n",
       "FB likes_rankRolling90                 float64  \n",
       "FB likes_rankDiffLastRolling60         float64  \n",
       "FB likes_rankDiffLastRolling90         float64  \n",
       "FB likes_rankDiffGrowthLastRolling60   float64  \n",
       "FB likes_rankDiffGrowthLastRolling90   float64  \n",
       "FB likes_rankDiffGrowthLastRollingL60  float64  \n",
       "FB likes_rankDiffGrowthLastRollingL90  float64  "
      ]
     },
     "execution_count": 28,
     "metadata": {},
     "output_type": "execute_result"
    }
   ],
   "source": [
    "data_summary(fbLikes)[data_summary(fbLikes)['NA count'] > 0]"
   ]
  },
  {
   "cell_type": "markdown",
   "metadata": {},
   "source": [
    "### Mobile MAUs"
   ]
  },
  {
   "cell_type": "markdown",
   "metadata": {},
   "source": [
    "Number of people who used the company's app at least once in a given month"
   ]
  },
  {
   "cell_type": "code",
   "execution_count": 29,
   "metadata": {},
   "outputs": [],
   "source": [
    "mau = getAggregation(df_data, 'Mobile MAUs')\n",
    "mau = rollingMeanMultiPeriods(df_data, [2,3,4,5,6], mau, 'Mobile MAUs' )\n",
    "mau = getFeatures(KPI_df = mau, KPI = 'Mobile MAUs', period = [2,3,4,5,6])"
   ]
  },
  {
   "cell_type": "code",
   "execution_count": 30,
   "metadata": {},
   "outputs": [
    {
     "data": {
      "text/plain": [
       "(10, 53)"
      ]
     },
     "execution_count": 30,
     "metadata": {},
     "output_type": "execute_result"
    }
   ],
   "source": [
    "mau.shape"
   ]
  },
  {
   "cell_type": "code",
   "execution_count": 31,
   "metadata": {},
   "outputs": [
    {
     "data": {
      "text/html": [
       "<div>\n",
       "<style scoped>\n",
       "    .dataframe tbody tr th:only-of-type {\n",
       "        vertical-align: middle;\n",
       "    }\n",
       "\n",
       "    .dataframe tbody tr th {\n",
       "        vertical-align: top;\n",
       "    }\n",
       "\n",
       "    .dataframe thead th {\n",
       "        text-align: right;\n",
       "    }\n",
       "</style>\n",
       "<table border=\"1\" class=\"dataframe\">\n",
       "  <thead>\n",
       "    <tr style=\"text-align: right;\">\n",
       "      <th></th>\n",
       "      <th>NA count</th>\n",
       "      <th>NA %</th>\n",
       "      <th># unique vals</th>\n",
       "      <th>dtype</th>\n",
       "    </tr>\n",
       "  </thead>\n",
       "  <tbody>\n",
       "    <tr>\n",
       "      <th>Mobile MAUs_std</th>\n",
       "      <td>1</td>\n",
       "      <td>10.0</td>\n",
       "      <td>9</td>\n",
       "      <td>float64</td>\n",
       "    </tr>\n",
       "    <tr>\n",
       "      <th>Mobile MAUs_rollingMean_2</th>\n",
       "      <td>1</td>\n",
       "      <td>10.0</td>\n",
       "      <td>9</td>\n",
       "      <td>float64</td>\n",
       "    </tr>\n",
       "    <tr>\n",
       "      <th>Mobile MAUs_rollingMean_3</th>\n",
       "      <td>3</td>\n",
       "      <td>30.0</td>\n",
       "      <td>7</td>\n",
       "      <td>float64</td>\n",
       "    </tr>\n",
       "    <tr>\n",
       "      <th>Mobile MAUs_rollingMean_4</th>\n",
       "      <td>3</td>\n",
       "      <td>30.0</td>\n",
       "      <td>7</td>\n",
       "      <td>float64</td>\n",
       "    </tr>\n",
       "    <tr>\n",
       "      <th>Mobile MAUs_rollingMean_5</th>\n",
       "      <td>5</td>\n",
       "      <td>50.0</td>\n",
       "      <td>5</td>\n",
       "      <td>float64</td>\n",
       "    </tr>\n",
       "    <tr>\n",
       "      <th>Mobile MAUs_rollingMean_6</th>\n",
       "      <td>6</td>\n",
       "      <td>60.0</td>\n",
       "      <td>4</td>\n",
       "      <td>float64</td>\n",
       "    </tr>\n",
       "    <tr>\n",
       "      <th>Mobile MAUs_MaxMinGrowthDate</th>\n",
       "      <td>1</td>\n",
       "      <td>10.0</td>\n",
       "      <td>9</td>\n",
       "      <td>float64</td>\n",
       "    </tr>\n",
       "    <tr>\n",
       "      <th>Mobile MAUs_diffRolling2Rolling6</th>\n",
       "      <td>6</td>\n",
       "      <td>60.0</td>\n",
       "      <td>4</td>\n",
       "      <td>float64</td>\n",
       "    </tr>\n",
       "    <tr>\n",
       "      <th>Mobile MAUs_diffRolling2Rolling5</th>\n",
       "      <td>5</td>\n",
       "      <td>50.0</td>\n",
       "      <td>5</td>\n",
       "      <td>float64</td>\n",
       "    </tr>\n",
       "    <tr>\n",
       "      <th>Mobile MAUs_diffRolling2Rolling4</th>\n",
       "      <td>3</td>\n",
       "      <td>30.0</td>\n",
       "      <td>7</td>\n",
       "      <td>float64</td>\n",
       "    </tr>\n",
       "    <tr>\n",
       "      <th>Mobile MAUs_diffRolling2Rolling3</th>\n",
       "      <td>3</td>\n",
       "      <td>30.0</td>\n",
       "      <td>7</td>\n",
       "      <td>float64</td>\n",
       "    </tr>\n",
       "    <tr>\n",
       "      <th>Mobile MAUs_rankRolling2</th>\n",
       "      <td>1</td>\n",
       "      <td>10.0</td>\n",
       "      <td>9</td>\n",
       "      <td>float64</td>\n",
       "    </tr>\n",
       "    <tr>\n",
       "      <th>Mobile MAUs_rankRolling3</th>\n",
       "      <td>3</td>\n",
       "      <td>30.0</td>\n",
       "      <td>7</td>\n",
       "      <td>float64</td>\n",
       "    </tr>\n",
       "    <tr>\n",
       "      <th>Mobile MAUs_rankRolling4</th>\n",
       "      <td>3</td>\n",
       "      <td>30.0</td>\n",
       "      <td>7</td>\n",
       "      <td>float64</td>\n",
       "    </tr>\n",
       "    <tr>\n",
       "      <th>Mobile MAUs_rankRolling5</th>\n",
       "      <td>5</td>\n",
       "      <td>50.0</td>\n",
       "      <td>5</td>\n",
       "      <td>float64</td>\n",
       "    </tr>\n",
       "    <tr>\n",
       "      <th>Mobile MAUs_rankRolling6</th>\n",
       "      <td>6</td>\n",
       "      <td>60.0</td>\n",
       "      <td>4</td>\n",
       "      <td>float64</td>\n",
       "    </tr>\n",
       "    <tr>\n",
       "      <th>Mobile MAUs_rankDiffLastRolling2</th>\n",
       "      <td>1</td>\n",
       "      <td>10.0</td>\n",
       "      <td>3</td>\n",
       "      <td>float64</td>\n",
       "    </tr>\n",
       "    <tr>\n",
       "      <th>Mobile MAUs_rankDiffLastRolling3</th>\n",
       "      <td>3</td>\n",
       "      <td>30.0</td>\n",
       "      <td>3</td>\n",
       "      <td>float64</td>\n",
       "    </tr>\n",
       "    <tr>\n",
       "      <th>Mobile MAUs_rankDiffLastRolling4</th>\n",
       "      <td>3</td>\n",
       "      <td>30.0</td>\n",
       "      <td>3</td>\n",
       "      <td>float64</td>\n",
       "    </tr>\n",
       "    <tr>\n",
       "      <th>Mobile MAUs_rankDiffLastRolling5</th>\n",
       "      <td>5</td>\n",
       "      <td>50.0</td>\n",
       "      <td>3</td>\n",
       "      <td>float64</td>\n",
       "    </tr>\n",
       "    <tr>\n",
       "      <th>Mobile MAUs_rankDiffLastRolling6</th>\n",
       "      <td>6</td>\n",
       "      <td>60.0</td>\n",
       "      <td>3</td>\n",
       "      <td>float64</td>\n",
       "    </tr>\n",
       "    <tr>\n",
       "      <th>Mobile MAUs_rankDiffGrowthLastRolling2</th>\n",
       "      <td>1</td>\n",
       "      <td>10.0</td>\n",
       "      <td>4</td>\n",
       "      <td>float64</td>\n",
       "    </tr>\n",
       "    <tr>\n",
       "      <th>Mobile MAUs_rankDiffGrowthLastRolling3</th>\n",
       "      <td>3</td>\n",
       "      <td>30.0</td>\n",
       "      <td>7</td>\n",
       "      <td>float64</td>\n",
       "    </tr>\n",
       "    <tr>\n",
       "      <th>Mobile MAUs_rankDiffGrowthLastRolling4</th>\n",
       "      <td>3</td>\n",
       "      <td>30.0</td>\n",
       "      <td>7</td>\n",
       "      <td>float64</td>\n",
       "    </tr>\n",
       "    <tr>\n",
       "      <th>Mobile MAUs_rankDiffGrowthLastRolling5</th>\n",
       "      <td>5</td>\n",
       "      <td>50.0</td>\n",
       "      <td>5</td>\n",
       "      <td>float64</td>\n",
       "    </tr>\n",
       "    <tr>\n",
       "      <th>Mobile MAUs_rankDiffGrowthLastRolling6</th>\n",
       "      <td>6</td>\n",
       "      <td>60.0</td>\n",
       "      <td>4</td>\n",
       "      <td>float64</td>\n",
       "    </tr>\n",
       "    <tr>\n",
       "      <th>Mobile MAUs_rankDiffGrowthLastRollingL2</th>\n",
       "      <td>1</td>\n",
       "      <td>10.0</td>\n",
       "      <td>4</td>\n",
       "      <td>float64</td>\n",
       "    </tr>\n",
       "    <tr>\n",
       "      <th>Mobile MAUs_rankDiffGrowthLastRollingL3</th>\n",
       "      <td>3</td>\n",
       "      <td>30.0</td>\n",
       "      <td>7</td>\n",
       "      <td>float64</td>\n",
       "    </tr>\n",
       "    <tr>\n",
       "      <th>Mobile MAUs_rankDiffGrowthLastRollingL4</th>\n",
       "      <td>3</td>\n",
       "      <td>30.0</td>\n",
       "      <td>7</td>\n",
       "      <td>float64</td>\n",
       "    </tr>\n",
       "    <tr>\n",
       "      <th>Mobile MAUs_rankDiffGrowthLastRollingL5</th>\n",
       "      <td>5</td>\n",
       "      <td>50.0</td>\n",
       "      <td>5</td>\n",
       "      <td>float64</td>\n",
       "    </tr>\n",
       "    <tr>\n",
       "      <th>Mobile MAUs_rankDiffGrowthLastRollingL6</th>\n",
       "      <td>6</td>\n",
       "      <td>60.0</td>\n",
       "      <td>4</td>\n",
       "      <td>float64</td>\n",
       "    </tr>\n",
       "  </tbody>\n",
       "</table>\n",
       "</div>"
      ],
      "text/plain": [
       "                                         NA count  NA %  # unique vals  \\\n",
       "Mobile MAUs_std                                 1  10.0              9   \n",
       "Mobile MAUs_rollingMean_2                       1  10.0              9   \n",
       "Mobile MAUs_rollingMean_3                       3  30.0              7   \n",
       "Mobile MAUs_rollingMean_4                       3  30.0              7   \n",
       "Mobile MAUs_rollingMean_5                       5  50.0              5   \n",
       "Mobile MAUs_rollingMean_6                       6  60.0              4   \n",
       "Mobile MAUs_MaxMinGrowthDate                    1  10.0              9   \n",
       "Mobile MAUs_diffRolling2Rolling6                6  60.0              4   \n",
       "Mobile MAUs_diffRolling2Rolling5                5  50.0              5   \n",
       "Mobile MAUs_diffRolling2Rolling4                3  30.0              7   \n",
       "Mobile MAUs_diffRolling2Rolling3                3  30.0              7   \n",
       "Mobile MAUs_rankRolling2                        1  10.0              9   \n",
       "Mobile MAUs_rankRolling3                        3  30.0              7   \n",
       "Mobile MAUs_rankRolling4                        3  30.0              7   \n",
       "Mobile MAUs_rankRolling5                        5  50.0              5   \n",
       "Mobile MAUs_rankRolling6                        6  60.0              4   \n",
       "Mobile MAUs_rankDiffLastRolling2                1  10.0              3   \n",
       "Mobile MAUs_rankDiffLastRolling3                3  30.0              3   \n",
       "Mobile MAUs_rankDiffLastRolling4                3  30.0              3   \n",
       "Mobile MAUs_rankDiffLastRolling5                5  50.0              3   \n",
       "Mobile MAUs_rankDiffLastRolling6                6  60.0              3   \n",
       "Mobile MAUs_rankDiffGrowthLastRolling2          1  10.0              4   \n",
       "Mobile MAUs_rankDiffGrowthLastRolling3          3  30.0              7   \n",
       "Mobile MAUs_rankDiffGrowthLastRolling4          3  30.0              7   \n",
       "Mobile MAUs_rankDiffGrowthLastRolling5          5  50.0              5   \n",
       "Mobile MAUs_rankDiffGrowthLastRolling6          6  60.0              4   \n",
       "Mobile MAUs_rankDiffGrowthLastRollingL2         1  10.0              4   \n",
       "Mobile MAUs_rankDiffGrowthLastRollingL3         3  30.0              7   \n",
       "Mobile MAUs_rankDiffGrowthLastRollingL4         3  30.0              7   \n",
       "Mobile MAUs_rankDiffGrowthLastRollingL5         5  50.0              5   \n",
       "Mobile MAUs_rankDiffGrowthLastRollingL6         6  60.0              4   \n",
       "\n",
       "                                           dtype  \n",
       "Mobile MAUs_std                          float64  \n",
       "Mobile MAUs_rollingMean_2                float64  \n",
       "Mobile MAUs_rollingMean_3                float64  \n",
       "Mobile MAUs_rollingMean_4                float64  \n",
       "Mobile MAUs_rollingMean_5                float64  \n",
       "Mobile MAUs_rollingMean_6                float64  \n",
       "Mobile MAUs_MaxMinGrowthDate             float64  \n",
       "Mobile MAUs_diffRolling2Rolling6         float64  \n",
       "Mobile MAUs_diffRolling2Rolling5         float64  \n",
       "Mobile MAUs_diffRolling2Rolling4         float64  \n",
       "Mobile MAUs_diffRolling2Rolling3         float64  \n",
       "Mobile MAUs_rankRolling2                 float64  \n",
       "Mobile MAUs_rankRolling3                 float64  \n",
       "Mobile MAUs_rankRolling4                 float64  \n",
       "Mobile MAUs_rankRolling5                 float64  \n",
       "Mobile MAUs_rankRolling6                 float64  \n",
       "Mobile MAUs_rankDiffLastRolling2         float64  \n",
       "Mobile MAUs_rankDiffLastRolling3         float64  \n",
       "Mobile MAUs_rankDiffLastRolling4         float64  \n",
       "Mobile MAUs_rankDiffLastRolling5         float64  \n",
       "Mobile MAUs_rankDiffLastRolling6         float64  \n",
       "Mobile MAUs_rankDiffGrowthLastRolling2   float64  \n",
       "Mobile MAUs_rankDiffGrowthLastRolling3   float64  \n",
       "Mobile MAUs_rankDiffGrowthLastRolling4   float64  \n",
       "Mobile MAUs_rankDiffGrowthLastRolling5   float64  \n",
       "Mobile MAUs_rankDiffGrowthLastRolling6   float64  \n",
       "Mobile MAUs_rankDiffGrowthLastRollingL2  float64  \n",
       "Mobile MAUs_rankDiffGrowthLastRollingL3  float64  \n",
       "Mobile MAUs_rankDiffGrowthLastRollingL4  float64  \n",
       "Mobile MAUs_rankDiffGrowthLastRollingL5  float64  \n",
       "Mobile MAUs_rankDiffGrowthLastRollingL6  float64  "
      ]
     },
     "execution_count": 31,
     "metadata": {},
     "output_type": "execute_result"
    }
   ],
   "source": [
    "data_summary(mau)[data_summary(mau)['NA count'] > 0]"
   ]
  },
  {
   "cell_type": "markdown",
   "metadata": {},
   "source": [
    "### Web Visits"
   ]
  },
  {
   "cell_type": "markdown",
   "metadata": {},
   "source": [
    "Number of visits to teh company's website on a given day."
   ]
  },
  {
   "cell_type": "code",
   "execution_count": 32,
   "metadata": {},
   "outputs": [],
   "source": [
    "visits = getAggregation(df_data, 'Web visits')\n",
    "visits = rollingMeanMultiPeriods(df_data, [5, 15, 30, 60, 90], visits, 'Web visits' )\n",
    "visits = getFeatures(KPI_df = visits, KPI = 'Web visits', period = [5, 15, 30, 60, 90])"
   ]
  },
  {
   "cell_type": "code",
   "execution_count": 33,
   "metadata": {},
   "outputs": [
    {
     "data": {
      "text/plain": [
       "(64, 53)"
      ]
     },
     "execution_count": 33,
     "metadata": {},
     "output_type": "execute_result"
    }
   ],
   "source": [
    "visits.shape"
   ]
  },
  {
   "cell_type": "code",
   "execution_count": 34,
   "metadata": {},
   "outputs": [
    {
     "data": {
      "text/html": [
       "<div>\n",
       "<style scoped>\n",
       "    .dataframe tbody tr th:only-of-type {\n",
       "        vertical-align: middle;\n",
       "    }\n",
       "\n",
       "    .dataframe tbody tr th {\n",
       "        vertical-align: top;\n",
       "    }\n",
       "\n",
       "    .dataframe thead th {\n",
       "        text-align: right;\n",
       "    }\n",
       "</style>\n",
       "<table border=\"1\" class=\"dataframe\">\n",
       "  <thead>\n",
       "    <tr style=\"text-align: right;\">\n",
       "      <th></th>\n",
       "      <th>NA count</th>\n",
       "      <th>NA %</th>\n",
       "      <th># unique vals</th>\n",
       "      <th>dtype</th>\n",
       "    </tr>\n",
       "  </thead>\n",
       "  <tbody>\n",
       "    <tr>\n",
       "      <th>Web visits_LastFirstGrowth</th>\n",
       "      <td>3</td>\n",
       "      <td>4.6875</td>\n",
       "      <td>45</td>\n",
       "      <td>float64</td>\n",
       "    </tr>\n",
       "    <tr>\n",
       "      <th>Web visits_LastFirstGrowthL</th>\n",
       "      <td>3</td>\n",
       "      <td>4.6875</td>\n",
       "      <td>45</td>\n",
       "      <td>float64</td>\n",
       "    </tr>\n",
       "  </tbody>\n",
       "</table>\n",
       "</div>"
      ],
      "text/plain": [
       "                             NA count    NA %  # unique vals    dtype\n",
       "Web visits_LastFirstGrowth          3  4.6875             45  float64\n",
       "Web visits_LastFirstGrowthL         3  4.6875             45  float64"
      ]
     },
     "execution_count": 34,
     "metadata": {},
     "output_type": "execute_result"
    }
   ],
   "source": [
    "data_summary(visits)[data_summary(visits)['NA count'] > 0]"
   ]
  },
  {
   "cell_type": "markdown",
   "metadata": {},
   "source": [
    "### Monthly Sales"
   ]
  },
  {
   "cell_type": "markdown",
   "metadata": {},
   "source": [
    "The comapny's revenue in a given month"
   ]
  },
  {
   "cell_type": "code",
   "execution_count": 35,
   "metadata": {},
   "outputs": [],
   "source": [
    "sales = getAggregation(df_data, 'Monthly sales')\n",
    "sales = rollingMeanMultiPeriods(df_data, [2,3,6,9,12], sales, 'Monthly sales' )\n",
    "sales = getFeatures(KPI_df = sales, KPI = 'Monthly sales', period = [2,3,6,9,12])"
   ]
  },
  {
   "cell_type": "code",
   "execution_count": 36,
   "metadata": {},
   "outputs": [
    {
     "data": {
      "text/plain": [
       "(19, 53)"
      ]
     },
     "execution_count": 36,
     "metadata": {},
     "output_type": "execute_result"
    }
   ],
   "source": [
    "sales.shape"
   ]
  },
  {
   "cell_type": "code",
   "execution_count": 37,
   "metadata": {},
   "outputs": [
    {
     "data": {
      "text/html": [
       "<div>\n",
       "<style scoped>\n",
       "    .dataframe tbody tr th:only-of-type {\n",
       "        vertical-align: middle;\n",
       "    }\n",
       "\n",
       "    .dataframe tbody tr th {\n",
       "        vertical-align: top;\n",
       "    }\n",
       "\n",
       "    .dataframe thead th {\n",
       "        text-align: right;\n",
       "    }\n",
       "</style>\n",
       "<table border=\"1\" class=\"dataframe\">\n",
       "  <thead>\n",
       "    <tr style=\"text-align: right;\">\n",
       "      <th></th>\n",
       "      <th>NA count</th>\n",
       "      <th>NA %</th>\n",
       "      <th># unique vals</th>\n",
       "      <th>dtype</th>\n",
       "    </tr>\n",
       "  </thead>\n",
       "  <tbody>\n",
       "  </tbody>\n",
       "</table>\n",
       "</div>"
      ],
      "text/plain": [
       "Empty DataFrame\n",
       "Columns: [NA count, NA %, # unique vals, dtype]\n",
       "Index: []"
      ]
     },
     "execution_count": 37,
     "metadata": {},
     "output_type": "execute_result"
    }
   ],
   "source": [
    "data_summary(sales)[data_summary(sales)['NA count'] > 0]"
   ]
  },
  {
   "cell_type": "markdown",
   "metadata": {},
   "source": [
    "### Web MUVs"
   ]
  },
  {
   "cell_type": "markdown",
   "metadata": {},
   "source": [
    "Number of unique visitors to the company's web site in a given month"
   ]
  },
  {
   "cell_type": "code",
   "execution_count": 38,
   "metadata": {},
   "outputs": [],
   "source": [
    "muvs = getAggregation(df_data, 'Web MUVs')\n",
    "muvs = rollingMeanMultiPeriods(df_data, [2,3,6,9,11], muvs, 'Web MUVs' )\n",
    "muvs = getFeatures(KPI_df = muvs, KPI = 'Web MUVs', period = [2,3,6,9,11])"
   ]
  },
  {
   "cell_type": "code",
   "execution_count": 39,
   "metadata": {},
   "outputs": [
    {
     "data": {
      "text/plain": [
       "(64, 53)"
      ]
     },
     "execution_count": 39,
     "metadata": {},
     "output_type": "execute_result"
    }
   ],
   "source": [
    "muvs.shape"
   ]
  },
  {
   "cell_type": "code",
   "execution_count": 40,
   "metadata": {},
   "outputs": [
    {
     "data": {
      "text/html": [
       "<div>\n",
       "<style scoped>\n",
       "    .dataframe tbody tr th:only-of-type {\n",
       "        vertical-align: middle;\n",
       "    }\n",
       "\n",
       "    .dataframe tbody tr th {\n",
       "        vertical-align: top;\n",
       "    }\n",
       "\n",
       "    .dataframe thead th {\n",
       "        text-align: right;\n",
       "    }\n",
       "</style>\n",
       "<table border=\"1\" class=\"dataframe\">\n",
       "  <thead>\n",
       "    <tr style=\"text-align: right;\">\n",
       "      <th></th>\n",
       "      <th>NA count</th>\n",
       "      <th>NA %</th>\n",
       "      <th># unique vals</th>\n",
       "      <th>dtype</th>\n",
       "    </tr>\n",
       "  </thead>\n",
       "  <tbody>\n",
       "    <tr>\n",
       "      <th>Web MUVs_MaxLastGrowth</th>\n",
       "      <td>2</td>\n",
       "      <td>3.125</td>\n",
       "      <td>52</td>\n",
       "      <td>float64</td>\n",
       "    </tr>\n",
       "  </tbody>\n",
       "</table>\n",
       "</div>"
      ],
      "text/plain": [
       "                        NA count   NA %  # unique vals    dtype\n",
       "Web MUVs_MaxLastGrowth         2  3.125             52  float64"
      ]
     },
     "execution_count": 40,
     "metadata": {},
     "output_type": "execute_result"
    }
   ],
   "source": [
    "data_summary(muvs)[data_summary(muvs)['NA count'] > 0]"
   ]
  },
  {
   "cell_type": "markdown",
   "metadata": {},
   "source": [
    "### Merge Data Sets for Model Training"
   ]
  },
  {
   "cell_type": "markdown",
   "metadata": {},
   "source": [
    "#### Create a company dataframe to store the new features"
   ]
  },
  {
   "cell_type": "code",
   "execution_count": 41,
   "metadata": {},
   "outputs": [],
   "source": [
    "company = pd.DataFrame()\n",
    "company[\"Company\"] = df_data[\"Company\"].unique()\n",
    "company = company.set_index('Company')"
   ]
  },
  {
   "cell_type": "code",
   "execution_count": 42,
   "metadata": {},
   "outputs": [],
   "source": [
    "df_label['Label01'] =  np.where(df_label['Label'] == 1, 1, 0)\n",
    "df_label = df_label.set_index('Company')"
   ]
  },
  {
   "cell_type": "code",
   "execution_count": 43,
   "metadata": {},
   "outputs": [],
   "source": [
    "company = company.merge(df_label, left_index = True, right_index = True, how = 'left')\n",
    "company = company.merge(downloads, left_index = True, right_index = True, how = 'left')\n",
    "company = company.merge(webRank, left_index = True, right_index = True, how = 'left')\n",
    "company = company.merge(fbLikes, left_index = True, right_index = True, how = 'left')\n",
    "company = company.merge(mau, left_index = True, right_index = True, how = 'left')\n",
    "company = company.merge(visits, left_index = True, right_index = True, how = 'left')\n",
    "company = company.merge(sales, left_index = True, right_index = True, how = 'left')\n",
    "company = company.merge(muvs, left_index = True, right_index = True, how = 'left')"
   ]
  },
  {
   "cell_type": "code",
   "execution_count": 44,
   "metadata": {},
   "outputs": [
    {
     "data": {
      "text/plain": [
       "(64, 332)"
      ]
     },
     "execution_count": 44,
     "metadata": {},
     "output_type": "execute_result"
    }
   ],
   "source": [
    "company.shape"
   ]
  },
  {
   "cell_type": "markdown",
   "metadata": {},
   "source": [
    "#### Drop date columns (not needed for modeling)"
   ]
  },
  {
   "cell_type": "code",
   "execution_count": 45,
   "metadata": {},
   "outputs": [],
   "source": [
    "dateTimeCols = company.select_dtypes(include=['datetime64']).columns\n",
    "company = company.drop(dateTimeCols, axis = 1)"
   ]
  },
  {
   "cell_type": "code",
   "execution_count": 46,
   "metadata": {},
   "outputs": [
    {
     "data": {
      "text/plain": [
       "Index(['Mobile Downloads_maxDate', 'Mobile Downloads_minDate',\n",
       "       'Web rank_maxDate', 'Web rank_minDate', 'FB likes_maxDate',\n",
       "       'FB likes_minDate', 'Mobile MAUs_maxDate', 'Mobile MAUs_minDate',\n",
       "       'Web visits_maxDate', 'Web visits_minDate', 'Monthly sales_maxDate',\n",
       "       'Monthly sales_minDate', 'Web MUVs_maxDate', 'Web MUVs_minDate'],\n",
       "      dtype='object')"
      ]
     },
     "execution_count": 46,
     "metadata": {},
     "output_type": "execute_result"
    }
   ],
   "source": [
    "dateTimeCols"
   ]
  },
  {
   "cell_type": "markdown",
   "metadata": {},
   "source": [
    "#### Convert time delta columns to integers (model only takes int)"
   ]
  },
  {
   "cell_type": "code",
   "execution_count": 47,
   "metadata": {},
   "outputs": [],
   "source": [
    "timeDeltaCols = company.select_dtypes(include=['timedelta64']).columns\n",
    "for col in timeDeltaCols:\n",
    "    company[col] = company[col].dt.days"
   ]
  },
  {
   "cell_type": "markdown",
   "metadata": {},
   "source": [
    "#### Drop Overly Sparse Columns \n",
    "(Not really necessary for models with automatic feature selections, such as tree-based models)"
   ]
  },
  {
   "cell_type": "markdown",
   "metadata": {},
   "source": [
    "###### Drop column if less than 5 companies have data (7% of companies)"
   ]
  },
  {
   "cell_type": "code",
   "execution_count": 48,
   "metadata": {},
   "outputs": [
    {
     "data": {
      "text/plain": [
       "Index(['Mobile MAUs_rollingMean_6', 'Mobile MAUs_diffRolling2Rolling6',\n",
       "       'Mobile MAUs_rankRolling6', 'Mobile MAUs_rankDiffLastRolling6',\n",
       "       'Mobile MAUs_rankDiffGrowthLastRolling6',\n",
       "       'Mobile MAUs_rankDiffGrowthLastRollingL6'],\n",
       "      dtype='object')"
      ]
     },
     "execution_count": 48,
     "metadata": {},
     "output_type": "execute_result"
    }
   ],
   "source": [
    "sparse = company.notnull().sum(axis=0)\n",
    "sparseCols = sparse[sparse<5].index\n",
    "sparseCols"
   ]
  },
  {
   "cell_type": "code",
   "execution_count": 49,
   "metadata": {},
   "outputs": [],
   "source": [
    "company = company.drop(sparseCols, axis = 1)"
   ]
  },
  {
   "cell_type": "code",
   "execution_count": 50,
   "metadata": {},
   "outputs": [
    {
     "data": {
      "text/plain": [
       "(64, 312)"
      ]
     },
     "execution_count": 50,
     "metadata": {},
     "output_type": "execute_result"
    }
   ],
   "source": [
    "company.shape"
   ]
  },
  {
   "cell_type": "markdown",
   "metadata": {},
   "source": [
    "### Classification"
   ]
  },
  {
   "cell_type": "markdown",
   "metadata": {},
   "source": [
    "Classify between 1 (Good) and 0 (Bad)."
   ]
  },
  {
   "cell_type": "markdown",
   "metadata": {},
   "source": [
    "#### Establish Baseline"
   ]
  },
  {
   "cell_type": "markdown",
   "metadata": {},
   "source": [
    "Classifier should correctly identify Good companies at least 25% of the times"
   ]
  },
  {
   "cell_type": "code",
   "execution_count": 51,
   "metadata": {},
   "outputs": [
    {
     "data": {
      "text/plain": [
       "0.5    0.421875\n",
       "0.0    0.328125\n",
       "1.0    0.250000\n",
       "Name: Label, dtype: float64"
      ]
     },
     "execution_count": 51,
     "metadata": {},
     "output_type": "execute_result"
    }
   ],
   "source": [
    "df_label['Label'].value_counts(normalize = True)"
   ]
  },
  {
   "cell_type": "code",
   "execution_count": 52,
   "metadata": {},
   "outputs": [
    {
     "data": {
      "text/plain": [
       "0.5    27\n",
       "0.0    21\n",
       "1.0    16\n",
       "Name: Label, dtype: int64"
      ]
     },
     "execution_count": 52,
     "metadata": {},
     "output_type": "execute_result"
    }
   ],
   "source": [
    "df_label['Label'].value_counts()"
   ]
  },
  {
   "cell_type": "markdown",
   "metadata": {},
   "source": [
    "#### Split data into Train/Test set"
   ]
  },
  {
   "cell_type": "code",
   "execution_count": 53,
   "metadata": {},
   "outputs": [
    {
     "data": {
      "text/plain": [
       "Index(['Label', 'Label01', 'Mobile Downloads_count'], dtype='object')"
      ]
     },
     "execution_count": 53,
     "metadata": {},
     "output_type": "execute_result"
    }
   ],
   "source": [
    "company.columns[0:3]"
   ]
  },
  {
   "cell_type": "code",
   "execution_count": 54,
   "metadata": {},
   "outputs": [],
   "source": [
    "X = company.iloc[:,2:]\n",
    "y = company.iloc[:,1]\n",
    "X_train, X_test, y_train, y_test = train_test_split(X, y, test_size=0.10, stratify = y, random_state=1234)"
   ]
  },
  {
   "cell_type": "code",
   "execution_count": 55,
   "metadata": {},
   "outputs": [],
   "source": [
    "train_data = lgb.Dataset(X_train, label= y_train)\n",
    "test_data = lgb.Dataset(X_test, label = y_test)"
   ]
  },
  {
   "cell_type": "code",
   "execution_count": 56,
   "metadata": {},
   "outputs": [],
   "source": [
    "params = {\n",
    "    'objective':'binary',\n",
    "    'metric':['binary_logloss', 'auc'],\n",
    "    'nthread':-1, \n",
    "    'train_metric': True,\n",
    "    'num_iterations':500,\n",
    "    'learning_rate': 0.03\n",
    "}\n",
    "\n",
    "evals_result = {}  # to record eval results for plotting"
   ]
  },
  {
   "cell_type": "code",
   "execution_count": 57,
   "metadata": {},
   "outputs": [],
   "source": [
    "def lgb_model(params):\n",
    "    lgb_model = lgb.train(params, train_data, valid_sets=[train_data, test_data], early_stopping_rounds=10, verbose_eval=1,  evals_result=evals_result)\n",
    "    return lgb_model"
   ]
  },
  {
   "cell_type": "code",
   "execution_count": 58,
   "metadata": {},
   "outputs": [
    {
     "name": "stdout",
     "output_type": "stream",
     "text": [
      "[1]\ttraining's binary_logloss: 0.678179\ttraining's auc: 0.82392\tvalid_1's binary_logloss: 0.673132\tvalid_1's auc: 1\n",
      "Training until validation scores don't improve for 10 rounds.\n",
      "[2]\ttraining's binary_logloss: 0.66386\ttraining's auc: 0.906977\tvalid_1's binary_logloss: 0.666964\tvalid_1's auc: 1\n",
      "[3]\ttraining's binary_logloss: 0.650363\ttraining's auc: 0.906977\tvalid_1's binary_logloss: 0.661529\tvalid_1's auc: 0.8\n",
      "[4]\ttraining's binary_logloss: 0.637425\ttraining's auc: 0.906977\tvalid_1's binary_logloss: 0.643855\tvalid_1's auc: 1\n",
      "[5]\ttraining's binary_logloss: 0.625203\ttraining's auc: 0.906977\tvalid_1's binary_logloss: 0.639509\tvalid_1's auc: 0.8\n",
      "[6]\ttraining's binary_logloss: 0.613459\ttraining's auc: 0.906977\tvalid_1's binary_logloss: 0.623242\tvalid_1's auc: 0.8\n",
      "[7]\ttraining's binary_logloss: 0.602346\ttraining's auc: 0.906977\tvalid_1's binary_logloss: 0.607764\tvalid_1's auc: 1\n",
      "[8]\ttraining's binary_logloss: 0.591649\ttraining's auc: 0.906977\tvalid_1's binary_logloss: 0.604691\tvalid_1's auc: 1\n",
      "[9]\ttraining's binary_logloss: 0.58151\ttraining's auc: 0.906977\tvalid_1's binary_logloss: 0.602103\tvalid_1's auc: 0.8\n",
      "[10]\ttraining's binary_logloss: 0.571734\ttraining's auc: 0.906977\tvalid_1's binary_logloss: 0.588154\tvalid_1's auc: 0.8\n",
      "[11]\ttraining's binary_logloss: 0.562456\ttraining's auc: 0.906977\tvalid_1's binary_logloss: 0.574838\tvalid_1's auc: 1\n",
      "Early stopping, best iteration is:\n",
      "[1]\ttraining's binary_logloss: 0.678179\ttraining's auc: 0.82392\tvalid_1's binary_logloss: 0.673132\tvalid_1's auc: 1\n"
     ]
    },
    {
     "name": "stderr",
     "output_type": "stream",
     "text": [
      "C:\\Users\\kikimeow\\Anaconda3\\envs\\tf\\lib\\site-packages\\lightgbm\\engine.py:98: UserWarning: Found `num_iterations` in params. Will use it instead of argument\n",
      "  warnings.warn(\"Found `{}` in params. Will use it instead of argument\".format(alias))\n"
     ]
    }
   ],
   "source": [
    "gbm = lgb_model(params)"
   ]
  },
  {
   "cell_type": "code",
   "execution_count": 59,
   "metadata": {},
   "outputs": [],
   "source": [
    "gbm.save_model('model.txt', num_iteration=gbm.best_iteration)"
   ]
  },
  {
   "cell_type": "code",
   "execution_count": 60,
   "metadata": {},
   "outputs": [
    {
     "data": {
      "image/png": "[encoded data removed]",
      "text/plain": [
       "<matplotlib.figure.Figure at 0x2443c50e9b0>"
      ]
     },
     "metadata": {},
     "output_type": "display_data"
    }
   ],
   "source": [
    "ax = lgb.plot_metric(evals_result, metric='binary_logloss')\n",
    "plt.show()"
   ]
  },
  {
   "cell_type": "code",
   "execution_count": 61,
   "metadata": {},
   "outputs": [
    {
     "data": {
      "image/png": "[encoded data removed]",
      "text/plain": [
       "<matplotlib.figure.Figure at 0x2443c57fac8>"
      ]
     },
     "metadata": {},
     "output_type": "display_data"
    }
   ],
   "source": [
    "ax = lgb.plot_metric(evals_result, metric='auc')\n",
    "plt.show()"
   ]
  },
  {
   "cell_type": "markdown",
   "metadata": {},
   "source": [
    "#### Predictions"
   ]
  },
  {
   "cell_type": "code",
   "execution_count": 85,
   "metadata": {},
   "outputs": [],
   "source": [
    "ypred_all = gbm.predict(X, num_iteration=gbm.best_iteration)\n",
    "ypred_test = gbm.predict(X_test, num_iteration=gbm.best_iteration)\n",
    "ypred_train = gbm.predict(X_train, num_iteration=gbm.best_iteration)"
   ]
  },
  {
   "cell_type": "markdown",
   "metadata": {},
   "source": [
    "#### Evaluation"
   ]
  },
  {
   "cell_type": "code",
   "execution_count": 86,
   "metadata": {},
   "outputs": [
    {
     "name": "stdout",
     "output_type": "stream",
     "text": [
      "logloss all:  0.10330248295717313\n",
      "logloss train:  0.08747263714953138\n",
      "logloss test:  0.23220265596225584\n"
     ]
    }
   ],
   "source": [
    "print(\"logloss all: \", log_loss(y.values, ypred_all))\n",
    "print(\"logloss train: \", log_loss(y_train.values, ypred_train))\n",
    "print(\"logloss test: \", log_loss(y_test.values, ypred_test))"
   ]
  },
  {
   "cell_type": "code",
   "execution_count": 87,
   "metadata": {},
   "outputs": [
    {
     "name": "stdout",
     "output_type": "stream",
     "text": [
      "roc_auc all: 1.0\n",
      "roc_auc train: 1.0\n",
      "roc_auc test: 1.0\n"
     ]
    }
   ],
   "source": [
    "print('roc_auc all:', roc_auc_score(y.values, ypred_all))\n",
    "print('roc_auc train:', roc_auc_score(y_train.values, ypred_train))\n",
    "print('roc_auc test:', roc_auc_score(y_test.values, ypred_test))"
   ]
  },
  {
   "cell_type": "markdown",
   "metadata": {},
   "source": [
    "#### Plot ROC curve for the test set"
   ]
  },
  {
   "cell_type": "code",
   "execution_count": 88,
   "metadata": {},
   "outputs": [
    {
     "data": {
      "image/png": "[encoded data removed]",
      "text/plain": [
       "<matplotlib.figure.Figure at 0x227d92ae518>"
      ]
     },
     "metadata": {},
     "output_type": "display_data"
    }
   ],
   "source": [
    "fpr, tpr, thresholds = roc_curve(y_test.values, ypred_test)\n",
    "plt.figure()\n",
    "lw = 2\n",
    "plt.plot(fpr, tpr, color='darkorange',\n",
    "         lw=lw, label='ROC curve (area = %0.2f)' % roc_auc_score(y_test.values, ypred_test))\n",
    "plt.plot([0, 1], [0, 1], color='navy', lw=lw, linestyle='--')\n",
    "plt.xlim([0.0, 1.0])\n",
    "plt.ylim([0.0, 1.05])\n",
    "plt.xlabel('False Positive Rate')\n",
    "plt.ylabel('True Positive Rate')\n",
    "plt.title('Receiver operating characteristic example')\n",
    "plt.legend(loc=\"lower right\")\n",
    "plt.show()"
   ]
  },
  {
   "cell_type": "markdown",
   "metadata": {},
   "source": [
    "#### Feature Importance"
   ]
  },
  {
   "cell_type": "code",
   "execution_count": 73,
   "metadata": {},
   "outputs": [
    {
     "data": {
      "text/plain": [
       "<matplotlib.axes._subplots.AxesSubplot at 0x227d9b9b748>"
      ]
     },
     "execution_count": 73,
     "metadata": {},
     "output_type": "execute_result"
    },
    {
     "data": {
      "image/png": "[encoded data removed]",
      "text/plain": [
       "<matplotlib.figure.Figure at 0x227d9b8dcf8>"
      ]
     },
     "metadata": {},
     "output_type": "display_data"
    }
   ],
   "source": [
    "lgb.plot_importance(gbm, max_num_features=20)"
   ]
  },
  {
   "cell_type": "code",
   "execution_count": 74,
   "metadata": {},
   "outputs": [],
   "source": [
    "importance = pd.DataFrame()\n",
    "importance['features'] = gbm.feature_name()\n",
    "importance['importance'] = gbm.feature_importance(importance_type='split', iteration=-1)"
   ]
  },
  {
   "cell_type": "code",
   "execution_count": 75,
   "metadata": {},
   "outputs": [
    {
     "data": {
      "text/html": [
       "<div>\n",
       "<style scoped>\n",
       "    .dataframe tbody tr th:only-of-type {\n",
       "        vertical-align: middle;\n",
       "    }\n",
       "\n",
       "    .dataframe tbody tr th {\n",
       "        vertical-align: top;\n",
       "    }\n",
       "\n",
       "    .dataframe thead th {\n",
       "        text-align: right;\n",
       "    }\n",
       "</style>\n",
       "<table border=\"1\" class=\"dataframe\">\n",
       "  <thead>\n",
       "    <tr style=\"text-align: right;\">\n",
       "      <th></th>\n",
       "      <th>features</th>\n",
       "      <th>importance</th>\n",
       "    </tr>\n",
       "  </thead>\n",
       "  <tbody>\n",
       "    <tr>\n",
       "      <th>0</th>\n",
       "      <td>Web_visits_diffRolling5Rolling60</td>\n",
       "      <td>12</td>\n",
       "    </tr>\n",
       "    <tr>\n",
       "      <th>1</th>\n",
       "      <td>Web_rank_rankRolling60</td>\n",
       "      <td>9</td>\n",
       "    </tr>\n",
       "    <tr>\n",
       "      <th>2</th>\n",
       "      <td>Web_MUVs_rankDiffLastRolling9</td>\n",
       "      <td>5</td>\n",
       "    </tr>\n",
       "    <tr>\n",
       "      <th>3</th>\n",
       "      <td>Web_visits_rankDiffLastRolling30</td>\n",
       "      <td>2</td>\n",
       "    </tr>\n",
       "    <tr>\n",
       "      <th>4</th>\n",
       "      <td>Web_rank_rollingMean_60</td>\n",
       "      <td>2</td>\n",
       "    </tr>\n",
       "    <tr>\n",
       "      <th>5</th>\n",
       "      <td>FB_likes_diffRolling5Rolling90</td>\n",
       "      <td>1</td>\n",
       "    </tr>\n",
       "    <tr>\n",
       "      <th>6</th>\n",
       "      <td>Web_visits_rankDiffGrowthLastRolling30</td>\n",
       "      <td>0</td>\n",
       "    </tr>\n",
       "    <tr>\n",
       "      <th>7</th>\n",
       "      <td>Web_visits_rankDiffGrowthLastRolling60</td>\n",
       "      <td>0</td>\n",
       "    </tr>\n",
       "    <tr>\n",
       "      <th>8</th>\n",
       "      <td>Web_visits_rankDiffGrowthLastRolling90</td>\n",
       "      <td>0</td>\n",
       "    </tr>\n",
       "    <tr>\n",
       "      <th>9</th>\n",
       "      <td>Web_visits_rankDiffGrowthLastRollingL5</td>\n",
       "      <td>0</td>\n",
       "    </tr>\n",
       "    <tr>\n",
       "      <th>10</th>\n",
       "      <td>Monthly_sales_mean</td>\n",
       "      <td>0</td>\n",
       "    </tr>\n",
       "    <tr>\n",
       "      <th>11</th>\n",
       "      <td>Web_visits_rankDiffGrowthLastRollingL30</td>\n",
       "      <td>0</td>\n",
       "    </tr>\n",
       "    <tr>\n",
       "      <th>12</th>\n",
       "      <td>Web_visits_rankDiffGrowthLastRolling15</td>\n",
       "      <td>0</td>\n",
       "    </tr>\n",
       "    <tr>\n",
       "      <th>13</th>\n",
       "      <td>Web_visits_rankDiffGrowthLastRollingL60</td>\n",
       "      <td>0</td>\n",
       "    </tr>\n",
       "    <tr>\n",
       "      <th>14</th>\n",
       "      <td>Web_visits_rankDiffGrowthLastRolling5</td>\n",
       "      <td>0</td>\n",
       "    </tr>\n",
       "  </tbody>\n",
       "</table>\n",
       "</div>"
      ],
      "text/plain": [
       "                                   features  importance\n",
       "0          Web_visits_diffRolling5Rolling60          12\n",
       "1                    Web_rank_rankRolling60           9\n",
       "2             Web_MUVs_rankDiffLastRolling9           5\n",
       "3          Web_visits_rankDiffLastRolling30           2\n",
       "4                   Web_rank_rollingMean_60           2\n",
       "5            FB_likes_diffRolling5Rolling90           1\n",
       "6    Web_visits_rankDiffGrowthLastRolling30           0\n",
       "7    Web_visits_rankDiffGrowthLastRolling60           0\n",
       "8    Web_visits_rankDiffGrowthLastRolling90           0\n",
       "9    Web_visits_rankDiffGrowthLastRollingL5           0\n",
       "10                       Monthly_sales_mean           0\n",
       "11  Web_visits_rankDiffGrowthLastRollingL30           0\n",
       "12   Web_visits_rankDiffGrowthLastRolling15           0\n",
       "13  Web_visits_rankDiffGrowthLastRollingL60           0\n",
       "14    Web_visits_rankDiffGrowthLastRolling5           0"
      ]
     },
     "execution_count": 75,
     "metadata": {},
     "output_type": "execute_result"
    }
   ],
   "source": [
    "importance = importance.sort_values(by = 'importance', ascending = False).reset_index(drop = True)\n",
    "importance[0:15]"
   ]
  },
  {
   "cell_type": "markdown",
   "metadata": {},
   "source": [
    "### Model Interpretation"
   ]
  },
  {
   "cell_type": "markdown",
   "metadata": {},
   "source": [
    "#### Plot 1st tree"
   ]
  },
  {
   "cell_type": "code",
   "execution_count": 67,
   "metadata": {},
   "outputs": [
    {
     "name": "stdout",
     "output_type": "stream",
     "text": [
      "Plot 1st tree...\n"
     ]
    },
    {
     "data": {
      "image/png": "[encoded data removed]",
      "text/plain": [
       "<matplotlib.figure.Figure at 0x2443cae8b38>"
      ]
     },
     "metadata": {},
     "output_type": "display_data"
    }
   ],
   "source": [
    "ax = lgb.plot_tree(gbm, tree_index=0, figsize=(10, 8), show_info=['split_gain'])\n",
    "plt.show()"
   ]
  },
  {
   "cell_type": "markdown",
   "metadata": {},
   "source": [
    "The lower the Web rank (best company ranks 1), the better the company.  \n",
    "Recent observations are more important than the past performance.  Rolling Mean of 5 days is the most important features, rather than rolling mean of longer periods.  "
   ]
  },
  {
   "cell_type": "code",
   "execution_count": 89,
   "metadata": {},
   "outputs": [
    {
     "data": {
      "text/plain": [
       "Text(0.5,1,'Web rank_rollingMean_5')"
      ]
     },
     "execution_count": 89,
     "metadata": {},
     "output_type": "execute_result"
    },
    {
     "data": {
      "image/png": "[encoded data removed]",
      "text/plain": [
       "<matplotlib.figure.Figure at 0x227d92a2a90>"
      ]
     },
     "metadata": {},
     "output_type": "display_data"
    }
   ],
   "source": [
    "ax = sns.boxplot(x=\"Label\", y=\"Web rank_rollingMean_5\", data=company, linewidth=2.5)\n",
    "plt.title(\"Web rank_rollingMean_5\")"
   ]
  },
  {
   "cell_type": "markdown",
   "metadata": {},
   "source": [
    "Good company have either a stable web rank, or an improvement in web rank.\n",
    "Stabalization is measured by the differences between rolling 90 day average and rolling 5 days averages.  The smaller the differences, the more stable the web rank is.  <br>Bad companies are signaled by a drop in ranks, which are represented by the negative values.  "
   ]
  },
  {
   "cell_type": "code",
   "execution_count": 90,
   "metadata": {},
   "outputs": [
    {
     "data": {
      "text/plain": [
       "Text(0.5,1,'Web rank_diffRolling5Rolling90')"
      ]
     },
     "execution_count": 90,
     "metadata": {},
     "output_type": "execute_result"
    },
    {
     "data": {
      "image/png": "[encoded data removed]",
      "text/plain": [
       "<matplotlib.figure.Figure at 0x227d9ba74a8>"
      ]
     },
     "metadata": {},
     "output_type": "display_data"
    }
   ],
   "source": [
    "var = 'Web rank_diffRolling5Rolling90'\n",
    "ax = sns.boxplot(x=\"Label\", y= var, data=company, linewidth=2.5)\n",
    "plt.title(var)"
   ]
  },
  {
   "cell_type": "markdown",
   "metadata": {},
   "source": [
    "#### Find correlation with the Target"
   ]
  },
  {
   "cell_type": "code",
   "execution_count": 97,
   "metadata": {},
   "outputs": [
    {
     "data": {
      "text/plain": [
       "Mobile MAUs_rankDiffGrowthLastRolling5    -0.914532\n",
       "Mobile MAUs_diffRolling2Rolling5          -0.884679\n",
       "Mobile MAUs_rankRolling5                  -0.707107\n",
       "Mobile MAUs_rankDiffGrowthLastRollingL5   -0.683384\n",
       "Web visits_rankRolling90                  -0.619216\n",
       "Web visits_rankRolling60                  -0.613356\n",
       "Mobile MAUs_rankDiffGrowthLastRolling3    -0.583845\n",
       "Mobile MAUs_rankDiffGrowthLastRolling4    -0.583845\n",
       "Web rank_rollingMean_15                   -0.581911\n",
       "Mobile MAUs_rankDiffGrowthLastRolling2    -0.581733\n",
       "Name: Label01, dtype: float64"
      ]
     },
     "execution_count": 97,
     "metadata": {},
     "output_type": "execute_result"
    }
   ],
   "source": [
    "company.corr()['Label01'].sort_values().head(10)"
   ]
  },
  {
   "cell_type": "code",
   "execution_count": 101,
   "metadata": {},
   "outputs": [
    {
     "data": {
      "text/plain": [
       "Label01                      1.000000\n",
       "Label                        0.823005\n",
       "Mobile MAUs_rollingMean_5    0.691684\n",
       "Mobile Downloads_last        0.639626\n",
       "Web visits_diffMaxMin        0.612192\n",
       "Web visits_diffMaxLast       0.606080\n",
       "Web visits_max               0.596596\n",
       "Mobile Downloads_min         0.593934\n",
       "Web visits_std               0.590485\n",
       "Web rank_rankRolling15       0.582102\n",
       "Web rank_rankRolling5        0.564522\n",
       "Web rank_rankRolling30       0.558801\n",
       "Name: Label01, dtype: float64"
      ]
     },
     "execution_count": 101,
     "metadata": {},
     "output_type": "execute_result"
    }
   ],
   "source": [
    "company.corr()['Label01'].sort_values(ascending = False).head(12)"
   ]
  },
  {
   "cell_type": "markdown",
   "metadata": {},
   "source": [
    "#### KDE plot of Top 5 features"
   ]
  },
  {
   "cell_type": "code",
   "execution_count": 149,
   "metadata": {},
   "outputs": [
    {
     "name": "stderr",
     "output_type": "stream",
     "text": [
      "C:\\Users\\kikimeow\\Anaconda3\\envs\\tf\\lib\\site-packages\\statsmodels\\nonparametric\\kde.py:454: RuntimeWarning: invalid value encountered in greater\n",
      "  X = X[np.logical_and(X>clip[0], X<clip[1])] # won't work for two columns.\n",
      "C:\\Users\\kikimeow\\Anaconda3\\envs\\tf\\lib\\site-packages\\statsmodels\\nonparametric\\kde.py:454: RuntimeWarning: invalid value encountered in less\n",
      "  X = X[np.logical_and(X>clip[0], X<clip[1])] # won't work for two columns.\n"
     ]
    },
    {
     "data": {
      "image/png": "[encoded data removed]",
      "text/plain": [
       "<matplotlib.figure.Figure at 0x227dc5ce358>"
      ]
     },
     "metadata": {},
     "output_type": "display_data"
    }
   ],
   "source": [
    "plt.figure(figsize = (10, 12))\n",
    "cols = ['Web visits_diffRolling5Rolling60', 'Web rank_rankRolling60',\n",
    "       'Web MUVs_rankDiffLastRolling9',\n",
    "       'Web visits_rankDiffLastRolling30', 'Web rank_rollingMean_60',\n",
    "       'FB likes_diffRolling5Rolling90']\n",
    "\n",
    "for i, source in enumerate(cols):\n",
    "    plt.subplot(len(cols), 1, i + 1)\n",
    "    sns.kdeplot(company.loc[company['Label01']== 1, source], label = 'Good Companies')\n",
    "    sns.kdeplot(company.loc[company['Label01']== 0, source], label = 'Bad Companies')\n",
    "    plt.title('Distribution of %s by Target Value' %source)\n",
    "    plt.xlabel('%s' %source)\n",
    "    plt.ylabel('Density')\n",
    "plt.tight_layout(h_pad = 2.5)"
   ]
  },
  {
   "cell_type": "markdown",
   "metadata": {},
   "source": [
    "#### Heatmap of feature correlations"
   ]
  },
  {
   "cell_type": "code",
   "execution_count": 135,
   "metadata": {},
   "outputs": [],
   "source": [
    "cols = ['Label01', 'Web visits_diffRolling5Rolling60', 'Web rank_rankRolling60',\n",
    "       'Web MUVs_rankDiffLastRolling9',\n",
    "       'Web visits_rankDiffLastRolling30', 'Web rank_rollingMean_60',\n",
    "       'FB likes_diffRolling5Rolling90',\n",
    "       'Web visits_rankDiffGrowthLastRolling30',\n",
    "       'Web visits_rankDiffGrowthLastRolling60',\n",
    "       'Web visits_rankDiffGrowthLastRolling90',\n",
    "       'Web visits_rankDiffGrowthLastRollingL5']"
   ]
  },
  {
   "cell_type": "code",
   "execution_count": 137,
   "metadata": {},
   "outputs": [
    {
     "data": {
      "text/html": [
       "<div>\n",
       "<style scoped>\n",
       "    .dataframe tbody tr th:only-of-type {\n",
       "        vertical-align: middle;\n",
       "    }\n",
       "\n",
       "    .dataframe tbody tr th {\n",
       "        vertical-align: top;\n",
       "    }\n",
       "\n",
       "    .dataframe thead th {\n",
       "        text-align: right;\n",
       "    }\n",
       "</style>\n",
       "<table border=\"1\" class=\"dataframe\">\n",
       "  <thead>\n",
       "    <tr style=\"text-align: right;\">\n",
       "      <th></th>\n",
       "      <th>Label01</th>\n",
       "      <th>Web visits_diffRolling5Rolling60</th>\n",
       "      <th>Web rank_rankRolling60</th>\n",
       "      <th>Web MUVs_rankDiffLastRolling9</th>\n",
       "      <th>Web visits_rankDiffLastRolling30</th>\n",
       "      <th>Web rank_rollingMean_60</th>\n",
       "      <th>FB likes_diffRolling5Rolling90</th>\n",
       "      <th>Web visits_rankDiffGrowthLastRolling30</th>\n",
       "      <th>Web visits_rankDiffGrowthLastRolling60</th>\n",
       "      <th>Web visits_rankDiffGrowthLastRolling90</th>\n",
       "      <th>Web visits_rankDiffGrowthLastRollingL5</th>\n",
       "    </tr>\n",
       "  </thead>\n",
       "  <tbody>\n",
       "    <tr>\n",
       "      <th>Label01</th>\n",
       "      <td>1.000000</td>\n",
       "      <td>-0.316193</td>\n",
       "      <td>0.552701</td>\n",
       "      <td>0.268175</td>\n",
       "      <td>-0.105641</td>\n",
       "      <td>-0.552110</td>\n",
       "      <td>0.486662</td>\n",
       "      <td>-0.044992</td>\n",
       "      <td>-0.236308</td>\n",
       "      <td>-0.239042</td>\n",
       "      <td>-0.176503</td>\n",
       "    </tr>\n",
       "    <tr>\n",
       "      <th>Web visits_diffRolling5Rolling60</th>\n",
       "      <td>-0.316193</td>\n",
       "      <td>1.000000</td>\n",
       "      <td>-0.290235</td>\n",
       "      <td>0.005586</td>\n",
       "      <td>0.084406</td>\n",
       "      <td>0.289038</td>\n",
       "      <td>-0.380246</td>\n",
       "      <td>0.086370</td>\n",
       "      <td>0.236335</td>\n",
       "      <td>0.223475</td>\n",
       "      <td>0.076927</td>\n",
       "    </tr>\n",
       "    <tr>\n",
       "      <th>Web rank_rankRolling60</th>\n",
       "      <td>0.552701</td>\n",
       "      <td>-0.290235</td>\n",
       "      <td>1.000000</td>\n",
       "      <td>0.283079</td>\n",
       "      <td>-0.222724</td>\n",
       "      <td>-0.994426</td>\n",
       "      <td>0.531604</td>\n",
       "      <td>-0.159751</td>\n",
       "      <td>-0.166387</td>\n",
       "      <td>-0.130435</td>\n",
       "      <td>-0.045386</td>\n",
       "    </tr>\n",
       "    <tr>\n",
       "      <th>Web MUVs_rankDiffLastRolling9</th>\n",
       "      <td>0.268175</td>\n",
       "      <td>0.005586</td>\n",
       "      <td>0.283079</td>\n",
       "      <td>1.000000</td>\n",
       "      <td>-0.178269</td>\n",
       "      <td>-0.292560</td>\n",
       "      <td>0.105318</td>\n",
       "      <td>-0.129774</td>\n",
       "      <td>-0.040514</td>\n",
       "      <td>0.109270</td>\n",
       "      <td>-0.089519</td>\n",
       "    </tr>\n",
       "    <tr>\n",
       "      <th>Web visits_rankDiffLastRolling30</th>\n",
       "      <td>-0.105641</td>\n",
       "      <td>0.084406</td>\n",
       "      <td>-0.222724</td>\n",
       "      <td>-0.178269</td>\n",
       "      <td>1.000000</td>\n",
       "      <td>0.214115</td>\n",
       "      <td>-0.062936</td>\n",
       "      <td>0.935859</td>\n",
       "      <td>0.793543</td>\n",
       "      <td>0.638246</td>\n",
       "      <td>0.486949</td>\n",
       "    </tr>\n",
       "    <tr>\n",
       "      <th>Web rank_rollingMean_60</th>\n",
       "      <td>-0.552110</td>\n",
       "      <td>0.289038</td>\n",
       "      <td>-0.994426</td>\n",
       "      <td>-0.292560</td>\n",
       "      <td>0.214115</td>\n",
       "      <td>1.000000</td>\n",
       "      <td>-0.544384</td>\n",
       "      <td>0.155527</td>\n",
       "      <td>0.153339</td>\n",
       "      <td>0.123480</td>\n",
       "      <td>0.048971</td>\n",
       "    </tr>\n",
       "    <tr>\n",
       "      <th>FB likes_diffRolling5Rolling90</th>\n",
       "      <td>0.486662</td>\n",
       "      <td>-0.380246</td>\n",
       "      <td>0.531604</td>\n",
       "      <td>0.105318</td>\n",
       "      <td>-0.062936</td>\n",
       "      <td>-0.544384</td>\n",
       "      <td>1.000000</td>\n",
       "      <td>-0.107713</td>\n",
       "      <td>-0.037507</td>\n",
       "      <td>-0.018675</td>\n",
       "      <td>-0.116458</td>\n",
       "    </tr>\n",
       "    <tr>\n",
       "      <th>Web visits_rankDiffGrowthLastRolling30</th>\n",
       "      <td>-0.044992</td>\n",
       "      <td>0.086370</td>\n",
       "      <td>-0.159751</td>\n",
       "      <td>-0.129774</td>\n",
       "      <td>0.935859</td>\n",
       "      <td>0.155527</td>\n",
       "      <td>-0.107713</td>\n",
       "      <td>1.000000</td>\n",
       "      <td>0.796517</td>\n",
       "      <td>0.647437</td>\n",
       "      <td>0.391640</td>\n",
       "    </tr>\n",
       "    <tr>\n",
       "      <th>Web visits_rankDiffGrowthLastRolling60</th>\n",
       "      <td>-0.236308</td>\n",
       "      <td>0.236335</td>\n",
       "      <td>-0.166387</td>\n",
       "      <td>-0.040514</td>\n",
       "      <td>0.793543</td>\n",
       "      <td>0.153339</td>\n",
       "      <td>-0.037507</td>\n",
       "      <td>0.796517</td>\n",
       "      <td>1.000000</td>\n",
       "      <td>0.911656</td>\n",
       "      <td>0.496776</td>\n",
       "    </tr>\n",
       "    <tr>\n",
       "      <th>Web visits_rankDiffGrowthLastRolling90</th>\n",
       "      <td>-0.239042</td>\n",
       "      <td>0.223475</td>\n",
       "      <td>-0.130435</td>\n",
       "      <td>0.109270</td>\n",
       "      <td>0.638246</td>\n",
       "      <td>0.123480</td>\n",
       "      <td>-0.018675</td>\n",
       "      <td>0.647437</td>\n",
       "      <td>0.911656</td>\n",
       "      <td>1.000000</td>\n",
       "      <td>0.381992</td>\n",
       "    </tr>\n",
       "    <tr>\n",
       "      <th>Web visits_rankDiffGrowthLastRollingL5</th>\n",
       "      <td>-0.176503</td>\n",
       "      <td>0.076927</td>\n",
       "      <td>-0.045386</td>\n",
       "      <td>-0.089519</td>\n",
       "      <td>0.486949</td>\n",
       "      <td>0.048971</td>\n",
       "      <td>-0.116458</td>\n",
       "      <td>0.391640</td>\n",
       "      <td>0.496776</td>\n",
       "      <td>0.381992</td>\n",
       "      <td>1.000000</td>\n",
       "    </tr>\n",
       "  </tbody>\n",
       "</table>\n",
       "</div>"
      ],
      "text/plain": [
       "                                         Label01  \\\n",
       "Label01                                 1.000000   \n",
       "Web visits_diffRolling5Rolling60       -0.316193   \n",
       "Web rank_rankRolling60                  0.552701   \n",
       "Web MUVs_rankDiffLastRolling9           0.268175   \n",
       "Web visits_rankDiffLastRolling30       -0.105641   \n",
       "Web rank_rollingMean_60                -0.552110   \n",
       "FB likes_diffRolling5Rolling90          0.486662   \n",
       "Web visits_rankDiffGrowthLastRolling30 -0.044992   \n",
       "Web visits_rankDiffGrowthLastRolling60 -0.236308   \n",
       "Web visits_rankDiffGrowthLastRolling90 -0.239042   \n",
       "Web visits_rankDiffGrowthLastRollingL5 -0.176503   \n",
       "\n",
       "                                        Web visits_diffRolling5Rolling60  \\\n",
       "Label01                                                        -0.316193   \n",
       "Web visits_diffRolling5Rolling60                                1.000000   \n",
       "Web rank_rankRolling60                                         -0.290235   \n",
       "Web MUVs_rankDiffLastRolling9                                   0.005586   \n",
       "Web visits_rankDiffLastRolling30                                0.084406   \n",
       "Web rank_rollingMean_60                                         0.289038   \n",
       "FB likes_diffRolling5Rolling90                                 -0.380246   \n",
       "Web visits_rankDiffGrowthLastRolling30                          0.086370   \n",
       "Web visits_rankDiffGrowthLastRolling60                          0.236335   \n",
       "Web visits_rankDiffGrowthLastRolling90                          0.223475   \n",
       "Web visits_rankDiffGrowthLastRollingL5                          0.076927   \n",
       "\n",
       "                                        Web rank_rankRolling60  \\\n",
       "Label01                                               0.552701   \n",
       "Web visits_diffRolling5Rolling60                     -0.290235   \n",
       "Web rank_rankRolling60                                1.000000   \n",
       "Web MUVs_rankDiffLastRolling9                         0.283079   \n",
       "Web visits_rankDiffLastRolling30                     -0.222724   \n",
       "Web rank_rollingMean_60                              -0.994426   \n",
       "FB likes_diffRolling5Rolling90                        0.531604   \n",
       "Web visits_rankDiffGrowthLastRolling30               -0.159751   \n",
       "Web visits_rankDiffGrowthLastRolling60               -0.166387   \n",
       "Web visits_rankDiffGrowthLastRolling90               -0.130435   \n",
       "Web visits_rankDiffGrowthLastRollingL5               -0.045386   \n",
       "\n",
       "                                        Web MUVs_rankDiffLastRolling9  \\\n",
       "Label01                                                      0.268175   \n",
       "Web visits_diffRolling5Rolling60                             0.005586   \n",
       "Web rank_rankRolling60                                       0.283079   \n",
       "Web MUVs_rankDiffLastRolling9                                1.000000   \n",
       "Web visits_rankDiffLastRolling30                            -0.178269   \n",
       "Web rank_rollingMean_60                                     -0.292560   \n",
       "FB likes_diffRolling5Rolling90                               0.105318   \n",
       "Web visits_rankDiffGrowthLastRolling30                      -0.129774   \n",
       "Web visits_rankDiffGrowthLastRolling60                      -0.040514   \n",
       "Web visits_rankDiffGrowthLastRolling90                       0.109270   \n",
       "Web visits_rankDiffGrowthLastRollingL5                      -0.089519   \n",
       "\n",
       "                                        Web visits_rankDiffLastRolling30  \\\n",
       "Label01                                                        -0.105641   \n",
       "Web visits_diffRolling5Rolling60                                0.084406   \n",
       "Web rank_rankRolling60                                         -0.222724   \n",
       "Web MUVs_rankDiffLastRolling9                                  -0.178269   \n",
       "Web visits_rankDiffLastRolling30                                1.000000   \n",
       "Web rank_rollingMean_60                                         0.214115   \n",
       "FB likes_diffRolling5Rolling90                                 -0.062936   \n",
       "Web visits_rankDiffGrowthLastRolling30                          0.935859   \n",
       "Web visits_rankDiffGrowthLastRolling60                          0.793543   \n",
       "Web visits_rankDiffGrowthLastRolling90                          0.638246   \n",
       "Web visits_rankDiffGrowthLastRollingL5                          0.486949   \n",
       "\n",
       "                                        Web rank_rollingMean_60  \\\n",
       "Label01                                               -0.552110   \n",
       "Web visits_diffRolling5Rolling60                       0.289038   \n",
       "Web rank_rankRolling60                                -0.994426   \n",
       "Web MUVs_rankDiffLastRolling9                         -0.292560   \n",
       "Web visits_rankDiffLastRolling30                       0.214115   \n",
       "Web rank_rollingMean_60                                1.000000   \n",
       "FB likes_diffRolling5Rolling90                        -0.544384   \n",
       "Web visits_rankDiffGrowthLastRolling30                 0.155527   \n",
       "Web visits_rankDiffGrowthLastRolling60                 0.153339   \n",
       "Web visits_rankDiffGrowthLastRolling90                 0.123480   \n",
       "Web visits_rankDiffGrowthLastRollingL5                 0.048971   \n",
       "\n",
       "                                        FB likes_diffRolling5Rolling90  \\\n",
       "Label01                                                       0.486662   \n",
       "Web visits_diffRolling5Rolling60                             -0.380246   \n",
       "Web rank_rankRolling60                                        0.531604   \n",
       "Web MUVs_rankDiffLastRolling9                                 0.105318   \n",
       "Web visits_rankDiffLastRolling30                             -0.062936   \n",
       "Web rank_rollingMean_60                                      -0.544384   \n",
       "FB likes_diffRolling5Rolling90                                1.000000   \n",
       "Web visits_rankDiffGrowthLastRolling30                       -0.107713   \n",
       "Web visits_rankDiffGrowthLastRolling60                       -0.037507   \n",
       "Web visits_rankDiffGrowthLastRolling90                       -0.018675   \n",
       "Web visits_rankDiffGrowthLastRollingL5                       -0.116458   \n",
       "\n",
       "                                        Web visits_rankDiffGrowthLastRolling30  \\\n",
       "Label01                                                              -0.044992   \n",
       "Web visits_diffRolling5Rolling60                                      0.086370   \n",
       "Web rank_rankRolling60                                               -0.159751   \n",
       "Web MUVs_rankDiffLastRolling9                                        -0.129774   \n",
       "Web visits_rankDiffLastRolling30                                      0.935859   \n",
       "Web rank_rollingMean_60                                               0.155527   \n",
       "FB likes_diffRolling5Rolling90                                       -0.107713   \n",
       "Web visits_rankDiffGrowthLastRolling30                                1.000000   \n",
       "Web visits_rankDiffGrowthLastRolling60                                0.796517   \n",
       "Web visits_rankDiffGrowthLastRolling90                                0.647437   \n",
       "Web visits_rankDiffGrowthLastRollingL5                                0.391640   \n",
       "\n",
       "                                        Web visits_rankDiffGrowthLastRolling60  \\\n",
       "Label01                                                              -0.236308   \n",
       "Web visits_diffRolling5Rolling60                                      0.236335   \n",
       "Web rank_rankRolling60                                               -0.166387   \n",
       "Web MUVs_rankDiffLastRolling9                                        -0.040514   \n",
       "Web visits_rankDiffLastRolling30                                      0.793543   \n",
       "Web rank_rollingMean_60                                               0.153339   \n",
       "FB likes_diffRolling5Rolling90                                       -0.037507   \n",
       "Web visits_rankDiffGrowthLastRolling30                                0.796517   \n",
       "Web visits_rankDiffGrowthLastRolling60                                1.000000   \n",
       "Web visits_rankDiffGrowthLastRolling90                                0.911656   \n",
       "Web visits_rankDiffGrowthLastRollingL5                                0.496776   \n",
       "\n",
       "                                        Web visits_rankDiffGrowthLastRolling90  \\\n",
       "Label01                                                              -0.239042   \n",
       "Web visits_diffRolling5Rolling60                                      0.223475   \n",
       "Web rank_rankRolling60                                               -0.130435   \n",
       "Web MUVs_rankDiffLastRolling9                                         0.109270   \n",
       "Web visits_rankDiffLastRolling30                                      0.638246   \n",
       "Web rank_rollingMean_60                                               0.123480   \n",
       "FB likes_diffRolling5Rolling90                                       -0.018675   \n",
       "Web visits_rankDiffGrowthLastRolling30                                0.647437   \n",
       "Web visits_rankDiffGrowthLastRolling60                                0.911656   \n",
       "Web visits_rankDiffGrowthLastRolling90                                1.000000   \n",
       "Web visits_rankDiffGrowthLastRollingL5                                0.381992   \n",
       "\n",
       "                                        Web visits_rankDiffGrowthLastRollingL5  \n",
       "Label01                                                              -0.176503  \n",
       "Web visits_diffRolling5Rolling60                                      0.076927  \n",
       "Web rank_rankRolling60                                               -0.045386  \n",
       "Web MUVs_rankDiffLastRolling9                                        -0.089519  \n",
       "Web visits_rankDiffLastRolling30                                      0.486949  \n",
       "Web rank_rollingMean_60                                               0.048971  \n",
       "FB likes_diffRolling5Rolling90                                       -0.116458  \n",
       "Web visits_rankDiffGrowthLastRolling30                                0.391640  \n",
       "Web visits_rankDiffGrowthLastRolling60                                0.496776  \n",
       "Web visits_rankDiffGrowthLastRolling90                                0.381992  \n",
       "Web visits_rankDiffGrowthLastRollingL5                                1.000000  "
      ]
     },
     "execution_count": 137,
     "metadata": {},
     "output_type": "execute_result"
    }
   ],
   "source": [
    "company_corr = company.loc[:,cols].corr()\n",
    "company_corr"
   ]
  },
  {
   "cell_type": "code",
   "execution_count": 138,
   "metadata": {},
   "outputs": [
    {
     "data": {
      "text/plain": [
       "Text(0.5,1,'correlation heatmap')"
      ]
     },
     "execution_count": 138,
     "metadata": {},
     "output_type": "execute_result"
    },
    {
     "data": {
      "image/png": "[encoded data removed]",
      "text/plain": [
       "<matplotlib.figure.Figure at 0x227d992d668>"
      ]
     },
     "metadata": {},
     "output_type": "display_data"
    }
   ],
   "source": [
    "plt.figure(figsize = (8, 6))\n",
    "sns.heatmap(company_corr, cmap = plt.cm.RdYlBu_r, vmin = -0.25, annot = True, vmax = 0.6)\n",
    "plt.title('correlation heatmap')"
   ]
  },
  {
   "cell_type": "code",
   "execution_count": null,
   "metadata": {},
   "outputs": [],
   "source": []
  }
 ],
 "metadata": {
  "kernelspec": {
   "display_name": "Python 3",
   "language": "python",
   "name": "python3"
  },
  "language_info": {
   "codemirror_mode": {
    "name": "ipython",
    "version": 3
   },
   "file_extension": ".py",
   "mimetype": "text/x-python",
   "name": "python",
   "nbconvert_exporter": "python",
   "pygments_lexer": "ipython3",
   "version": "3.5.4"
  }
 },
 "nbformat": 4,
 "nbformat_minor": 2
}
